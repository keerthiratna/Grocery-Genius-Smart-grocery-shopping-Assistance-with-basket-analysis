{
 "cells": [
  {
   "cell_type": "markdown",
   "id": "dc7d97e5",
   "metadata": {},
   "source": [
    "# Market Basket Analysis"
   ]
  },
  {
   "cell_type": "code",
   "execution_count": 1,
   "id": "6c839de1",
   "metadata": {
    "_cell_guid": "b1076dfc-b9ad-4769-8c92-a6c4dae69d19",
    "_uuid": "8f2839f25d086af736a60e9eeb907d3b93b6e0e5",
    "execution": {
     "iopub.execute_input": "2024-04-04T06:20:47.053282Z",
     "iopub.status.busy": "2024-04-04T06:20:47.052010Z",
     "iopub.status.idle": "2024-04-04T06:21:06.414019Z",
     "shell.execute_reply": "2024-04-04T06:21:06.412517Z"
    },
    "papermill": {
     "duration": 19.380282,
     "end_time": "2024-04-04T06:21:06.416883",
     "exception": false,
     "start_time": "2024-04-04T06:20:47.036601",
     "status": "completed"
    },
    "tags": []
   },
   "outputs": [
    {
     "name": "stdout",
     "output_type": "stream",
     "text": [
      "Requirement already satisfied: apyori in c:\\anaconda\\lib\\site-packages (1.1.2)\n"
     ]
    }
   ],
   "source": [
    "!pip install apyori"
   ]
  },
  {
   "cell_type": "markdown",
   "id": "f4436bb0",
   "metadata": {
    "papermill": {
     "duration": 0.011714,
     "end_time": "2024-04-04T06:21:06.441537",
     "exception": false,
     "start_time": "2024-04-04T06:21:06.429823",
     "status": "completed"
    },
    "tags": []
   },
   "source": [
    "<h3>Importing Libraries</h3>"
   ]
  },
  {
   "cell_type": "code",
   "execution_count": 2,
   "id": "8f0b3ba7",
   "metadata": {
    "execution": {
     "iopub.execute_input": "2024-04-04T06:21:06.467993Z",
     "iopub.status.busy": "2024-04-04T06:21:06.467592Z",
     "iopub.status.idle": "2024-04-04T06:21:07.590189Z",
     "shell.execute_reply": "2024-04-04T06:21:07.588934Z"
    },
    "papermill": {
     "duration": 1.139796,
     "end_time": "2024-04-04T06:21:07.593451",
     "exception": false,
     "start_time": "2024-04-04T06:21:06.453655",
     "status": "completed"
    },
    "tags": []
   },
   "outputs": [],
   "source": [
    "import pandas as pd\n",
    "import numpy as np\n",
    "from apyori import apriori"
   ]
  },
  {
   "cell_type": "markdown",
   "id": "5e169104",
   "metadata": {
    "papermill": {
     "duration": 0.01167,
     "end_time": "2024-04-04T06:21:07.617794",
     "exception": false,
     "start_time": "2024-04-04T06:21:07.606124",
     "status": "completed"
    },
    "tags": []
   },
   "source": [
    " ## Data Loading \n",
    " Reading the data"
   ]
  },
  {
   "cell_type": "code",
   "execution_count": 5,
   "id": "cae63e65",
   "metadata": {
    "execution": {
     "iopub.execute_input": "2024-04-04T06:21:07.643897Z",
     "iopub.status.busy": "2024-04-04T06:21:07.643349Z",
     "iopub.status.idle": "2024-04-04T06:22:38.159960Z",
     "shell.execute_reply": "2024-04-04T06:22:38.158725Z"
    },
    "papermill": {
     "duration": 90.533108,
     "end_time": "2024-04-04T06:22:38.162936",
     "exception": false,
     "start_time": "2024-04-04T06:21:07.629828",
     "status": "completed"
    },
    "tags": []
   },
   "outputs": [],
   "source": [
    "data=pd.read_excel(\"Assignment-1_Data.xlsx\")"
   ]
  },
  {
   "cell_type": "markdown",
   "id": "daa64083",
   "metadata": {
    "papermill": {
     "duration": 0.012161,
     "end_time": "2024-04-04T06:22:38.188157",
     "exception": false,
     "start_time": "2024-04-04T06:22:38.175996",
     "status": "completed"
    },
    "tags": []
   },
   "source": [
    "## EDA\n",
    "Exploring the data"
   ]
  },
  {
   "cell_type": "code",
   "execution_count": 6,
   "id": "2916fe44",
   "metadata": {
    "execution": {
     "iopub.execute_input": "2024-04-04T06:22:38.215277Z",
     "iopub.status.busy": "2024-04-04T06:22:38.214753Z",
     "iopub.status.idle": "2024-04-04T06:22:38.370081Z",
     "shell.execute_reply": "2024-04-04T06:22:38.368814Z"
    },
    "papermill": {
     "duration": 0.171506,
     "end_time": "2024-04-04T06:22:38.372740",
     "exception": false,
     "start_time": "2024-04-04T06:22:38.201234",
     "status": "completed"
    },
    "tags": []
   },
   "outputs": [
    {
     "data": {
      "text/html": [
       "<div>\n",
       "<style scoped>\n",
       "    .dataframe tbody tr th:only-of-type {\n",
       "        vertical-align: middle;\n",
       "    }\n",
       "\n",
       "    .dataframe tbody tr th {\n",
       "        vertical-align: top;\n",
       "    }\n",
       "\n",
       "    .dataframe thead th {\n",
       "        text-align: right;\n",
       "    }\n",
       "</style>\n",
       "<table border=\"1\" class=\"dataframe\">\n",
       "  <thead>\n",
       "    <tr style=\"text-align: right;\">\n",
       "      <th></th>\n",
       "      <th>BillNo</th>\n",
       "      <th>Itemname</th>\n",
       "      <th>Quantity</th>\n",
       "      <th>Date</th>\n",
       "      <th>Price</th>\n",
       "      <th>CustomerID</th>\n",
       "      <th>Country</th>\n",
       "    </tr>\n",
       "  </thead>\n",
       "  <tbody>\n",
       "    <tr>\n",
       "      <th>0</th>\n",
       "      <td>536365</td>\n",
       "      <td>WHITE HANGING HEART T-LIGHT HOLDER</td>\n",
       "      <td>6</td>\n",
       "      <td>2010-12-01 08:26:00</td>\n",
       "      <td>2.55</td>\n",
       "      <td>17850.0</td>\n",
       "      <td>United Kingdom</td>\n",
       "    </tr>\n",
       "    <tr>\n",
       "      <th>1</th>\n",
       "      <td>536365</td>\n",
       "      <td>WHITE METAL LANTERN</td>\n",
       "      <td>6</td>\n",
       "      <td>2010-12-01 08:26:00</td>\n",
       "      <td>3.39</td>\n",
       "      <td>17850.0</td>\n",
       "      <td>United Kingdom</td>\n",
       "    </tr>\n",
       "    <tr>\n",
       "      <th>2</th>\n",
       "      <td>536365</td>\n",
       "      <td>CREAM CUPID HEARTS COAT HANGER</td>\n",
       "      <td>8</td>\n",
       "      <td>2010-12-01 08:26:00</td>\n",
       "      <td>2.75</td>\n",
       "      <td>17850.0</td>\n",
       "      <td>United Kingdom</td>\n",
       "    </tr>\n",
       "    <tr>\n",
       "      <th>3</th>\n",
       "      <td>536365</td>\n",
       "      <td>KNITTED UNION FLAG HOT WATER BOTTLE</td>\n",
       "      <td>6</td>\n",
       "      <td>2010-12-01 08:26:00</td>\n",
       "      <td>3.39</td>\n",
       "      <td>17850.0</td>\n",
       "      <td>United Kingdom</td>\n",
       "    </tr>\n",
       "    <tr>\n",
       "      <th>4</th>\n",
       "      <td>536365</td>\n",
       "      <td>RED WOOLLY HOTTIE WHITE HEART.</td>\n",
       "      <td>6</td>\n",
       "      <td>2010-12-01 08:26:00</td>\n",
       "      <td>3.39</td>\n",
       "      <td>17850.0</td>\n",
       "      <td>United Kingdom</td>\n",
       "    </tr>\n",
       "  </tbody>\n",
       "</table>\n",
       "</div>"
      ],
      "text/plain": [
       "   BillNo                             Itemname  Quantity                Date  \\\n",
       "0  536365   WHITE HANGING HEART T-LIGHT HOLDER         6 2010-12-01 08:26:00   \n",
       "1  536365                  WHITE METAL LANTERN         6 2010-12-01 08:26:00   \n",
       "2  536365       CREAM CUPID HEARTS COAT HANGER         8 2010-12-01 08:26:00   \n",
       "3  536365  KNITTED UNION FLAG HOT WATER BOTTLE         6 2010-12-01 08:26:00   \n",
       "4  536365       RED WOOLLY HOTTIE WHITE HEART.         6 2010-12-01 08:26:00   \n",
       "\n",
       "   Price  CustomerID         Country  \n",
       "0   2.55     17850.0  United Kingdom  \n",
       "1   3.39     17850.0  United Kingdom  \n",
       "2   2.75     17850.0  United Kingdom  \n",
       "3   3.39     17850.0  United Kingdom  \n",
       "4   3.39     17850.0  United Kingdom  "
      ]
     },
     "execution_count": 6,
     "metadata": {},
     "output_type": "execute_result"
    }
   ],
   "source": [
    "data.head()"
   ]
  },
  {
   "cell_type": "code",
   "execution_count": 7,
   "id": "417a3d6c",
   "metadata": {
    "execution": {
     "iopub.execute_input": "2024-04-04T06:22:38.399422Z",
     "iopub.status.busy": "2024-04-04T06:22:38.398331Z",
     "iopub.status.idle": "2024-04-04T06:22:38.405866Z",
     "shell.execute_reply": "2024-04-04T06:22:38.404644Z"
    },
    "papermill": {
     "duration": 0.0234,
     "end_time": "2024-04-04T06:22:38.408347",
     "exception": false,
     "start_time": "2024-04-04T06:22:38.384947",
     "status": "completed"
    },
    "tags": []
   },
   "outputs": [
    {
     "data": {
      "text/plain": [
       "(522064, 7)"
      ]
     },
     "execution_count": 7,
     "metadata": {},
     "output_type": "execute_result"
    }
   ],
   "source": [
    "data.shape"
   ]
  },
  {
   "cell_type": "code",
   "execution_count": 8,
   "id": "22c7c1bc",
   "metadata": {
    "execution": {
     "iopub.execute_input": "2024-04-04T06:22:38.434913Z",
     "iopub.status.busy": "2024-04-04T06:22:38.434524Z",
     "iopub.status.idle": "2024-04-04T06:22:38.629933Z",
     "shell.execute_reply": "2024-04-04T06:22:38.628273Z"
    },
    "papermill": {
     "duration": 0.211914,
     "end_time": "2024-04-04T06:22:38.632708",
     "exception": false,
     "start_time": "2024-04-04T06:22:38.420794",
     "status": "completed"
    },
    "tags": []
   },
   "outputs": [
    {
     "name": "stdout",
     "output_type": "stream",
     "text": [
      "<class 'pandas.core.frame.DataFrame'>\n",
      "RangeIndex: 522064 entries, 0 to 522063\n",
      "Data columns (total 7 columns):\n",
      " #   Column      Non-Null Count   Dtype         \n",
      "---  ------      --------------   -----         \n",
      " 0   BillNo      522064 non-null  object        \n",
      " 1   Itemname    520609 non-null  object        \n",
      " 2   Quantity    522064 non-null  int64         \n",
      " 3   Date        522064 non-null  datetime64[ns]\n",
      " 4   Price       522064 non-null  float64       \n",
      " 5   CustomerID  388023 non-null  float64       \n",
      " 6   Country     522064 non-null  object        \n",
      "dtypes: datetime64[ns](1), float64(2), int64(1), object(3)\n",
      "memory usage: 27.9+ MB\n"
     ]
    }
   ],
   "source": [
    "data.info()"
   ]
  },
  {
   "cell_type": "code",
   "execution_count": 9,
   "id": "d1c0d3be",
   "metadata": {
    "execution": {
     "iopub.execute_input": "2024-04-04T06:22:38.659658Z",
     "iopub.status.busy": "2024-04-04T06:22:38.659237Z",
     "iopub.status.idle": "2024-04-04T06:22:38.756823Z",
     "shell.execute_reply": "2024-04-04T06:22:38.755773Z"
    },
    "papermill": {
     "duration": 0.113821,
     "end_time": "2024-04-04T06:22:38.759285",
     "exception": false,
     "start_time": "2024-04-04T06:22:38.645464",
     "status": "completed"
    },
    "tags": []
   },
   "outputs": [
    {
     "data": {
      "text/html": [
       "<div>\n",
       "<style scoped>\n",
       "    .dataframe tbody tr th:only-of-type {\n",
       "        vertical-align: middle;\n",
       "    }\n",
       "\n",
       "    .dataframe tbody tr th {\n",
       "        vertical-align: top;\n",
       "    }\n",
       "\n",
       "    .dataframe thead th {\n",
       "        text-align: right;\n",
       "    }\n",
       "</style>\n",
       "<table border=\"1\" class=\"dataframe\">\n",
       "  <thead>\n",
       "    <tr style=\"text-align: right;\">\n",
       "      <th></th>\n",
       "      <th>Quantity</th>\n",
       "      <th>Date</th>\n",
       "      <th>Price</th>\n",
       "      <th>CustomerID</th>\n",
       "    </tr>\n",
       "  </thead>\n",
       "  <tbody>\n",
       "    <tr>\n",
       "      <th>count</th>\n",
       "      <td>522064.000000</td>\n",
       "      <td>522064</td>\n",
       "      <td>522064.000000</td>\n",
       "      <td>388023.000000</td>\n",
       "    </tr>\n",
       "    <tr>\n",
       "      <th>mean</th>\n",
       "      <td>10.090435</td>\n",
       "      <td>2011-07-04 12:51:20.777107456</td>\n",
       "      <td>3.826801</td>\n",
       "      <td>15316.931710</td>\n",
       "    </tr>\n",
       "    <tr>\n",
       "      <th>min</th>\n",
       "      <td>-9600.000000</td>\n",
       "      <td>2010-12-01 08:26:00</td>\n",
       "      <td>-11062.060000</td>\n",
       "      <td>12346.000000</td>\n",
       "    </tr>\n",
       "    <tr>\n",
       "      <th>25%</th>\n",
       "      <td>1.000000</td>\n",
       "      <td>2011-03-28 10:15:00</td>\n",
       "      <td>1.250000</td>\n",
       "      <td>13950.000000</td>\n",
       "    </tr>\n",
       "    <tr>\n",
       "      <th>50%</th>\n",
       "      <td>3.000000</td>\n",
       "      <td>2011-07-20 08:59:00</td>\n",
       "      <td>2.080000</td>\n",
       "      <td>15265.000000</td>\n",
       "    </tr>\n",
       "    <tr>\n",
       "      <th>75%</th>\n",
       "      <td>10.000000</td>\n",
       "      <td>2011-10-19 14:12:00</td>\n",
       "      <td>4.130000</td>\n",
       "      <td>16837.000000</td>\n",
       "    </tr>\n",
       "    <tr>\n",
       "      <th>max</th>\n",
       "      <td>80995.000000</td>\n",
       "      <td>2011-12-09 12:50:00</td>\n",
       "      <td>13541.330000</td>\n",
       "      <td>18287.000000</td>\n",
       "    </tr>\n",
       "    <tr>\n",
       "      <th>std</th>\n",
       "      <td>161.110525</td>\n",
       "      <td>NaN</td>\n",
       "      <td>41.900599</td>\n",
       "      <td>1721.846964</td>\n",
       "    </tr>\n",
       "  </tbody>\n",
       "</table>\n",
       "</div>"
      ],
      "text/plain": [
       "            Quantity                           Date          Price  \\\n",
       "count  522064.000000                         522064  522064.000000   \n",
       "mean       10.090435  2011-07-04 12:51:20.777107456       3.826801   \n",
       "min     -9600.000000            2010-12-01 08:26:00  -11062.060000   \n",
       "25%         1.000000            2011-03-28 10:15:00       1.250000   \n",
       "50%         3.000000            2011-07-20 08:59:00       2.080000   \n",
       "75%        10.000000            2011-10-19 14:12:00       4.130000   \n",
       "max     80995.000000            2011-12-09 12:50:00   13541.330000   \n",
       "std       161.110525                            NaN      41.900599   \n",
       "\n",
       "          CustomerID  \n",
       "count  388023.000000  \n",
       "mean    15316.931710  \n",
       "min     12346.000000  \n",
       "25%     13950.000000  \n",
       "50%     15265.000000  \n",
       "75%     16837.000000  \n",
       "max     18287.000000  \n",
       "std      1721.846964  "
      ]
     },
     "execution_count": 9,
     "metadata": {},
     "output_type": "execute_result"
    }
   ],
   "source": [
    "data.describe()"
   ]
  },
  {
   "cell_type": "markdown",
   "id": "2381d2ea",
   "metadata": {
    "papermill": {
     "duration": 0.012387,
     "end_time": "2024-04-04T06:22:38.784594",
     "exception": false,
     "start_time": "2024-04-04T06:22:38.772207",
     "status": "completed"
    },
    "tags": []
   },
   "source": [
    "## Data Preprocessing"
   ]
  },
  {
   "cell_type": "markdown",
   "id": "61039784",
   "metadata": {
    "papermill": {
     "duration": 0.012393,
     "end_time": "2024-04-04T06:22:38.809675",
     "exception": false,
     "start_time": "2024-04-04T06:22:38.797282",
     "status": "completed"
    },
    "tags": []
   },
   "source": [
    "<b><p style='font-size:19px'>Handling null values</p></b>"
   ]
  },
  {
   "cell_type": "code",
   "execution_count": 8,
   "id": "7d442df0",
   "metadata": {
    "execution": {
     "iopub.execute_input": "2024-04-04T06:22:38.836929Z",
     "iopub.status.busy": "2024-04-04T06:22:38.836564Z",
     "iopub.status.idle": "2024-04-04T06:22:39.016178Z",
     "shell.execute_reply": "2024-04-04T06:22:39.014922Z"
    },
    "papermill": {
     "duration": 0.196551,
     "end_time": "2024-04-04T06:22:39.018943",
     "exception": false,
     "start_time": "2024-04-04T06:22:38.822392",
     "status": "completed"
    },
    "tags": []
   },
   "outputs": [
    {
     "data": {
      "text/plain": [
       "BillNo             0\n",
       "Itemname        1455\n",
       "Quantity           0\n",
       "Date               0\n",
       "Price              0\n",
       "CustomerID    134041\n",
       "Country            0\n",
       "dtype: int64"
      ]
     },
     "execution_count": 8,
     "metadata": {},
     "output_type": "execute_result"
    }
   ],
   "source": [
    "data.isnull().sum()"
   ]
  },
  {
   "cell_type": "markdown",
   "id": "2b80e34d",
   "metadata": {
    "papermill": {
     "duration": 0.013037,
     "end_time": "2024-04-04T06:22:39.045065",
     "exception": false,
     "start_time": "2024-04-04T06:22:39.032028",
     "status": "completed"
    },
    "tags": []
   },
   "source": [
    "<b style='font-size:18px'>We remove the null values from the data with respect to the Itemname.</b>"
   ]
  },
  {
   "cell_type": "code",
   "execution_count": 17,
   "id": "d0b09dcd",
   "metadata": {
    "execution": {
     "iopub.execute_input": "2024-04-04T06:22:39.072727Z",
     "iopub.status.busy": "2024-04-04T06:22:39.072314Z",
     "iopub.status.idle": "2024-04-04T06:22:39.181276Z",
     "shell.execute_reply": "2024-04-04T06:22:39.180186Z"
    },
    "papermill": {
     "duration": 0.126216,
     "end_time": "2024-04-04T06:22:39.184202",
     "exception": false,
     "start_time": "2024-04-04T06:22:39.057986",
     "status": "completed"
    },
    "tags": []
   },
   "outputs": [],
   "source": [
    "data.dropna(subset=['Itemname'],inplace=True)"
   ]
  },
  {
   "cell_type": "code",
   "execution_count": 18,
   "id": "e23b2886",
   "metadata": {
    "execution": {
     "iopub.execute_input": "2024-04-04T06:22:39.212654Z",
     "iopub.status.busy": "2024-04-04T06:22:39.212248Z",
     "iopub.status.idle": "2024-04-04T06:22:39.389965Z",
     "shell.execute_reply": "2024-04-04T06:22:39.388800Z"
    },
    "papermill": {
     "duration": 0.195422,
     "end_time": "2024-04-04T06:22:39.392645",
     "exception": false,
     "start_time": "2024-04-04T06:22:39.197223",
     "status": "completed"
    },
    "tags": []
   },
   "outputs": [
    {
     "data": {
      "text/plain": [
       "BillNo             0\n",
       "Itemname           0\n",
       "Quantity           0\n",
       "Date               0\n",
       "Price              0\n",
       "CustomerID    132512\n",
       "Country            0\n",
       "dtype: int64"
      ]
     },
     "execution_count": 18,
     "metadata": {},
     "output_type": "execute_result"
    }
   ],
   "source": [
    "data.isnull().sum()"
   ]
  },
  {
   "cell_type": "markdown",
   "id": "ec413669",
   "metadata": {
    "papermill": {
     "duration": 0.013062,
     "end_time": "2024-04-04T06:22:39.419112",
     "exception": false,
     "start_time": "2024-04-04T06:22:39.406050",
     "status": "completed"
    },
    "tags": []
   },
   "source": [
    "<b><p style='font-size:19px'>Handling Duplicates</p></b>"
   ]
  },
  {
   "cell_type": "code",
   "execution_count": 19,
   "id": "3eb8c836",
   "metadata": {
    "execution": {
     "iopub.execute_input": "2024-04-04T06:22:39.447214Z",
     "iopub.status.busy": "2024-04-04T06:22:39.446843Z",
     "iopub.status.idle": "2024-04-04T06:22:39.787914Z",
     "shell.execute_reply": "2024-04-04T06:22:39.786681Z"
    },
    "papermill": {
     "duration": 0.358145,
     "end_time": "2024-04-04T06:22:39.790549",
     "exception": false,
     "start_time": "2024-04-04T06:22:39.432404",
     "status": "completed"
    },
    "tags": []
   },
   "outputs": [
    {
     "data": {
      "text/plain": [
       "0"
      ]
     },
     "execution_count": 19,
     "metadata": {},
     "output_type": "execute_result"
    }
   ],
   "source": [
    "data.duplicated().sum()"
   ]
  },
  {
   "cell_type": "code",
   "execution_count": 20,
   "id": "dea18e4c",
   "metadata": {
    "execution": {
     "iopub.execute_input": "2024-04-04T06:22:39.819076Z",
     "iopub.status.busy": "2024-04-04T06:22:39.818220Z",
     "iopub.status.idle": "2024-04-04T06:22:40.145642Z",
     "shell.execute_reply": "2024-04-04T06:22:40.144434Z"
    },
    "papermill": {
     "duration": 0.344606,
     "end_time": "2024-04-04T06:22:40.148437",
     "exception": false,
     "start_time": "2024-04-04T06:22:39.803831",
     "status": "completed"
    },
    "tags": []
   },
   "outputs": [],
   "source": [
    "data.drop_duplicates(inplace=True)"
   ]
  },
  {
   "cell_type": "code",
   "execution_count": 21,
   "id": "054f7caa",
   "metadata": {
    "execution": {
     "iopub.execute_input": "2024-04-04T06:22:40.177082Z",
     "iopub.status.busy": "2024-04-04T06:22:40.176655Z",
     "iopub.status.idle": "2024-04-04T06:22:40.467538Z",
     "shell.execute_reply": "2024-04-04T06:22:40.466312Z"
    },
    "papermill": {
     "duration": 0.308169,
     "end_time": "2024-04-04T06:22:40.470040",
     "exception": false,
     "start_time": "2024-04-04T06:22:40.161871",
     "status": "completed"
    },
    "tags": []
   },
   "outputs": [
    {
     "data": {
      "text/plain": [
       "0"
      ]
     },
     "execution_count": 21,
     "metadata": {},
     "output_type": "execute_result"
    }
   ],
   "source": [
    "data.duplicated().sum()"
   ]
  },
  {
   "cell_type": "code",
   "execution_count": 22,
   "id": "69f64792",
   "metadata": {
    "execution": {
     "iopub.execute_input": "2024-04-04T06:22:40.524659Z",
     "iopub.status.busy": "2024-04-04T06:22:40.524246Z",
     "iopub.status.idle": "2024-04-04T06:22:40.539817Z",
     "shell.execute_reply": "2024-04-04T06:22:40.538723Z"
    },
    "papermill": {
     "duration": 0.032209,
     "end_time": "2024-04-04T06:22:40.541962",
     "exception": false,
     "start_time": "2024-04-04T06:22:40.509753",
     "status": "completed"
    },
    "tags": []
   },
   "outputs": [
    {
     "data": {
      "text/html": [
       "<div>\n",
       "<style scoped>\n",
       "    .dataframe tbody tr th:only-of-type {\n",
       "        vertical-align: middle;\n",
       "    }\n",
       "\n",
       "    .dataframe tbody tr th {\n",
       "        vertical-align: top;\n",
       "    }\n",
       "\n",
       "    .dataframe thead th {\n",
       "        text-align: right;\n",
       "    }\n",
       "</style>\n",
       "<table border=\"1\" class=\"dataframe\">\n",
       "  <thead>\n",
       "    <tr style=\"text-align: right;\">\n",
       "      <th></th>\n",
       "      <th>BillNo</th>\n",
       "      <th>Itemname</th>\n",
       "      <th>Quantity</th>\n",
       "      <th>Date</th>\n",
       "      <th>Price</th>\n",
       "      <th>CustomerID</th>\n",
       "      <th>Country</th>\n",
       "    </tr>\n",
       "  </thead>\n",
       "  <tbody>\n",
       "    <tr>\n",
       "      <th>0</th>\n",
       "      <td>536365</td>\n",
       "      <td>WHITE HANGING HEART T-LIGHT HOLDER</td>\n",
       "      <td>6</td>\n",
       "      <td>2010-12-01 08:26:00</td>\n",
       "      <td>2.55</td>\n",
       "      <td>17850.0</td>\n",
       "      <td>United Kingdom</td>\n",
       "    </tr>\n",
       "    <tr>\n",
       "      <th>1</th>\n",
       "      <td>536365</td>\n",
       "      <td>WHITE METAL LANTERN</td>\n",
       "      <td>6</td>\n",
       "      <td>2010-12-01 08:26:00</td>\n",
       "      <td>3.39</td>\n",
       "      <td>17850.0</td>\n",
       "      <td>United Kingdom</td>\n",
       "    </tr>\n",
       "    <tr>\n",
       "      <th>2</th>\n",
       "      <td>536365</td>\n",
       "      <td>CREAM CUPID HEARTS COAT HANGER</td>\n",
       "      <td>8</td>\n",
       "      <td>2010-12-01 08:26:00</td>\n",
       "      <td>2.75</td>\n",
       "      <td>17850.0</td>\n",
       "      <td>United Kingdom</td>\n",
       "    </tr>\n",
       "    <tr>\n",
       "      <th>3</th>\n",
       "      <td>536365</td>\n",
       "      <td>KNITTED UNION FLAG HOT WATER BOTTLE</td>\n",
       "      <td>6</td>\n",
       "      <td>2010-12-01 08:26:00</td>\n",
       "      <td>3.39</td>\n",
       "      <td>17850.0</td>\n",
       "      <td>United Kingdom</td>\n",
       "    </tr>\n",
       "    <tr>\n",
       "      <th>4</th>\n",
       "      <td>536365</td>\n",
       "      <td>RED WOOLLY HOTTIE WHITE HEART.</td>\n",
       "      <td>6</td>\n",
       "      <td>2010-12-01 08:26:00</td>\n",
       "      <td>3.39</td>\n",
       "      <td>17850.0</td>\n",
       "      <td>United Kingdom</td>\n",
       "    </tr>\n",
       "  </tbody>\n",
       "</table>\n",
       "</div>"
      ],
      "text/plain": [
       "   BillNo                             Itemname  Quantity                Date  \\\n",
       "0  536365   WHITE HANGING HEART T-LIGHT HOLDER         6 2010-12-01 08:26:00   \n",
       "1  536365                  WHITE METAL LANTERN         6 2010-12-01 08:26:00   \n",
       "2  536365       CREAM CUPID HEARTS COAT HANGER         8 2010-12-01 08:26:00   \n",
       "3  536365  KNITTED UNION FLAG HOT WATER BOTTLE         6 2010-12-01 08:26:00   \n",
       "4  536365       RED WOOLLY HOTTIE WHITE HEART.         6 2010-12-01 08:26:00   \n",
       "\n",
       "   Price  CustomerID         Country  \n",
       "0   2.55     17850.0  United Kingdom  \n",
       "1   3.39     17850.0  United Kingdom  \n",
       "2   2.75     17850.0  United Kingdom  \n",
       "3   3.39     17850.0  United Kingdom  \n",
       "4   3.39     17850.0  United Kingdom  "
      ]
     },
     "execution_count": 22,
     "metadata": {},
     "output_type": "execute_result"
    }
   ],
   "source": [
    "data.head()"
   ]
  },
  {
   "cell_type": "markdown",
   "id": "3bd6a23c",
   "metadata": {
    "papermill": {
     "duration": 0.013397,
     "end_time": "2024-04-04T06:22:40.568874",
     "exception": false,
     "start_time": "2024-04-04T06:22:40.555477",
     "status": "completed"
    },
    "tags": []
   },
   "source": [
    "<b style='font-size:18px'>Let's extract Itemnames for each BillNo. and store it in a list.</b>"
   ]
  },
  {
   "cell_type": "code",
   "execution_count": 23,
   "id": "8c49bb57",
   "metadata": {
    "execution": {
     "iopub.execute_input": "2024-04-04T06:22:40.598284Z",
     "iopub.status.busy": "2024-04-04T06:22:40.597867Z",
     "iopub.status.idle": "2024-04-04T06:22:42.107170Z",
     "shell.execute_reply": "2024-04-04T06:22:42.105908Z"
    },
    "papermill": {
     "duration": 1.527265,
     "end_time": "2024-04-04T06:22:42.110180",
     "exception": false,
     "start_time": "2024-04-04T06:22:40.582915",
     "status": "completed"
    },
    "tags": []
   },
   "outputs": [],
   "source": [
    "items=data.set_index(['BillNo']).stack()"
   ]
  },
  {
   "cell_type": "code",
   "execution_count": 24,
   "id": "1575e76c",
   "metadata": {
    "execution": {
     "iopub.execute_input": "2024-04-04T06:22:42.141201Z",
     "iopub.status.busy": "2024-04-04T06:22:42.140798Z",
     "iopub.status.idle": "2024-04-04T06:22:42.157421Z",
     "shell.execute_reply": "2024-04-04T06:22:42.156329Z"
    },
    "papermill": {
     "duration": 0.036085,
     "end_time": "2024-04-04T06:22:42.159931",
     "exception": false,
     "start_time": "2024-04-04T06:22:42.123846",
     "status": "completed"
    },
    "tags": []
   },
   "outputs": [
    {
     "data": {
      "text/plain": [
       "BillNo            \n",
       "536365  Itemname      WHITE HANGING HEART T-LIGHT HOLDER\n",
       "        Quantity                                       6\n",
       "        Date                         2010-12-01 08:26:00\n",
       "        Price                                       2.55\n",
       "        CustomerID                               17850.0\n",
       "                                     ...                \n",
       "581587  Quantity                                       3\n",
       "        Date                         2011-12-09 12:50:00\n",
       "        Price                                       4.95\n",
       "        CustomerID                               12680.0\n",
       "        Country                                   France\n",
       "Length: 2959426, dtype: object"
      ]
     },
     "execution_count": 24,
     "metadata": {},
     "output_type": "execute_result"
    }
   ],
   "source": [
    "items"
   ]
  },
  {
   "cell_type": "code",
   "execution_count": 25,
   "id": "32c9d22c",
   "metadata": {
    "execution": {
     "iopub.execute_input": "2024-04-04T06:22:42.190541Z",
     "iopub.status.busy": "2024-04-04T06:22:42.189873Z",
     "iopub.status.idle": "2024-04-04T06:22:42.195888Z",
     "shell.execute_reply": "2024-04-04T06:22:42.194956Z"
    },
    "papermill": {
     "duration": 0.02461,
     "end_time": "2024-04-04T06:22:42.198257",
     "exception": false,
     "start_time": "2024-04-04T06:22:42.173647",
     "status": "completed"
    },
    "tags": []
   },
   "outputs": [],
   "source": [
    "item=pd.DataFrame(items)"
   ]
  },
  {
   "cell_type": "code",
   "execution_count": 26,
   "id": "e22bb2ba",
   "metadata": {
    "execution": {
     "iopub.execute_input": "2024-04-04T06:22:42.228312Z",
     "iopub.status.busy": "2024-04-04T06:22:42.227677Z",
     "iopub.status.idle": "2024-04-04T06:22:42.233200Z",
     "shell.execute_reply": "2024-04-04T06:22:42.232423Z"
    },
    "papermill": {
     "duration": 0.023822,
     "end_time": "2024-04-04T06:22:42.235970",
     "exception": false,
     "start_time": "2024-04-04T06:22:42.212148",
     "status": "completed"
    },
    "tags": []
   },
   "outputs": [],
   "source": [
    "item.rename(columns={0:'list'},inplace=True)"
   ]
  },
  {
   "cell_type": "code",
   "execution_count": 27,
   "id": "44b0e902",
   "metadata": {
    "execution": {
     "iopub.execute_input": "2024-04-04T06:22:42.266089Z",
     "iopub.status.busy": "2024-04-04T06:22:42.265451Z",
     "iopub.status.idle": "2024-04-04T06:22:42.275650Z",
     "shell.execute_reply": "2024-04-04T06:22:42.274527Z"
    },
    "papermill": {
     "duration": 0.02804,
     "end_time": "2024-04-04T06:22:42.277951",
     "exception": false,
     "start_time": "2024-04-04T06:22:42.249911",
     "status": "completed"
    },
    "tags": []
   },
   "outputs": [
    {
     "data": {
      "text/plain": [
       "Index([   536365,    536366,    536367,    536368,    536369,    536370,\n",
       "          536371,    536372,    536373,    536374,\n",
       "       ...\n",
       "          581581,    581582,    581583,    581584,    581585,    581586,\n",
       "          581587, 'A563185', 'A563186', 'A563187'],\n",
       "      dtype='object', name='BillNo', length=20208)"
      ]
     },
     "execution_count": 27,
     "metadata": {},
     "output_type": "execute_result"
    }
   ],
   "source": [
    "item.index.levels[0]"
   ]
  },
  {
   "cell_type": "code",
   "execution_count": 28,
   "id": "5c6f5673",
   "metadata": {
    "execution": {
     "iopub.execute_input": "2024-04-04T06:22:42.307882Z",
     "iopub.status.busy": "2024-04-04T06:22:42.307177Z",
     "iopub.status.idle": "2024-04-04T06:23:40.174887Z",
     "shell.execute_reply": "2024-04-04T06:23:40.173953Z"
    },
    "papermill": {
     "duration": 57.88572,
     "end_time": "2024-04-04T06:23:40.177551",
     "exception": false,
     "start_time": "2024-04-04T06:22:42.291831",
     "status": "completed"
    },
    "tags": []
   },
   "outputs": [],
   "source": [
    "products=[]\n",
    "\n",
    "for i in (item.index.levels[0]):\n",
    "    product=item.loc[(i,['Itemname']),'list'].to_list()\n",
    "    \n",
    "    products.append(product)"
   ]
  },
  {
   "cell_type": "code",
   "execution_count": 29,
   "id": "35c920c5",
   "metadata": {
    "execution": {
     "iopub.execute_input": "2024-04-04T06:23:40.207457Z",
     "iopub.status.busy": "2024-04-04T06:23:40.207015Z",
     "iopub.status.idle": "2024-04-04T06:23:40.214838Z",
     "shell.execute_reply": "2024-04-04T06:23:40.213640Z"
    },
    "papermill": {
     "duration": 0.026254,
     "end_time": "2024-04-04T06:23:40.217881",
     "exception": false,
     "start_time": "2024-04-04T06:23:40.191627",
     "status": "completed"
    },
    "tags": []
   },
   "outputs": [
    {
     "data": {
      "text/plain": [
       "[['WHITE HANGING HEART T-LIGHT HOLDER',\n",
       "  'WHITE METAL LANTERN',\n",
       "  'CREAM CUPID HEARTS COAT HANGER',\n",
       "  'KNITTED UNION FLAG HOT WATER BOTTLE',\n",
       "  'RED WOOLLY HOTTIE WHITE HEART.',\n",
       "  'SET 7 BABUSHKA NESTING BOXES',\n",
       "  'GLASS STAR FROSTED T-LIGHT HOLDER'],\n",
       " ['HAND WARMER UNION JACK', 'HAND WARMER RED POLKA DOT'],\n",
       " ['ASSORTED COLOUR BIRD ORNAMENT',\n",
       "  \"POPPY'S PLAYHOUSE BEDROOM\",\n",
       "  \"POPPY'S PLAYHOUSE KITCHEN\",\n",
       "  'FELTCRAFT PRINCESS CHARLOTTE DOLL',\n",
       "  'IVORY KNITTED MUG COSY',\n",
       "  'BOX OF 6 ASSORTED COLOUR TEASPOONS',\n",
       "  'BOX OF VINTAGE JIGSAW BLOCKS',\n",
       "  'BOX OF VINTAGE ALPHABET BLOCKS',\n",
       "  'HOME BUILDING BLOCK WORD',\n",
       "  'LOVE BUILDING BLOCK WORD',\n",
       "  'RECIPE BOX WITH METAL HEART',\n",
       "  'DOORMAT NEW ENGLAND'],\n",
       " ['JAM MAKING SET WITH JARS',\n",
       "  'RED COAT RACK PARIS FASHION',\n",
       "  'YELLOW COAT RACK PARIS FASHION',\n",
       "  'BLUE COAT RACK PARIS FASHION'],\n",
       " ['BATH BUILDING BLOCK WORD']]"
      ]
     },
     "execution_count": 29,
     "metadata": {},
     "output_type": "execute_result"
    }
   ],
   "source": [
    "products[0:5]"
   ]
  },
  {
   "cell_type": "markdown",
   "id": "5ba20b4b",
   "metadata": {
    "papermill": {
     "duration": 0.014048,
     "end_time": "2024-04-04T06:23:40.246438",
     "exception": false,
     "start_time": "2024-04-04T06:23:40.232390",
     "status": "completed"
    },
    "tags": []
   },
   "source": [
    "## Model selection  And Training Model\n",
    "Buliding rules to the Apriori model"
   ]
  },
  {
   "cell_type": "code",
   "execution_count": 31,
   "id": "f5606de8",
   "metadata": {
    "execution": {
     "iopub.execute_input": "2024-04-04T06:23:40.276857Z",
     "iopub.status.busy": "2024-04-04T06:23:40.276477Z",
     "iopub.status.idle": "2024-04-04T06:23:40.281422Z",
     "shell.execute_reply": "2024-04-04T06:23:40.280359Z"
    },
    "papermill": {
     "duration": 0.02294,
     "end_time": "2024-04-04T06:23:40.283843",
     "exception": false,
     "start_time": "2024-04-04T06:23:40.260903",
     "status": "completed"
    },
    "tags": []
   },
   "outputs": [],
   "source": [
    "rules=apriori(transactions=products,min_support=0.003,min_confidence=0.8,min_lift=3,min_length=2,max_length=3)"
   ]
  },
  {
   "cell_type": "code",
   "execution_count": 32,
   "id": "9c66e07c",
   "metadata": {
    "execution": {
     "iopub.execute_input": "2024-04-04T06:23:40.314190Z",
     "iopub.status.busy": "2024-04-04T06:23:40.313314Z",
     "iopub.status.idle": "2024-04-04T06:36:21.003127Z",
     "shell.execute_reply": "2024-04-04T06:36:21.001848Z"
    },
    "papermill": {
     "duration": 760.708128,
     "end_time": "2024-04-04T06:36:21.006213",
     "exception": false,
     "start_time": "2024-04-04T06:23:40.298085",
     "status": "completed"
    },
    "tags": []
   },
   "outputs": [],
   "source": [
    "results=list(rules)"
   ]
  },
  {
   "cell_type": "markdown",
   "id": "3bc859d1",
   "metadata": {},
   "source": [
    "## Model Evaluation or Validation"
   ]
  },
  {
   "cell_type": "code",
   "execution_count": 33,
   "id": "efc15f8b",
   "metadata": {
    "execution": {
     "iopub.execute_input": "2024-04-04T06:36:21.036763Z",
     "iopub.status.busy": "2024-04-04T06:36:21.036351Z",
     "iopub.status.idle": "2024-04-04T06:36:21.043769Z",
     "shell.execute_reply": "2024-04-04T06:36:21.042660Z"
    },
    "papermill": {
     "duration": 0.025526,
     "end_time": "2024-04-04T06:36:21.046329",
     "exception": false,
     "start_time": "2024-04-04T06:36:21.020803",
     "status": "completed"
    },
    "tags": []
   },
   "outputs": [],
   "source": [
    "def inspect(results):\n",
    "    lhs=[tuple(result[2][0][0])[0] for result in results]\n",
    "    rhs=[tuple(result[2][0][1])[0] for result in results]\n",
    "    supports=[result[1] for result in results]\n",
    "    confidences=[result[2][0][2] for result in results]\n",
    "    lifts=[result[2][0][3] for result in results]\n",
    "\n",
    "    return list(zip(lhs,rhs,supports,confidences,lifts))"
   ]
  },
  {
   "cell_type": "code",
   "execution_count": 25,
   "id": "d0011579",
   "metadata": {
    "execution": {
     "iopub.execute_input": "2024-04-04T06:36:21.077222Z",
     "iopub.status.busy": "2024-04-04T06:36:21.076854Z",
     "iopub.status.idle": "2024-04-04T06:36:21.109281Z",
     "shell.execute_reply": "2024-04-04T06:36:21.108258Z"
    },
    "papermill": {
     "duration": 0.050957,
     "end_time": "2024-04-04T06:36:21.112138",
     "exception": false,
     "start_time": "2024-04-04T06:36:21.061181",
     "status": "completed"
    },
    "tags": []
   },
   "outputs": [],
   "source": [
    "result=pd.DataFrame(inspect(results),columns=['Left Hand Side','Right Hand Side','Support','Confidence','Lift'])"
   ]
  },
  {
   "cell_type": "code",
   "execution_count": 26,
   "id": "83c4cf67",
   "metadata": {
    "execution": {
     "iopub.execute_input": "2024-04-04T06:36:21.208337Z",
     "iopub.status.busy": "2024-04-04T06:36:21.207551Z",
     "iopub.status.idle": "2024-04-04T06:36:21.225910Z",
     "shell.execute_reply": "2024-04-04T06:36:21.224841Z"
    },
    "papermill": {
     "duration": 0.101335,
     "end_time": "2024-04-04T06:36:21.228226",
     "exception": false,
     "start_time": "2024-04-04T06:36:21.126891",
     "status": "completed"
    },
    "tags": []
   },
   "outputs": [
    {
     "data": {
      "text/html": [
       "<div>\n",
       "<style scoped>\n",
       "    .dataframe tbody tr th:only-of-type {\n",
       "        vertical-align: middle;\n",
       "    }\n",
       "\n",
       "    .dataframe tbody tr th {\n",
       "        vertical-align: top;\n",
       "    }\n",
       "\n",
       "    .dataframe thead th {\n",
       "        text-align: right;\n",
       "    }\n",
       "</style>\n",
       "<table border=\"1\" class=\"dataframe\">\n",
       "  <thead>\n",
       "    <tr style=\"text-align: right;\">\n",
       "      <th></th>\n",
       "      <th>Left Hand Side</th>\n",
       "      <th>Right Hand Side</th>\n",
       "      <th>Support</th>\n",
       "      <th>Confidence</th>\n",
       "      <th>Lift</th>\n",
       "    </tr>\n",
       "  </thead>\n",
       "  <tbody>\n",
       "    <tr>\n",
       "      <th>1119</th>\n",
       "      <td>CHARLIE+LOLA PINK HOT WATER BOTTLE</td>\n",
       "      <td>DOTCOM POSTAGE</td>\n",
       "      <td>0.004107</td>\n",
       "      <td>1.0</td>\n",
       "      <td>28.542373</td>\n",
       "    </tr>\n",
       "    <tr>\n",
       "      <th>2560</th>\n",
       "      <td>CANDY SPOT CUSHION COVER</td>\n",
       "      <td>DOTCOM POSTAGE</td>\n",
       "      <td>0.003068</td>\n",
       "      <td>1.0</td>\n",
       "      <td>28.542373</td>\n",
       "    </tr>\n",
       "    <tr>\n",
       "      <th>1599</th>\n",
       "      <td>RED RETROSPOT CHARLOTTE BAG</td>\n",
       "      <td>DOTCOM POSTAGE</td>\n",
       "      <td>0.005641</td>\n",
       "      <td>1.0</td>\n",
       "      <td>28.542373</td>\n",
       "    </tr>\n",
       "    <tr>\n",
       "      <th>1598</th>\n",
       "      <td>RECYCLING BAG RETROSPOT</td>\n",
       "      <td>DOTCOM POSTAGE</td>\n",
       "      <td>0.005592</td>\n",
       "      <td>1.0</td>\n",
       "      <td>28.542373</td>\n",
       "    </tr>\n",
       "    <tr>\n",
       "      <th>1596</th>\n",
       "      <td>PINK VINTAGE PAISLEY PICNIC BAG</td>\n",
       "      <td>DOTCOM POSTAGE</td>\n",
       "      <td>0.003365</td>\n",
       "      <td>1.0</td>\n",
       "      <td>28.542373</td>\n",
       "    </tr>\n",
       "    <tr>\n",
       "      <th>...</th>\n",
       "      <td>...</td>\n",
       "      <td>...</td>\n",
       "      <td>...</td>\n",
       "      <td>...</td>\n",
       "      <td>...</td>\n",
       "    </tr>\n",
       "    <tr>\n",
       "      <th>3652</th>\n",
       "      <td>CHARLIE+LOLA PINK HOT WATER BOTTLE</td>\n",
       "      <td>SUKI  SHOULDER BAG</td>\n",
       "      <td>0.003167</td>\n",
       "      <td>0.8</td>\n",
       "      <td>30.676281</td>\n",
       "    </tr>\n",
       "    <tr>\n",
       "      <th>9805</th>\n",
       "      <td>WHITE HANGING HEART T-LIGHT HOLDER</td>\n",
       "      <td>JAM MAKING SET PRINTED</td>\n",
       "      <td>0.003167</td>\n",
       "      <td>0.8</td>\n",
       "      <td>14.486022</td>\n",
       "    </tr>\n",
       "    <tr>\n",
       "      <th>9815</th>\n",
       "      <td>ROLL WRAP VINTAGE CHRISTMAS</td>\n",
       "      <td>RECIPE BOX PANTRY YELLOW DESIGN</td>\n",
       "      <td>0.003167</td>\n",
       "      <td>0.8</td>\n",
       "      <td>14.899908</td>\n",
       "    </tr>\n",
       "    <tr>\n",
       "      <th>5912</th>\n",
       "      <td>GREEN REGENCY TEACUP AND SAUCER</td>\n",
       "      <td>DOTCOM POSTAGE</td>\n",
       "      <td>0.004751</td>\n",
       "      <td>0.8</td>\n",
       "      <td>22.833898</td>\n",
       "    </tr>\n",
       "    <tr>\n",
       "      <th>1849</th>\n",
       "      <td>WALL TIDY RETROSPOT</td>\n",
       "      <td>SKULL SHOULDER BAG</td>\n",
       "      <td>0.003563</td>\n",
       "      <td>0.8</td>\n",
       "      <td>39.430244</td>\n",
       "    </tr>\n",
       "  </tbody>\n",
       "</table>\n",
       "<p>11640 rows × 5 columns</p>\n",
       "</div>"
      ],
      "text/plain": [
       "                          Left Hand Side                  Right Hand Side  \\\n",
       "1119  CHARLIE+LOLA PINK HOT WATER BOTTLE                   DOTCOM POSTAGE   \n",
       "2560            CANDY SPOT CUSHION COVER                   DOTCOM POSTAGE   \n",
       "1599         RED RETROSPOT CHARLOTTE BAG                   DOTCOM POSTAGE   \n",
       "1598             RECYCLING BAG RETROSPOT                   DOTCOM POSTAGE   \n",
       "1596     PINK VINTAGE PAISLEY PICNIC BAG                   DOTCOM POSTAGE   \n",
       "...                                  ...                              ...   \n",
       "3652  CHARLIE+LOLA PINK HOT WATER BOTTLE               SUKI  SHOULDER BAG   \n",
       "9805  WHITE HANGING HEART T-LIGHT HOLDER           JAM MAKING SET PRINTED   \n",
       "9815         ROLL WRAP VINTAGE CHRISTMAS  RECIPE BOX PANTRY YELLOW DESIGN   \n",
       "5912     GREEN REGENCY TEACUP AND SAUCER                   DOTCOM POSTAGE   \n",
       "1849                 WALL TIDY RETROSPOT               SKULL SHOULDER BAG   \n",
       "\n",
       "       Support  Confidence       Lift  \n",
       "1119  0.004107         1.0  28.542373  \n",
       "2560  0.003068         1.0  28.542373  \n",
       "1599  0.005641         1.0  28.542373  \n",
       "1598  0.005592         1.0  28.542373  \n",
       "1596  0.003365         1.0  28.542373  \n",
       "...        ...         ...        ...  \n",
       "3652  0.003167         0.8  30.676281  \n",
       "9805  0.003167         0.8  14.486022  \n",
       "9815  0.003167         0.8  14.899908  \n",
       "5912  0.004751         0.8  22.833898  \n",
       "1849  0.003563         0.8  39.430244  \n",
       "\n",
       "[11640 rows x 5 columns]"
      ]
     },
     "execution_count": 26,
     "metadata": {},
     "output_type": "execute_result"
    }
   ],
   "source": [
    "result.sort_values(by='Confidence',ascending=False)"
   ]
  },
  {
   "cell_type": "markdown",
   "id": "a02dacae",
   "metadata": {
    "papermill": {
     "duration": 0.014375,
     "end_time": "2024-04-04T06:36:21.258020",
     "exception": false,
     "start_time": "2024-04-04T06:36:21.243645",
     "status": "completed"
    },
    "tags": []
   },
   "source": [
    "<b style='font-size:18px'>The above data frame says that if a person bought a product in Left Hand Side, with some confidence he bought product from Right Hand Side.</b>"
   ]
  }
 ],
 "metadata": {
  "kaggle": {
   "accelerator": "none",
   "dataSources": [
    {
     "datasetId": 1779990,
     "sourceId": 2904404,
     "sourceType": "datasetVersion"
    }
   ],
   "dockerImageVersionId": 30673,
   "isGpuEnabled": false,
   "isInternetEnabled": true,
   "language": "python",
   "sourceType": "notebook"
  },
  "kernelspec": {
   "display_name": "Python 3 (ipykernel)",
   "language": "python",
   "name": "python3"
  },
  "language_info": {
   "codemirror_mode": {
    "name": "ipython",
    "version": 3
   },
   "file_extension": ".py",
   "mimetype": "text/x-python",
   "name": "python",
   "nbconvert_exporter": "python",
   "pygments_lexer": "ipython3",
   "version": "3.11.5"
  },
  "papermill": {
   "default_parameters": {},
   "duration": 938.156978,
   "end_time": "2024-04-04T06:36:22.125613",
   "environment_variables": {},
   "exception": null,
   "input_path": "__notebook__.ipynb",
   "output_path": "__notebook__.ipynb",
   "parameters": {},
   "start_time": "2024-04-04T06:20:43.968635",
   "version": "2.5.0"
  }
 },
 "nbformat": 4,
 "nbformat_minor": 5
}
