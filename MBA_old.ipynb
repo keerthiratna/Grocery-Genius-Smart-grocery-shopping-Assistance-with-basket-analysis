{
 "cells": [
  {
   "cell_type": "markdown",
   "id": "dc7d97e5",
   "metadata": {},
   "source": [
    "# Market Basket Analysis"
   ]
  },
  {
   "cell_type": "markdown",
   "id": "f96ca7d2",
   "metadata": {},
   "source": [
    "# Libraries"
   ]
  },
  {
   "cell_type": "markdown",
   "id": "f4436bb0",
   "metadata": {
    "papermill": {
     "duration": 0.011714,
     "end_time": "2024-04-04T06:21:06.441537",
     "exception": false,
     "start_time": "2024-04-04T06:21:06.429823",
     "status": "completed"
    },
    "tags": []
   },
   "source": [
    "<h3>Importing Libraries</h3>"
   ]
  },
  {
   "cell_type": "code",
   "execution_count": 1,
   "id": "8f0b3ba7",
   "metadata": {
    "execution": {
     "iopub.execute_input": "2024-04-04T06:21:06.467993Z",
     "iopub.status.busy": "2024-04-04T06:21:06.467592Z",
     "iopub.status.idle": "2024-04-04T06:21:07.590189Z",
     "shell.execute_reply": "2024-04-04T06:21:07.588934Z"
    },
    "papermill": {
     "duration": 1.139796,
     "end_time": "2024-04-04T06:21:07.593451",
     "exception": false,
     "start_time": "2024-04-04T06:21:06.453655",
     "status": "completed"
    },
    "tags": []
   },
   "outputs": [],
   "source": [
    "import pandas as pd\n",
    "import numpy as np\n",
    "from apyori import apriori\n",
    "\n",
    "\n",
    "\n",
    "# Import Libraries for Visualization\n",
    "import matplotlib.pyplot as plt\n",
    "import seaborn as sns\n",
    "import re\n",
    "import networkx as nx"
   ]
  },
  {
   "cell_type": "markdown",
   "id": "5e169104",
   "metadata": {
    "papermill": {
     "duration": 0.01167,
     "end_time": "2024-04-04T06:21:07.617794",
     "exception": false,
     "start_time": "2024-04-04T06:21:07.606124",
     "status": "completed"
    },
    "tags": []
   },
   "source": [
    " ## Data Loading "
   ]
  },
  {
   "cell_type": "code",
   "execution_count": 3,
   "id": "cae63e65",
   "metadata": {
    "execution": {
     "iopub.execute_input": "2024-04-04T06:21:07.643897Z",
     "iopub.status.busy": "2024-04-04T06:21:07.643349Z",
     "iopub.status.idle": "2024-04-04T06:22:38.159960Z",
     "shell.execute_reply": "2024-04-04T06:22:38.158725Z"
    },
    "papermill": {
     "duration": 90.533108,
     "end_time": "2024-04-04T06:22:38.162936",
     "exception": false,
     "start_time": "2024-04-04T06:21:07.629828",
     "status": "completed"
    },
    "tags": []
   },
   "outputs": [],
   "source": [
    "# read the dataset\n",
    "import pandas as pd\n",
    "data = pd.read_excel(\"project_data_set.xlsx\") "
   ]
  },
  {
   "cell_type": "code",
   "execution_count": 4,
   "id": "29b5e196",
   "metadata": {},
   "outputs": [
    {
     "data": {
      "text/plain": [
       "<bound method NDFrame.describe of         BillNo                             Itemname  Quantity  \\\n",
       "0       536365   WHITE HANGING HEART T-LIGHT HOLDER         6   \n",
       "1       536365                  WHITE METAL LANTERN         6   \n",
       "2       536365       CREAM CUPID HEARTS COAT HANGER         8   \n",
       "3       536365  KNITTED UNION FLAG HOT WATER BOTTLE         6   \n",
       "4       536365       RED WOOLLY HOTTIE WHITE HEART.         6   \n",
       "...        ...                                  ...       ...   \n",
       "522059  581587          PACK OF 20 SPACEBOY NAPKINS        12   \n",
       "522060  581587          CHILDREN'S APRON DOLLY GIRL         6   \n",
       "522061  581587         CHILDRENS CUTLERY DOLLY GIRL         4   \n",
       "522062  581587      CHILDRENS CUTLERY CIRCUS PARADE         4   \n",
       "522063  581587         BAKING SET 9 PIECE RETROSPOT         3   \n",
       "\n",
       "                      Date  Price  CustomerID         Country  \n",
       "0      2010-12-01 08:26:00   2.55     17850.0  United Kingdom  \n",
       "1      2010-12-01 08:26:00   3.39     17850.0  United Kingdom  \n",
       "2      2010-12-01 08:26:00   2.75     17850.0  United Kingdom  \n",
       "3      2010-12-01 08:26:00   3.39     17850.0  United Kingdom  \n",
       "4      2010-12-01 08:26:00   3.39     17850.0  United Kingdom  \n",
       "...                    ...    ...         ...             ...  \n",
       "522059 2011-12-09 12:50:00   0.85     12680.0          France  \n",
       "522060 2011-12-09 12:50:00   2.10     12680.0          France  \n",
       "522061 2011-12-09 12:50:00   4.15     12680.0          France  \n",
       "522062 2011-12-09 12:50:00   4.15     12680.0          France  \n",
       "522063 2011-12-09 12:50:00   4.95     12680.0          France  \n",
       "\n",
       "[522064 rows x 7 columns]>"
      ]
     },
     "execution_count": 4,
     "metadata": {},
     "output_type": "execute_result"
    }
   ],
   "source": [
    "data.describe"
   ]
  },
  {
   "cell_type": "code",
   "execution_count": 5,
   "id": "d0b2e424",
   "metadata": {},
   "outputs": [
    {
     "data": {
      "text/plain": [
       "Index(['BillNo', 'Itemname', 'Quantity', 'Date', 'Price', 'CustomerID',\n",
       "       'Country'],\n",
       "      dtype='object')"
      ]
     },
     "execution_count": 5,
     "metadata": {},
     "output_type": "execute_result"
    }
   ],
   "source": [
    "data.columns"
   ]
  },
  {
   "cell_type": "code",
   "execution_count": 6,
   "id": "9872adfa",
   "metadata": {},
   "outputs": [
    {
     "data": {
      "text/html": [
       "<div>\n",
       "<style scoped>\n",
       "    .dataframe tbody tr th:only-of-type {\n",
       "        vertical-align: middle;\n",
       "    }\n",
       "\n",
       "    .dataframe tbody tr th {\n",
       "        vertical-align: top;\n",
       "    }\n",
       "\n",
       "    .dataframe thead th {\n",
       "        text-align: right;\n",
       "    }\n",
       "</style>\n",
       "<table border=\"1\" class=\"dataframe\">\n",
       "  <thead>\n",
       "    <tr style=\"text-align: right;\">\n",
       "      <th></th>\n",
       "      <th>BillNo</th>\n",
       "      <th>Itemname</th>\n",
       "      <th>Quantity</th>\n",
       "      <th>Date</th>\n",
       "      <th>Price</th>\n",
       "      <th>CustomerID</th>\n",
       "      <th>Country</th>\n",
       "    </tr>\n",
       "  </thead>\n",
       "  <tbody>\n",
       "    <tr>\n",
       "      <th>522059</th>\n",
       "      <td>581587</td>\n",
       "      <td>PACK OF 20 SPACEBOY NAPKINS</td>\n",
       "      <td>12</td>\n",
       "      <td>2011-12-09 12:50:00</td>\n",
       "      <td>0.85</td>\n",
       "      <td>12680.0</td>\n",
       "      <td>France</td>\n",
       "    </tr>\n",
       "    <tr>\n",
       "      <th>522060</th>\n",
       "      <td>581587</td>\n",
       "      <td>CHILDREN'S APRON DOLLY GIRL</td>\n",
       "      <td>6</td>\n",
       "      <td>2011-12-09 12:50:00</td>\n",
       "      <td>2.10</td>\n",
       "      <td>12680.0</td>\n",
       "      <td>France</td>\n",
       "    </tr>\n",
       "    <tr>\n",
       "      <th>522061</th>\n",
       "      <td>581587</td>\n",
       "      <td>CHILDRENS CUTLERY DOLLY GIRL</td>\n",
       "      <td>4</td>\n",
       "      <td>2011-12-09 12:50:00</td>\n",
       "      <td>4.15</td>\n",
       "      <td>12680.0</td>\n",
       "      <td>France</td>\n",
       "    </tr>\n",
       "    <tr>\n",
       "      <th>522062</th>\n",
       "      <td>581587</td>\n",
       "      <td>CHILDRENS CUTLERY CIRCUS PARADE</td>\n",
       "      <td>4</td>\n",
       "      <td>2011-12-09 12:50:00</td>\n",
       "      <td>4.15</td>\n",
       "      <td>12680.0</td>\n",
       "      <td>France</td>\n",
       "    </tr>\n",
       "    <tr>\n",
       "      <th>522063</th>\n",
       "      <td>581587</td>\n",
       "      <td>BAKING SET 9 PIECE RETROSPOT</td>\n",
       "      <td>3</td>\n",
       "      <td>2011-12-09 12:50:00</td>\n",
       "      <td>4.95</td>\n",
       "      <td>12680.0</td>\n",
       "      <td>France</td>\n",
       "    </tr>\n",
       "  </tbody>\n",
       "</table>\n",
       "</div>"
      ],
      "text/plain": [
       "        BillNo                         Itemname  Quantity                Date  \\\n",
       "522059  581587      PACK OF 20 SPACEBOY NAPKINS        12 2011-12-09 12:50:00   \n",
       "522060  581587      CHILDREN'S APRON DOLLY GIRL         6 2011-12-09 12:50:00   \n",
       "522061  581587     CHILDRENS CUTLERY DOLLY GIRL         4 2011-12-09 12:50:00   \n",
       "522062  581587  CHILDRENS CUTLERY CIRCUS PARADE         4 2011-12-09 12:50:00   \n",
       "522063  581587     BAKING SET 9 PIECE RETROSPOT         3 2011-12-09 12:50:00   \n",
       "\n",
       "        Price  CustomerID Country  \n",
       "522059   0.85     12680.0  France  \n",
       "522060   2.10     12680.0  France  \n",
       "522061   4.15     12680.0  France  \n",
       "522062   4.15     12680.0  France  \n",
       "522063   4.95     12680.0  France  "
      ]
     },
     "execution_count": 6,
     "metadata": {},
     "output_type": "execute_result"
    }
   ],
   "source": [
    "# Bottom 5 rows in dataset\n",
    "data.tail()"
   ]
  },
  {
   "cell_type": "code",
   "execution_count": 7,
   "id": "02b8e523",
   "metadata": {},
   "outputs": [
    {
     "data": {
      "text/html": [
       "<div>\n",
       "<style scoped>\n",
       "    .dataframe tbody tr th:only-of-type {\n",
       "        vertical-align: middle;\n",
       "    }\n",
       "\n",
       "    .dataframe tbody tr th {\n",
       "        vertical-align: top;\n",
       "    }\n",
       "\n",
       "    .dataframe thead th {\n",
       "        text-align: right;\n",
       "    }\n",
       "</style>\n",
       "<table border=\"1\" class=\"dataframe\">\n",
       "  <thead>\n",
       "    <tr style=\"text-align: right;\">\n",
       "      <th></th>\n",
       "      <th>BillNo</th>\n",
       "      <th>Itemname</th>\n",
       "      <th>Quantity</th>\n",
       "      <th>Date</th>\n",
       "      <th>Price</th>\n",
       "      <th>CustomerID</th>\n",
       "      <th>Country</th>\n",
       "    </tr>\n",
       "  </thead>\n",
       "  <tbody>\n",
       "    <tr>\n",
       "      <th>0</th>\n",
       "      <td>536365</td>\n",
       "      <td>WHITE HANGING HEART T-LIGHT HOLDER</td>\n",
       "      <td>6</td>\n",
       "      <td>2010-12-01 08:26:00</td>\n",
       "      <td>2.55</td>\n",
       "      <td>17850.0</td>\n",
       "      <td>United Kingdom</td>\n",
       "    </tr>\n",
       "    <tr>\n",
       "      <th>1</th>\n",
       "      <td>536365</td>\n",
       "      <td>WHITE METAL LANTERN</td>\n",
       "      <td>6</td>\n",
       "      <td>2010-12-01 08:26:00</td>\n",
       "      <td>3.39</td>\n",
       "      <td>17850.0</td>\n",
       "      <td>United Kingdom</td>\n",
       "    </tr>\n",
       "    <tr>\n",
       "      <th>2</th>\n",
       "      <td>536365</td>\n",
       "      <td>CREAM CUPID HEARTS COAT HANGER</td>\n",
       "      <td>8</td>\n",
       "      <td>2010-12-01 08:26:00</td>\n",
       "      <td>2.75</td>\n",
       "      <td>17850.0</td>\n",
       "      <td>United Kingdom</td>\n",
       "    </tr>\n",
       "    <tr>\n",
       "      <th>3</th>\n",
       "      <td>536365</td>\n",
       "      <td>KNITTED UNION FLAG HOT WATER BOTTLE</td>\n",
       "      <td>6</td>\n",
       "      <td>2010-12-01 08:26:00</td>\n",
       "      <td>3.39</td>\n",
       "      <td>17850.0</td>\n",
       "      <td>United Kingdom</td>\n",
       "    </tr>\n",
       "    <tr>\n",
       "      <th>4</th>\n",
       "      <td>536365</td>\n",
       "      <td>RED WOOLLY HOTTIE WHITE HEART.</td>\n",
       "      <td>6</td>\n",
       "      <td>2010-12-01 08:26:00</td>\n",
       "      <td>3.39</td>\n",
       "      <td>17850.0</td>\n",
       "      <td>United Kingdom</td>\n",
       "    </tr>\n",
       "  </tbody>\n",
       "</table>\n",
       "</div>"
      ],
      "text/plain": [
       "   BillNo                             Itemname  Quantity                Date  \\\n",
       "0  536365   WHITE HANGING HEART T-LIGHT HOLDER         6 2010-12-01 08:26:00   \n",
       "1  536365                  WHITE METAL LANTERN         6 2010-12-01 08:26:00   \n",
       "2  536365       CREAM CUPID HEARTS COAT HANGER         8 2010-12-01 08:26:00   \n",
       "3  536365  KNITTED UNION FLAG HOT WATER BOTTLE         6 2010-12-01 08:26:00   \n",
       "4  536365       RED WOOLLY HOTTIE WHITE HEART.         6 2010-12-01 08:26:00   \n",
       "\n",
       "   Price  CustomerID         Country  \n",
       "0   2.55     17850.0  United Kingdom  \n",
       "1   3.39     17850.0  United Kingdom  \n",
       "2   2.75     17850.0  United Kingdom  \n",
       "3   3.39     17850.0  United Kingdom  \n",
       "4   3.39     17850.0  United Kingdom  "
      ]
     },
     "execution_count": 7,
     "metadata": {},
     "output_type": "execute_result"
    }
   ],
   "source": [
    "# Top 5 rows in dataset\n",
    "data.head()"
   ]
  },
  {
   "cell_type": "code",
   "execution_count": 8,
   "id": "79f6fdd0",
   "metadata": {},
   "outputs": [
    {
     "data": {
      "text/plain": [
       "array([536365, 536366, 536367, ..., 581585, 581586, 581587], dtype=object)"
      ]
     },
     "execution_count": 8,
     "metadata": {},
     "output_type": "execute_result"
    }
   ],
   "source": [
    "data[\"BillNo\"].unique()"
   ]
  },
  {
   "cell_type": "code",
   "execution_count": 9,
   "id": "91faf469",
   "metadata": {},
   "outputs": [
    {
     "name": "stdout",
     "output_type": "stream",
     "text": [
      "(522064, 7)\n",
      "/n\n",
      "BillNo                object\n",
      "Itemname              object\n",
      "Quantity               int64\n",
      "Date          datetime64[ns]\n",
      "Price                float64\n",
      "CustomerID           float64\n",
      "Country               object\n",
      "dtype: object\n"
     ]
    }
   ],
   "source": [
    "# how does the data looks\n",
    "print(data.shape)# total rows * column count\n",
    "print(\"/n\")\n",
    "print(data.dtypes)# each column datatype"
   ]
  },
  {
   "cell_type": "code",
   "execution_count": 10,
   "id": "37c14cc9",
   "metadata": {},
   "outputs": [],
   "source": [
    "# Summary statistics\n",
    "summary_stats = data.describe()\n",
    "\n",
    "# Number of rows and columns\n",
    "num_rows, num_cols = data.shape\n",
    "\n",
    "# Data types of columns\n",
    "data_types = data.dtypes"
   ]
  },
  {
   "cell_type": "code",
   "execution_count": 11,
   "id": "67c4c0ed",
   "metadata": {},
   "outputs": [
    {
     "data": {
      "text/plain": [
       "5286"
      ]
     },
     "execution_count": 11,
     "metadata": {},
     "output_type": "execute_result"
    }
   ],
   "source": [
    "#finding duplicate values in a dataset\n",
    "data.duplicated().sum()"
   ]
  },
  {
   "cell_type": "code",
   "execution_count": 12,
   "id": "cf58dfad",
   "metadata": {},
   "outputs": [],
   "source": [
    "data = data.drop_duplicates()"
   ]
  },
  {
   "cell_type": "code",
   "execution_count": 13,
   "id": "382e8ba7",
   "metadata": {},
   "outputs": [
    {
     "data": {
      "text/plain": [
       "0"
      ]
     },
     "execution_count": 13,
     "metadata": {},
     "output_type": "execute_result"
    }
   ],
   "source": [
    "#finding duplicate values in a dataset\n",
    "data.duplicated().sum()"
   ]
  },
  {
   "cell_type": "code",
   "execution_count": 14,
   "id": "fcbaad4e",
   "metadata": {},
   "outputs": [
    {
     "data": {
      "text/html": [
       "<div>\n",
       "<style scoped>\n",
       "    .dataframe tbody tr th:only-of-type {\n",
       "        vertical-align: middle;\n",
       "    }\n",
       "\n",
       "    .dataframe tbody tr th {\n",
       "        vertical-align: top;\n",
       "    }\n",
       "\n",
       "    .dataframe thead th {\n",
       "        text-align: right;\n",
       "    }\n",
       "</style>\n",
       "<table border=\"1\" class=\"dataframe\">\n",
       "  <thead>\n",
       "    <tr style=\"text-align: right;\">\n",
       "      <th></th>\n",
       "      <th>Quantity</th>\n",
       "      <th>Price</th>\n",
       "      <th>CustomerID</th>\n",
       "    </tr>\n",
       "  </thead>\n",
       "  <tbody>\n",
       "    <tr>\n",
       "      <th>Quantity</th>\n",
       "      <td>1.000000</td>\n",
       "      <td>-0.002815</td>\n",
       "      <td>-0.005791</td>\n",
       "    </tr>\n",
       "    <tr>\n",
       "      <th>Price</th>\n",
       "      <td>-0.002815</td>\n",
       "      <td>1.000000</td>\n",
       "      <td>-0.010178</td>\n",
       "    </tr>\n",
       "    <tr>\n",
       "      <th>CustomerID</th>\n",
       "      <td>-0.005791</td>\n",
       "      <td>-0.010178</td>\n",
       "      <td>1.000000</td>\n",
       "    </tr>\n",
       "  </tbody>\n",
       "</table>\n",
       "</div>"
      ],
      "text/plain": [
       "            Quantity     Price  CustomerID\n",
       "Quantity    1.000000 -0.002815   -0.005791\n",
       "Price      -0.002815  1.000000   -0.010178\n",
       "CustomerID -0.005791 -0.010178    1.000000"
      ]
     },
     "execution_count": 14,
     "metadata": {},
     "output_type": "execute_result"
    }
   ],
   "source": [
    "#correlation with heatmap to interpret the relation and multicolliniarity\n",
    "data.select_dtypes(include = \"number\").corr()"
   ]
  },
  {
   "cell_type": "code",
   "execution_count": 15,
   "id": "25e40d99",
   "metadata": {},
   "outputs": [
    {
     "data": {
      "text/plain": [
       "BillNo             0\n",
       "Itemname        1455\n",
       "Quantity           0\n",
       "Date               0\n",
       "Price              0\n",
       "CustomerID    133967\n",
       "Country            0\n",
       "dtype: int64"
      ]
     },
     "execution_count": 15,
     "metadata": {},
     "output_type": "execute_result"
    }
   ],
   "source": [
    "#choose the method of imputing missing value\n",
    "#like mean,median,mode or KNNIputer\n",
    "data.isnull().sum()#there is no null values in this dataset"
   ]
  },
  {
   "cell_type": "code",
   "execution_count": 1,
   "id": "64bd2ee2",
   "metadata": {},
   "outputs": [
    {
     "ename": "NameError",
     "evalue": "name 'data' is not defined",
     "output_type": "error",
     "traceback": [
      "\u001b[1;31m---------------------------------------------------------------------------\u001b[0m",
      "\u001b[1;31mNameError\u001b[0m                                 Traceback (most recent call last)",
      "Cell \u001b[1;32mIn[1], line 2\u001b[0m\n\u001b[0;32m      1\u001b[0m \u001b[38;5;66;03m# Check for missing values\u001b[39;00m\n\u001b[1;32m----> 2\u001b[0m missing_values \u001b[38;5;241m=\u001b[39m data\u001b[38;5;241m.\u001b[39misnull()\u001b[38;5;241m.\u001b[39msum()\n",
      "\u001b[1;31mNameError\u001b[0m: name 'data' is not defined"
     ]
    }
   ],
   "source": [
    "# Check for missing values\n",
    "missing_values = data.isnull().sum()"
   ]
  },
  {
   "cell_type": "code",
   "execution_count": null,
   "id": "e3e360a7",
   "metadata": {},
   "outputs": [],
   "source": [
    "#choose the method of imputing missing value\n",
    "#like mean,median,mode or KNNIputer\n",
    "data.isnull().sum()#there is no null values in this dataset"
   ]
  },
  {
   "cell_type": "code",
   "execution_count": 17,
   "id": "b9c29563",
   "metadata": {},
   "outputs": [],
   "source": [
    "# Unique values in categorical columns\n",
    "unique_values_product = data['BillNo'].unique()\n",
    "unique_values_category = data['Itemname'].unique()\n",
    "unique_values_subcategory = data['Quantity'].unique()\n",
    "unique_values_brand = data['Date'].unique()\n",
    "unique_values_type = data['Price'].unique()\n",
    "unique_values_type = data['CustomerID'].unique()\n",
    "unique_values_type = data['Country'].unique()"
   ]
  },
  {
   "cell_type": "markdown",
   "id": "daa64083",
   "metadata": {
    "papermill": {
     "duration": 0.012161,
     "end_time": "2024-04-04T06:22:38.188157",
     "exception": false,
     "start_time": "2024-04-04T06:22:38.175996",
     "status": "completed"
    },
    "tags": []
   },
   "source": [
    "## EXPLORATORY DATA ANALYSIS\n",
    "Exploring the data"
   ]
  },
  {
   "cell_type": "code",
   "execution_count": 18,
   "id": "2916fe44",
   "metadata": {
    "execution": {
     "iopub.execute_input": "2024-04-04T06:22:38.215277Z",
     "iopub.status.busy": "2024-04-04T06:22:38.214753Z",
     "iopub.status.idle": "2024-04-04T06:22:38.370081Z",
     "shell.execute_reply": "2024-04-04T06:22:38.368814Z"
    },
    "papermill": {
     "duration": 0.171506,
     "end_time": "2024-04-04T06:22:38.372740",
     "exception": false,
     "start_time": "2024-04-04T06:22:38.201234",
     "status": "completed"
    },
    "tags": []
   },
   "outputs": [
    {
     "data": {
      "text/html": [
       "<div>\n",
       "<style scoped>\n",
       "    .dataframe tbody tr th:only-of-type {\n",
       "        vertical-align: middle;\n",
       "    }\n",
       "\n",
       "    .dataframe tbody tr th {\n",
       "        vertical-align: top;\n",
       "    }\n",
       "\n",
       "    .dataframe thead th {\n",
       "        text-align: right;\n",
       "    }\n",
       "</style>\n",
       "<table border=\"1\" class=\"dataframe\">\n",
       "  <thead>\n",
       "    <tr style=\"text-align: right;\">\n",
       "      <th></th>\n",
       "      <th>BillNo</th>\n",
       "      <th>Itemname</th>\n",
       "      <th>Quantity</th>\n",
       "      <th>Date</th>\n",
       "      <th>Price</th>\n",
       "      <th>CustomerID</th>\n",
       "      <th>Country</th>\n",
       "    </tr>\n",
       "  </thead>\n",
       "  <tbody>\n",
       "    <tr>\n",
       "      <th>0</th>\n",
       "      <td>536365</td>\n",
       "      <td>WHITE HANGING HEART T-LIGHT HOLDER</td>\n",
       "      <td>6</td>\n",
       "      <td>2010-12-01 08:26:00</td>\n",
       "      <td>2.55</td>\n",
       "      <td>17850.0</td>\n",
       "      <td>United Kingdom</td>\n",
       "    </tr>\n",
       "    <tr>\n",
       "      <th>1</th>\n",
       "      <td>536365</td>\n",
       "      <td>WHITE METAL LANTERN</td>\n",
       "      <td>6</td>\n",
       "      <td>2010-12-01 08:26:00</td>\n",
       "      <td>3.39</td>\n",
       "      <td>17850.0</td>\n",
       "      <td>United Kingdom</td>\n",
       "    </tr>\n",
       "    <tr>\n",
       "      <th>2</th>\n",
       "      <td>536365</td>\n",
       "      <td>CREAM CUPID HEARTS COAT HANGER</td>\n",
       "      <td>8</td>\n",
       "      <td>2010-12-01 08:26:00</td>\n",
       "      <td>2.75</td>\n",
       "      <td>17850.0</td>\n",
       "      <td>United Kingdom</td>\n",
       "    </tr>\n",
       "    <tr>\n",
       "      <th>3</th>\n",
       "      <td>536365</td>\n",
       "      <td>KNITTED UNION FLAG HOT WATER BOTTLE</td>\n",
       "      <td>6</td>\n",
       "      <td>2010-12-01 08:26:00</td>\n",
       "      <td>3.39</td>\n",
       "      <td>17850.0</td>\n",
       "      <td>United Kingdom</td>\n",
       "    </tr>\n",
       "    <tr>\n",
       "      <th>4</th>\n",
       "      <td>536365</td>\n",
       "      <td>RED WOOLLY HOTTIE WHITE HEART.</td>\n",
       "      <td>6</td>\n",
       "      <td>2010-12-01 08:26:00</td>\n",
       "      <td>3.39</td>\n",
       "      <td>17850.0</td>\n",
       "      <td>United Kingdom</td>\n",
       "    </tr>\n",
       "  </tbody>\n",
       "</table>\n",
       "</div>"
      ],
      "text/plain": [
       "   BillNo                             Itemname  Quantity                Date  \\\n",
       "0  536365   WHITE HANGING HEART T-LIGHT HOLDER         6 2010-12-01 08:26:00   \n",
       "1  536365                  WHITE METAL LANTERN         6 2010-12-01 08:26:00   \n",
       "2  536365       CREAM CUPID HEARTS COAT HANGER         8 2010-12-01 08:26:00   \n",
       "3  536365  KNITTED UNION FLAG HOT WATER BOTTLE         6 2010-12-01 08:26:00   \n",
       "4  536365       RED WOOLLY HOTTIE WHITE HEART.         6 2010-12-01 08:26:00   \n",
       "\n",
       "   Price  CustomerID         Country  \n",
       "0   2.55     17850.0  United Kingdom  \n",
       "1   3.39     17850.0  United Kingdom  \n",
       "2   2.75     17850.0  United Kingdom  \n",
       "3   3.39     17850.0  United Kingdom  \n",
       "4   3.39     17850.0  United Kingdom  "
      ]
     },
     "execution_count": 18,
     "metadata": {},
     "output_type": "execute_result"
    }
   ],
   "source": [
    "data.head()"
   ]
  },
  {
   "cell_type": "code",
   "execution_count": 19,
   "id": "417a3d6c",
   "metadata": {
    "execution": {
     "iopub.execute_input": "2024-04-04T06:22:38.399422Z",
     "iopub.status.busy": "2024-04-04T06:22:38.398331Z",
     "iopub.status.idle": "2024-04-04T06:22:38.405866Z",
     "shell.execute_reply": "2024-04-04T06:22:38.404644Z"
    },
    "papermill": {
     "duration": 0.0234,
     "end_time": "2024-04-04T06:22:38.408347",
     "exception": false,
     "start_time": "2024-04-04T06:22:38.384947",
     "status": "completed"
    },
    "tags": []
   },
   "outputs": [
    {
     "data": {
      "text/plain": [
       "(516778, 7)"
      ]
     },
     "execution_count": 19,
     "metadata": {},
     "output_type": "execute_result"
    }
   ],
   "source": [
    "data.shape"
   ]
  },
  {
   "cell_type": "code",
   "execution_count": 20,
   "id": "22c7c1bc",
   "metadata": {
    "execution": {
     "iopub.execute_input": "2024-04-04T06:22:38.434913Z",
     "iopub.status.busy": "2024-04-04T06:22:38.434524Z",
     "iopub.status.idle": "2024-04-04T06:22:38.629933Z",
     "shell.execute_reply": "2024-04-04T06:22:38.628273Z"
    },
    "papermill": {
     "duration": 0.211914,
     "end_time": "2024-04-04T06:22:38.632708",
     "exception": false,
     "start_time": "2024-04-04T06:22:38.420794",
     "status": "completed"
    },
    "tags": []
   },
   "outputs": [
    {
     "name": "stdout",
     "output_type": "stream",
     "text": [
      "<class 'pandas.core.frame.DataFrame'>\n",
      "Index: 516778 entries, 0 to 522063\n",
      "Data columns (total 7 columns):\n",
      " #   Column      Non-Null Count   Dtype         \n",
      "---  ------      --------------   -----         \n",
      " 0   BillNo      516778 non-null  object        \n",
      " 1   Itemname    515323 non-null  object        \n",
      " 2   Quantity    516778 non-null  int64         \n",
      " 3   Date        516778 non-null  datetime64[ns]\n",
      " 4   Price       516778 non-null  float64       \n",
      " 5   CustomerID  382811 non-null  float64       \n",
      " 6   Country     516778 non-null  object        \n",
      "dtypes: datetime64[ns](1), float64(2), int64(1), object(3)\n",
      "memory usage: 31.5+ MB\n"
     ]
    }
   ],
   "source": [
    "data.info()"
   ]
  },
  {
   "cell_type": "code",
   "execution_count": 21,
   "id": "d1c0d3be",
   "metadata": {
    "execution": {
     "iopub.execute_input": "2024-04-04T06:22:38.659658Z",
     "iopub.status.busy": "2024-04-04T06:22:38.659237Z",
     "iopub.status.idle": "2024-04-04T06:22:38.756823Z",
     "shell.execute_reply": "2024-04-04T06:22:38.755773Z"
    },
    "papermill": {
     "duration": 0.113821,
     "end_time": "2024-04-04T06:22:38.759285",
     "exception": false,
     "start_time": "2024-04-04T06:22:38.645464",
     "status": "completed"
    },
    "tags": []
   },
   "outputs": [
    {
     "data": {
      "text/html": [
       "<div>\n",
       "<style scoped>\n",
       "    .dataframe tbody tr th:only-of-type {\n",
       "        vertical-align: middle;\n",
       "    }\n",
       "\n",
       "    .dataframe tbody tr th {\n",
       "        vertical-align: top;\n",
       "    }\n",
       "\n",
       "    .dataframe thead th {\n",
       "        text-align: right;\n",
       "    }\n",
       "</style>\n",
       "<table border=\"1\" class=\"dataframe\">\n",
       "  <thead>\n",
       "    <tr style=\"text-align: right;\">\n",
       "      <th></th>\n",
       "      <th>Quantity</th>\n",
       "      <th>Date</th>\n",
       "      <th>Price</th>\n",
       "      <th>CustomerID</th>\n",
       "    </tr>\n",
       "  </thead>\n",
       "  <tbody>\n",
       "    <tr>\n",
       "      <th>count</th>\n",
       "      <td>516778.00000</td>\n",
       "      <td>516778</td>\n",
       "      <td>516778.000000</td>\n",
       "      <td>382811.000000</td>\n",
       "    </tr>\n",
       "    <tr>\n",
       "      <th>mean</th>\n",
       "      <td>10.16247</td>\n",
       "      <td>2011-07-04 08:18:39.177790464</td>\n",
       "      <td>3.841504</td>\n",
       "      <td>15310.347702</td>\n",
       "    </tr>\n",
       "    <tr>\n",
       "      <th>min</th>\n",
       "      <td>-9600.00000</td>\n",
       "      <td>2010-12-01 08:26:00</td>\n",
       "      <td>-11062.060000</td>\n",
       "      <td>12346.000000</td>\n",
       "    </tr>\n",
       "    <tr>\n",
       "      <th>25%</th>\n",
       "      <td>1.00000</td>\n",
       "      <td>2011-03-28 09:59:00</td>\n",
       "      <td>1.250000</td>\n",
       "      <td>13928.500000</td>\n",
       "    </tr>\n",
       "    <tr>\n",
       "      <th>50%</th>\n",
       "      <td>3.00000</td>\n",
       "      <td>2011-07-19 14:29:00</td>\n",
       "      <td>2.080000</td>\n",
       "      <td>15249.000000</td>\n",
       "    </tr>\n",
       "    <tr>\n",
       "      <th>75%</th>\n",
       "      <td>10.00000</td>\n",
       "      <td>2011-10-19 12:11:00</td>\n",
       "      <td>4.130000</td>\n",
       "      <td>16820.000000</td>\n",
       "    </tr>\n",
       "    <tr>\n",
       "      <th>max</th>\n",
       "      <td>80995.00000</td>\n",
       "      <td>2011-12-09 12:50:00</td>\n",
       "      <td>13541.330000</td>\n",
       "      <td>18287.000000</td>\n",
       "    </tr>\n",
       "    <tr>\n",
       "      <th>std</th>\n",
       "      <td>161.91653</td>\n",
       "      <td>NaN</td>\n",
       "      <td>42.113493</td>\n",
       "      <td>1722.483516</td>\n",
       "    </tr>\n",
       "  </tbody>\n",
       "</table>\n",
       "</div>"
      ],
      "text/plain": [
       "           Quantity                           Date          Price  \\\n",
       "count  516778.00000                         516778  516778.000000   \n",
       "mean       10.16247  2011-07-04 08:18:39.177790464       3.841504   \n",
       "min     -9600.00000            2010-12-01 08:26:00  -11062.060000   \n",
       "25%         1.00000            2011-03-28 09:59:00       1.250000   \n",
       "50%         3.00000            2011-07-19 14:29:00       2.080000   \n",
       "75%        10.00000            2011-10-19 12:11:00       4.130000   \n",
       "max     80995.00000            2011-12-09 12:50:00   13541.330000   \n",
       "std       161.91653                            NaN      42.113493   \n",
       "\n",
       "          CustomerID  \n",
       "count  382811.000000  \n",
       "mean    15310.347702  \n",
       "min     12346.000000  \n",
       "25%     13928.500000  \n",
       "50%     15249.000000  \n",
       "75%     16820.000000  \n",
       "max     18287.000000  \n",
       "std      1722.483516  "
      ]
     },
     "execution_count": 21,
     "metadata": {},
     "output_type": "execute_result"
    }
   ],
   "source": [
    "data.describe()"
   ]
  },
  {
   "cell_type": "code",
   "execution_count": 22,
   "id": "0f29ec5f",
   "metadata": {},
   "outputs": [
    {
     "data": {
      "image/png": "[encoded data removed]",
      "text/plain": [
       "<Figure size 1000x600 with 1 Axes>"
      ]
     },
     "metadata": {},
     "output_type": "display_data"
    },
    {
     "data": {
      "image/png": "[encoded data removed]",
      "text/plain": [
       "<Figure size 1000x600 with 1 Axes>"
      ]
     },
     "metadata": {},
     "output_type": "display_data"
    }
   ],
   "source": [
    "import matplotlib.pyplot as plt\n",
    "\n",
    "# Histogram for Quantity\n",
    "plt.figure(figsize=(10, 6))\n",
    "plt.hist(data['Quantity'], bins=50, color='skyblue', edgecolor='black')\n",
    "plt.title('Histogram of Quantity')\n",
    "plt.xlabel('Quantity')\n",
    "plt.ylabel('Frequency')\n",
    "plt.grid(True)\n",
    "plt.show()\n",
    "\n",
    "# Histogram for Price\n",
    "plt.figure(figsize=(10, 6))\n",
    "plt.hist(data['Price'], bins=50, color='salmon', edgecolor='black')\n",
    "plt.title('Histogram of Price')\n",
    "plt.xlabel('Price')\n",
    "plt.ylabel('Frequency')\n",
    "plt.grid(True)\n",
    "plt.show()"
   ]
  },
  {
   "cell_type": "code",
   "execution_count": 23,
   "id": "42915221",
   "metadata": {
    "scrolled": true
   },
   "outputs": [
    {
     "data": {
      "text/plain": [
       "<Axes: >"
      ]
     },
     "execution_count": 23,
     "metadata": {},
     "output_type": "execute_result"
    },
    {
     "data": {
      "image/png": "[encoded data removed]",
      "text/plain": [
       "<Figure size 640x480 with 2 Axes>"
      ]
     },
     "metadata": {},
     "output_type": "display_data"
    }
   ],
   "source": [
    "import seaborn as sns\n",
    "sns.heatmap(data.select_dtypes(include = \"number\").corr(),annot = True)"
   ]
  },
  {
   "cell_type": "code",
   "execution_count": 24,
   "id": "1a2968ee",
   "metadata": {},
   "outputs": [
    {
     "data": {
      "image/png": "[encoded data removed]",
      "text/plain": [
       "<Figure size 800x600 with 1 Axes>"
      ]
     },
     "metadata": {},
     "output_type": "display_data"
    },
    {
     "data": {
      "image/png": "[encoded data removed]",
      "text/plain": [
       "<Figure size 800x600 with 1 Axes>"
      ]
     },
     "metadata": {},
     "output_type": "display_data"
    },
    {
     "data": {
      "image/png": "[encoded data removed]",
      "text/plain": [
       "<Figure size 800x600 with 1 Axes>"
      ]
     },
     "metadata": {},
     "output_type": "display_data"
    }
   ],
   "source": [
    "import seaborn as sns\n",
    "import matplotlib.pyplot as plt\n",
    "\n",
    "\n",
    "for column in data.select_dtypes(include='number').columns:\n",
    "    plt.figure(figsize=(8, 6))\n",
    "    sns.boxplot(data=data, x=column)\n",
    "    plt.title(f'Box plot of {column}')\n",
    "    plt.xlabel(column)\n",
    "    plt.show()"
   ]
  },
  {
   "cell_type": "code",
   "execution_count": 25,
   "id": "59d6d36a",
   "metadata": {},
   "outputs": [
    {
     "data": {
      "image/png": "[encoded data removed]",
      "text/plain": [
       "<Figure size 1000x600 with 1 Axes>"
      ]
     },
     "metadata": {},
     "output_type": "display_data"
    }
   ],
   "source": [
    "from mlxtend.frequent_patterns import apriori\n",
    "import pandas as pd\n",
    "import matplotlib.pyplot as plt\n",
    "\n",
    "\n",
    "# Calculating item frequency\n",
    "item_counts = data['Itemname'].value_counts(normalize=True)\n",
    "\n",
    "# Filtering items with a support of 10% or higher\n",
    "frequent_items = item_counts[item_counts >= 0.10].reset_index()\n",
    "\n",
    "# Renaming columns properly\n",
    "frequent_items.columns = ['Item', 'Support']\n",
    "\n",
    "# Plotting the item frequency\n",
    "plt.figure(figsize=(10, 6))\n",
    "plt.bar(frequent_items['Item'], frequent_items['Support'])  # Use 'Item' column\n",
    "plt.xlabel('Item')\n",
    "plt.ylabel('Support')\n",
    "plt.title('Item Frequency Plot (Support >= 10%)')\n",
    "plt.xticks(rotation=90)  # Rotate x-axis labels for better readability\n",
    "plt.show()"
   ]
  },
  {
   "cell_type": "code",
   "execution_count": 26,
   "id": "cd1e0458",
   "metadata": {},
   "outputs": [
    {
     "data": {
      "image/png": "[encoded data removed]",
      "text/plain": [
       "<Figure size 800x600 with 1 Axes>"
      ]
     },
     "metadata": {},
     "output_type": "display_data"
    }
   ],
   "source": [
    "import matplotlib.pyplot as plt\n",
    "\n",
    "# Scatter plot between Quantity and Price\n",
    "plt.figure(figsize=(8, 6))\n",
    "plt.scatter(data['Quantity'], data['Price'], color='blue', alpha=0.5)\n",
    "plt.title('Scatter Plot of Quantity vs Price')\n",
    "plt.xlabel('Quantity')\n",
    "plt.ylabel('Price')\n",
    "plt.grid(True)\n",
    "plt.show()"
   ]
  },
  {
   "cell_type": "code",
   "execution_count": 46,
   "id": "238571bc",
   "metadata": {},
   "outputs": [
    {
     "data": {
      "text/html": [
       "<div>\n",
       "<style scoped>\n",
       "    .dataframe tbody tr th:only-of-type {\n",
       "        vertical-align: middle;\n",
       "    }\n",
       "\n",
       "    .dataframe tbody tr th {\n",
       "        vertical-align: top;\n",
       "    }\n",
       "\n",
       "    .dataframe thead th {\n",
       "        text-align: right;\n",
       "    }\n",
       "</style>\n",
       "<table border=\"1\" class=\"dataframe\">\n",
       "  <thead>\n",
       "    <tr style=\"text-align: right;\">\n",
       "      <th></th>\n",
       "      <th>Quantity</th>\n",
       "      <th>Date</th>\n",
       "      <th>Price</th>\n",
       "      <th>CustomerID</th>\n",
       "      <th>Year</th>\n",
       "      <th>Month</th>\n",
       "      <th>Day</th>\n",
       "    </tr>\n",
       "  </thead>\n",
       "  <tbody>\n",
       "    <tr>\n",
       "      <th>count</th>\n",
       "      <td>515323.000000</td>\n",
       "      <td>515323</td>\n",
       "      <td>515323.000000</td>\n",
       "      <td>382811.000000</td>\n",
       "      <td>515323.000000</td>\n",
       "      <td>515323.000000</td>\n",
       "      <td>515323.000000</td>\n",
       "    </tr>\n",
       "    <tr>\n",
       "      <th>mean</th>\n",
       "      <td>10.218348</td>\n",
       "      <td>2011-07-04 11:11:17.317022720</td>\n",
       "      <td>3.852350</td>\n",
       "      <td>15310.347702</td>\n",
       "      <td>2010.921191</td>\n",
       "      <td>7.554559</td>\n",
       "      <td>15.029731</td>\n",
       "    </tr>\n",
       "    <tr>\n",
       "      <th>min</th>\n",
       "      <td>-9600.000000</td>\n",
       "      <td>2010-12-01 08:26:00</td>\n",
       "      <td>-11062.060000</td>\n",
       "      <td>12346.000000</td>\n",
       "      <td>2010.000000</td>\n",
       "      <td>1.000000</td>\n",
       "      <td>1.000000</td>\n",
       "    </tr>\n",
       "    <tr>\n",
       "      <th>25%</th>\n",
       "      <td>1.000000</td>\n",
       "      <td>2011-03-28 10:14:00</td>\n",
       "      <td>1.250000</td>\n",
       "      <td>13928.500000</td>\n",
       "      <td>2011.000000</td>\n",
       "      <td>5.000000</td>\n",
       "      <td>7.000000</td>\n",
       "    </tr>\n",
       "    <tr>\n",
       "      <th>50%</th>\n",
       "      <td>3.000000</td>\n",
       "      <td>2011-07-19 15:55:00</td>\n",
       "      <td>2.080000</td>\n",
       "      <td>15249.000000</td>\n",
       "      <td>2011.000000</td>\n",
       "      <td>8.000000</td>\n",
       "      <td>15.000000</td>\n",
       "    </tr>\n",
       "    <tr>\n",
       "      <th>75%</th>\n",
       "      <td>10.000000</td>\n",
       "      <td>2011-10-19 12:35:00</td>\n",
       "      <td>4.130000</td>\n",
       "      <td>16820.000000</td>\n",
       "      <td>2011.000000</td>\n",
       "      <td>11.000000</td>\n",
       "      <td>22.000000</td>\n",
       "    </tr>\n",
       "    <tr>\n",
       "      <th>max</th>\n",
       "      <td>80995.000000</td>\n",
       "      <td>2011-12-09 12:50:00</td>\n",
       "      <td>13541.330000</td>\n",
       "      <td>18287.000000</td>\n",
       "      <td>2011.000000</td>\n",
       "      <td>12.000000</td>\n",
       "      <td>31.000000</td>\n",
       "    </tr>\n",
       "    <tr>\n",
       "      <th>std</th>\n",
       "      <td>161.625366</td>\n",
       "      <td>NaN</td>\n",
       "      <td>42.172409</td>\n",
       "      <td>1722.483516</td>\n",
       "      <td>0.269440</td>\n",
       "      <td>3.514280</td>\n",
       "      <td>8.672723</td>\n",
       "    </tr>\n",
       "  </tbody>\n",
       "</table>\n",
       "</div>"
      ],
      "text/plain": [
       "            Quantity                           Date          Price  \\\n",
       "count  515323.000000                         515323  515323.000000   \n",
       "mean       10.218348  2011-07-04 11:11:17.317022720       3.852350   \n",
       "min     -9600.000000            2010-12-01 08:26:00  -11062.060000   \n",
       "25%         1.000000            2011-03-28 10:14:00       1.250000   \n",
       "50%         3.000000            2011-07-19 15:55:00       2.080000   \n",
       "75%        10.000000            2011-10-19 12:35:00       4.130000   \n",
       "max     80995.000000            2011-12-09 12:50:00   13541.330000   \n",
       "std       161.625366                            NaN      42.172409   \n",
       "\n",
       "          CustomerID           Year          Month            Day  \n",
       "count  382811.000000  515323.000000  515323.000000  515323.000000  \n",
       "mean    15310.347702    2010.921191       7.554559      15.029731  \n",
       "min     12346.000000    2010.000000       1.000000       1.000000  \n",
       "25%     13928.500000    2011.000000       5.000000       7.000000  \n",
       "50%     15249.000000    2011.000000       8.000000      15.000000  \n",
       "75%     16820.000000    2011.000000      11.000000      22.000000  \n",
       "max     18287.000000    2011.000000      12.000000      31.000000  \n",
       "std      1722.483516       0.269440       3.514280       8.672723  "
      ]
     },
     "execution_count": 46,
     "metadata": {},
     "output_type": "execute_result"
    }
   ],
   "source": [
    "# describe function used to find the total count,mean,standard deviation,maximum value,minimum value\n",
    "# 25,50,75 percentage of the dataset value\n",
    "data.describe()"
   ]
  },
  {
   "cell_type": "code",
   "execution_count": 94,
   "id": "32ae6c0a",
   "metadata": {},
   "outputs": [
    {
     "ename": "KeyError",
     "evalue": "'Year'",
     "output_type": "error",
     "traceback": [
      "\u001b[1;31m---------------------------------------------------------------------------\u001b[0m",
      "\u001b[1;31mKeyError\u001b[0m                                  Traceback (most recent call last)",
      "Cell \u001b[1;32mIn[94], line 4\u001b[0m\n\u001b[0;32m      1\u001b[0m \u001b[38;5;66;03m# Assuming 'data' is your dataset DataFrame\u001b[39;00m\n\u001b[0;32m      2\u001b[0m \n\u001b[0;32m      3\u001b[0m \u001b[38;5;66;03m# Grouping by 'Year' and 'Month' and calculating the sum of 'Price' and 'Quantity'\u001b[39;00m\n\u001b[1;32m----> 4\u001b[0m sales \u001b[38;5;241m=\u001b[39m data\u001b[38;5;241m.\u001b[39mgroupby([\u001b[38;5;124m'\u001b[39m\u001b[38;5;124mYear\u001b[39m\u001b[38;5;124m'\u001b[39m, \u001b[38;5;124m'\u001b[39m\u001b[38;5;124mMonth\u001b[39m\u001b[38;5;124m'\u001b[39m])\u001b[38;5;241m.\u001b[39magg({\u001b[38;5;124m'\u001b[39m\u001b[38;5;124mPrice\u001b[39m\u001b[38;5;124m'\u001b[39m:\u001b[38;5;124m'\u001b[39m\u001b[38;5;124msum\u001b[39m\u001b[38;5;124m'\u001b[39m, \u001b[38;5;124m'\u001b[39m\u001b[38;5;124mQuantity\u001b[39m\u001b[38;5;124m'\u001b[39m:\u001b[38;5;124m'\u001b[39m\u001b[38;5;124msum\u001b[39m\u001b[38;5;124m'\u001b[39m})\n\u001b[0;32m      6\u001b[0m \u001b[38;5;66;03m# Pivot the DataFrame\u001b[39;00m\n\u001b[0;32m      7\u001b[0m \u001b[38;5;28;01mimport\u001b[39;00m \u001b[38;5;21;01mnumpy\u001b[39;00m \u001b[38;5;28;01mas\u001b[39;00m \u001b[38;5;21;01mnp\u001b[39;00m\n",
      "File \u001b[1;32mC:\\Anaconda\\Lib\\site-packages\\pandas\\core\\frame.py:8252\u001b[0m, in \u001b[0;36mDataFrame.groupby\u001b[1;34m(self, by, axis, level, as_index, sort, group_keys, observed, dropna)\u001b[0m\n\u001b[0;32m   8249\u001b[0m     \u001b[38;5;28;01mraise\u001b[39;00m \u001b[38;5;167;01mTypeError\u001b[39;00m(\u001b[38;5;124m\"\u001b[39m\u001b[38;5;124mYou have to supply one of \u001b[39m\u001b[38;5;124m'\u001b[39m\u001b[38;5;124mby\u001b[39m\u001b[38;5;124m'\u001b[39m\u001b[38;5;124m and \u001b[39m\u001b[38;5;124m'\u001b[39m\u001b[38;5;124mlevel\u001b[39m\u001b[38;5;124m'\u001b[39m\u001b[38;5;124m\"\u001b[39m)\n\u001b[0;32m   8250\u001b[0m axis \u001b[38;5;241m=\u001b[39m \u001b[38;5;28mself\u001b[39m\u001b[38;5;241m.\u001b[39m_get_axis_number(axis)\n\u001b[1;32m-> 8252\u001b[0m \u001b[38;5;28;01mreturn\u001b[39;00m DataFrameGroupBy(\n\u001b[0;32m   8253\u001b[0m     obj\u001b[38;5;241m=\u001b[39m\u001b[38;5;28mself\u001b[39m,\n\u001b[0;32m   8254\u001b[0m     keys\u001b[38;5;241m=\u001b[39mby,\n\u001b[0;32m   8255\u001b[0m     axis\u001b[38;5;241m=\u001b[39maxis,\n\u001b[0;32m   8256\u001b[0m     level\u001b[38;5;241m=\u001b[39mlevel,\n\u001b[0;32m   8257\u001b[0m     as_index\u001b[38;5;241m=\u001b[39mas_index,\n\u001b[0;32m   8258\u001b[0m     sort\u001b[38;5;241m=\u001b[39msort,\n\u001b[0;32m   8259\u001b[0m     group_keys\u001b[38;5;241m=\u001b[39mgroup_keys,\n\u001b[0;32m   8260\u001b[0m     observed\u001b[38;5;241m=\u001b[39mobserved,\n\u001b[0;32m   8261\u001b[0m     dropna\u001b[38;5;241m=\u001b[39mdropna,\n\u001b[0;32m   8262\u001b[0m )\n",
      "File \u001b[1;32mC:\\Anaconda\\Lib\\site-packages\\pandas\\core\\groupby\\groupby.py:931\u001b[0m, in \u001b[0;36mGroupBy.__init__\u001b[1;34m(self, obj, keys, axis, level, grouper, exclusions, selection, as_index, sort, group_keys, observed, dropna)\u001b[0m\n\u001b[0;32m    928\u001b[0m \u001b[38;5;28mself\u001b[39m\u001b[38;5;241m.\u001b[39mdropna \u001b[38;5;241m=\u001b[39m dropna\n\u001b[0;32m    930\u001b[0m \u001b[38;5;28;01mif\u001b[39;00m grouper \u001b[38;5;129;01mis\u001b[39;00m \u001b[38;5;28;01mNone\u001b[39;00m:\n\u001b[1;32m--> 931\u001b[0m     grouper, exclusions, obj \u001b[38;5;241m=\u001b[39m get_grouper(\n\u001b[0;32m    932\u001b[0m         obj,\n\u001b[0;32m    933\u001b[0m         keys,\n\u001b[0;32m    934\u001b[0m         axis\u001b[38;5;241m=\u001b[39maxis,\n\u001b[0;32m    935\u001b[0m         level\u001b[38;5;241m=\u001b[39mlevel,\n\u001b[0;32m    936\u001b[0m         sort\u001b[38;5;241m=\u001b[39msort,\n\u001b[0;32m    937\u001b[0m         observed\u001b[38;5;241m=\u001b[39mobserved,\n\u001b[0;32m    938\u001b[0m         dropna\u001b[38;5;241m=\u001b[39m\u001b[38;5;28mself\u001b[39m\u001b[38;5;241m.\u001b[39mdropna,\n\u001b[0;32m    939\u001b[0m     )\n\u001b[0;32m    941\u001b[0m \u001b[38;5;28mself\u001b[39m\u001b[38;5;241m.\u001b[39mobj \u001b[38;5;241m=\u001b[39m obj\n\u001b[0;32m    942\u001b[0m \u001b[38;5;28mself\u001b[39m\u001b[38;5;241m.\u001b[39maxis \u001b[38;5;241m=\u001b[39m obj\u001b[38;5;241m.\u001b[39m_get_axis_number(axis)\n",
      "File \u001b[1;32mC:\\Anaconda\\Lib\\site-packages\\pandas\\core\\groupby\\grouper.py:985\u001b[0m, in \u001b[0;36mget_grouper\u001b[1;34m(obj, key, axis, level, sort, observed, validate, dropna)\u001b[0m\n\u001b[0;32m    983\u001b[0m         in_axis, level, gpr \u001b[38;5;241m=\u001b[39m \u001b[38;5;28;01mFalse\u001b[39;00m, gpr, \u001b[38;5;28;01mNone\u001b[39;00m\n\u001b[0;32m    984\u001b[0m     \u001b[38;5;28;01melse\u001b[39;00m:\n\u001b[1;32m--> 985\u001b[0m         \u001b[38;5;28;01mraise\u001b[39;00m \u001b[38;5;167;01mKeyError\u001b[39;00m(gpr)\n\u001b[0;32m    986\u001b[0m \u001b[38;5;28;01melif\u001b[39;00m \u001b[38;5;28misinstance\u001b[39m(gpr, Grouper) \u001b[38;5;129;01mand\u001b[39;00m gpr\u001b[38;5;241m.\u001b[39mkey \u001b[38;5;129;01mis\u001b[39;00m \u001b[38;5;129;01mnot\u001b[39;00m \u001b[38;5;28;01mNone\u001b[39;00m:\n\u001b[0;32m    987\u001b[0m     \u001b[38;5;66;03m# Add key to exclusions\u001b[39;00m\n\u001b[0;32m    988\u001b[0m     exclusions\u001b[38;5;241m.\u001b[39madd(gpr\u001b[38;5;241m.\u001b[39mkey)\n",
      "\u001b[1;31mKeyError\u001b[0m: 'Year'"
     ]
    }
   ],
   "source": [
    "# Assuming 'data' is your dataset DataFrame\n",
    "\n",
    "# Grouping by 'Year' and 'Month' and calculating the sum of 'Price' and 'Quantity'\n",
    "sales = data.groupby(['Year', 'Month']).agg({'Price':'sum', 'Quantity':'sum'})\n",
    "\n",
    "# Pivot the DataFrame\n",
    "import numpy as np\n",
    "sales = sales.pivot_table(index=['Year', 'Month'], aggfunc=np.sum, fill_value=0)\n",
    "\n",
    "# Plotting the data\n",
    "sales.plot(kind='bar', cmap='Set1')\n",
    "plt.show()"
   ]
  },
  {
   "cell_type": "code",
   "execution_count": 68,
   "id": "211f2657",
   "metadata": {
    "scrolled": true
   },
   "outputs": [
    {
     "data": {
      "application/vnd.plotly.v1+json": {
       "config": {
        "plotlyServerURL": "https://plot.ly"
       },
       "data": [
        {
         "alignmentgroup": "True",
         "hovertemplate": "Country=Australia<br>Month=%{x}<br>Price=%{y}<extra></extra>",
         "legendgroup": "Australia",
         "marker": {
          "color": "#636efa",
          "pattern": {
           "shape": ""
          }
         },
         "name": "Australia",
         "offsetgroup": "Australia",
         "orientation": "v",
         "showlegend": true,
         "textposition": "auto",
         "type": "bar",
         "x": [
          12,
          1,
          2,
          3,
          4,
          5,
          6,
          7,
          8,
          9,
          10,
          11
         ],
         "xaxis": "x",
         "y": [
          124.06,
          338.94,
          265.73,
          368.77,
          390.65,
          381.22,
          370.38,
          396.34000000000003,
          242.98,
          245.76,
          396.06,
          84.86
         ],
         "yaxis": "y"
        },
        {
         "alignmentgroup": "True",
         "hovertemplate": "Country=Austria<br>Month=%{x}<br>Price=%{y}<extra></extra>",
         "legendgroup": "Austria",
         "marker": {
          "color": "#EF553B",
          "pattern": {
           "shape": ""
          }
         },
         "name": "Austria",
         "offsetgroup": "Austria",
         "orientation": "v",
         "showlegend": true,
         "textposition": "auto",
         "type": "bar",
         "x": [
          12,
          2,
          3,
          4,
          5,
          7,
          8,
          10,
          11,
          12
         ],
         "xaxis": "x",
         "y": [
          64.7,
          110.61,
          142.86,
          163.18,
          223.57999999999998,
          195.54,
          279.71,
          187.15,
          261.99,
          64.58
         ],
         "yaxis": "y"
        },
        {
         "alignmentgroup": "True",
         "hovertemplate": "Country=Bahrain<br>Month=%{x}<br>Price=%{y}<extra></extra>",
         "legendgroup": "Bahrain",
         "marker": {
          "color": "#00cc96",
          "pattern": {
           "shape": ""
          }
         },
         "name": "Bahrain",
         "offsetgroup": "Bahrain",
         "orientation": "v",
         "showlegend": true,
         "textposition": "auto",
         "type": "bar",
         "x": [
          12,
          5
         ],
         "xaxis": "x",
         "y": [
          3.81,
          78.95
         ],
         "yaxis": "y"
        },
        {
         "alignmentgroup": "True",
         "hovertemplate": "Country=Belgium<br>Month=%{x}<br>Price=%{y}<extra></extra>",
         "legendgroup": "Belgium",
         "marker": {
          "color": "#ab63fa",
          "pattern": {
           "shape": ""
          }
         },
         "name": "Belgium",
         "offsetgroup": "Belgium",
         "orientation": "v",
         "showlegend": true,
         "textposition": "auto",
         "type": "bar",
         "x": [
          12,
          1,
          2,
          3,
          4,
          5,
          6,
          7,
          8,
          9,
          10,
          11,
          12
         ],
         "xaxis": "x",
         "y": [
          273.35,
          199.88,
          457.65999999999997,
          631.18,
          366.38,
          502.26,
          813.22,
          473.45,
          726.14,
          682.96,
          1053.98,
          926.65,
          265.74
         ],
         "yaxis": "y"
        },
        {
         "alignmentgroup": "True",
         "hovertemplate": "Country=France<br>Month=%{x}<br>Price=%{y}<extra></extra>",
         "legendgroup": "France",
         "marker": {
          "color": "#FFA15A",
          "pattern": {
           "shape": ""
          }
         },
         "name": "France",
         "offsetgroup": "France",
         "orientation": "v",
         "showlegend": true,
         "textposition": "auto",
         "type": "bar",
         "x": [
          12,
          1,
          2,
          3,
          4,
          5,
          6,
          7,
          8,
          9,
          10,
          11,
          12
         ],
         "xaxis": "x",
         "y": [
          1537.51,
          2264.59,
          1239.67,
          1714.47,
          2004.07,
          2544.77,
          1948.48,
          1555.16,
          1813.53,
          3316.45,
          11161.720000000001,
          4782.49,
          1066.82
         ],
         "yaxis": "y"
        },
        {
         "alignmentgroup": "True",
         "hovertemplate": "Country=Germany<br>Month=%{x}<br>Price=%{y}<extra></extra>",
         "legendgroup": "Germany",
         "marker": {
          "color": "#19d3f3",
          "pattern": {
           "shape": ""
          }
         },
         "name": "Germany",
         "offsetgroup": "Germany",
         "orientation": "v",
         "showlegend": true,
         "textposition": "auto",
         "type": "bar",
         "x": [
          12,
          1,
          2,
          3,
          4,
          5,
          6,
          7,
          8,
          9,
          10,
          11,
          12
         ],
         "xaxis": "x",
         "y": [
          1960.42,
          2516.13,
          1151.99,
          2078.22,
          1810.49,
          2955.17,
          1949.66,
          2726.02,
          2634.35,
          2445.57,
          5019.26,
          4928.63,
          1323.67
         ],
         "yaxis": "y"
        },
        {
         "alignmentgroup": "True",
         "hovertemplate": "Country=Iceland<br>Month=%{x}<br>Price=%{y}<extra></extra>",
         "legendgroup": "Iceland",
         "marker": {
          "color": "#FF6692",
          "pattern": {
           "shape": ""
          }
         },
         "name": "Iceland",
         "offsetgroup": "Iceland",
         "orientation": "v",
         "showlegend": true,
         "textposition": "auto",
         "type": "bar",
         "x": [
          12,
          1,
          4,
          6,
          8,
          10,
          12
         ],
         "xaxis": "x",
         "y": [
          89.59,
          73.17,
          62.29,
          53.62,
          68.24000000000001,
          120.76,
          13.54
         ],
         "yaxis": "y"
        },
        {
         "alignmentgroup": "True",
         "hovertemplate": "Country=Italy<br>Month=%{x}<br>Price=%{y}<extra></extra>",
         "legendgroup": "Italy",
         "marker": {
          "color": "#B6E880",
          "pattern": {
           "shape": ""
          }
         },
         "name": "Italy",
         "offsetgroup": "Italy",
         "orientation": "v",
         "showlegend": true,
         "textposition": "auto",
         "type": "bar",
         "x": [
          12,
          1,
          2,
          3,
          4,
          5,
          6,
          7,
          8,
          9,
          10,
          11,
          12
         ],
         "xaxis": "x",
         "y": [
          207,
          351.6,
          53.5,
          379.68,
          43.62,
          60.25,
          79.77,
          48.800000000000004,
          418.6,
          106.6,
          678.61,
          1083.73,
          64.45
         ],
         "yaxis": "y"
        },
        {
         "alignmentgroup": "True",
         "hovertemplate": "Country=Japan<br>Month=%{x}<br>Price=%{y}<extra></extra>",
         "legendgroup": "Japan",
         "marker": {
          "color": "#FF97FF",
          "pattern": {
           "shape": ""
          }
         },
         "name": "Japan",
         "offsetgroup": "Japan",
         "orientation": "v",
         "showlegend": true,
         "textposition": "auto",
         "type": "bar",
         "x": [
          12,
          2,
          3,
          4,
          5,
          6,
          7,
          9,
          10,
          11
         ],
         "xaxis": "x",
         "y": [
          123.5,
          161.19,
          36.15,
          91.41,
          31.5,
          4.8,
          73.64,
          2.9699999999999998,
          32.82,
          99.23
         ],
         "yaxis": "y"
        },
        {
         "alignmentgroup": "True",
         "hovertemplate": "Country=Lithuania<br>Month=%{x}<br>Price=%{y}<extra></extra>",
         "legendgroup": "Lithuania",
         "marker": {
          "color": "#FECB52",
          "pattern": {
           "shape": ""
          }
         },
         "name": "Lithuania",
         "offsetgroup": "Lithuania",
         "orientation": "v",
         "showlegend": true,
         "textposition": "auto",
         "type": "bar",
         "x": [
          12
         ],
         "xaxis": "x",
         "y": [
          99.44
         ],
         "yaxis": "y"
        },
        {
         "alignmentgroup": "True",
         "hovertemplate": "Country=Netherlands<br>Month=%{x}<br>Price=%{y}<extra></extra>",
         "legendgroup": "Netherlands",
         "marker": {
          "color": "#636efa",
          "pattern": {
           "shape": ""
          }
         },
         "name": "Netherlands",
         "offsetgroup": "Netherlands",
         "orientation": "v",
         "showlegend": true,
         "textposition": "auto",
         "type": "bar",
         "x": [
          12,
          1,
          2,
          3,
          4,
          5,
          6,
          7,
          8,
          9,
          10,
          11,
          12
         ],
         "xaxis": "x",
         "y": [
          161.69,
          443.62,
          421.08,
          549.47,
          54.93,
          676.3,
          801.31,
          26.02,
          606.32,
          917.17,
          784.63,
          603.8,
          201.39000000000001
         ],
         "yaxis": "y"
        },
        {
         "alignmentgroup": "True",
         "hovertemplate": "Country=Norway<br>Month=%{x}<br>Price=%{y}<extra></extra>",
         "legendgroup": "Norway",
         "marker": {
          "color": "#EF553B",
          "pattern": {
           "shape": ""
          }
         },
         "name": "Norway",
         "offsetgroup": "Norway",
         "orientation": "v",
         "showlegend": true,
         "textposition": "auto",
         "type": "bar",
         "x": [
          12,
          2,
          3,
          6,
          7,
          8,
          9,
          10,
          11,
          12
         ],
         "xaxis": "x",
         "y": [
          238.83,
          133.65,
          974.73,
          1521.0700000000002,
          168.63,
          408.56,
          746.67,
          511.37,
          740.53,
          218.43
         ],
         "yaxis": "y"
        },
        {
         "alignmentgroup": "True",
         "hovertemplate": "Country=Poland<br>Month=%{x}<br>Price=%{y}<extra></extra>",
         "legendgroup": "Poland",
         "marker": {
          "color": "#00cc96",
          "pattern": {
           "shape": ""
          }
         },
         "name": "Poland",
         "offsetgroup": "Poland",
         "orientation": "v",
         "showlegend": true,
         "textposition": "auto",
         "type": "bar",
         "x": [
          12,
          1,
          2,
          3,
          4,
          5,
          6,
          7,
          8,
          9,
          11
         ],
         "xaxis": "x",
         "y": [
          18.99,
          96.03999999999999,
          68.5,
          30.919999999999998,
          77.59,
          299.71,
          136.75,
          158.09,
          111.09,
          188.85,
          190.68
         ],
         "yaxis": "y"
        },
        {
         "alignmentgroup": "True",
         "hovertemplate": "Country=Portugal<br>Month=%{x}<br>Price=%{y}<extra></extra>",
         "legendgroup": "Portugal",
         "marker": {
          "color": "#ab63fa",
          "pattern": {
           "shape": ""
          }
         },
         "name": "Portugal",
         "offsetgroup": "Portugal",
         "orientation": "v",
         "showlegend": true,
         "textposition": "auto",
         "type": "bar",
         "x": [
          12,
          1,
          2,
          3,
          4,
          5,
          6,
          7,
          8,
          9,
          10,
          11,
          12
         ],
         "xaxis": "x",
         "y": [
          489.61,
          411.93,
          216.98000000000002,
          334.88,
          214.86,
          3763.42,
          165.78,
          200.21,
          51.56,
          191.76,
          1799.07,
          557.08,
          346.97
         ],
         "yaxis": "y"
        },
        {
         "alignmentgroup": "True",
         "hovertemplate": "Country=Spain<br>Month=%{x}<br>Price=%{y}<extra></extra>",
         "legendgroup": "Spain",
         "marker": {
          "color": "#FFA15A",
          "pattern": {
           "shape": ""
          }
         },
         "name": "Spain",
         "offsetgroup": "Spain",
         "orientation": "v",
         "showlegend": true,
         "textposition": "auto",
         "type": "bar",
         "x": [
          12,
          1,
          2,
          3,
          4,
          5,
          6,
          7,
          8,
          9,
          10,
          11,
          12
         ],
         "xaxis": "x",
         "y": [
          250.76,
          1427.3,
          450.92,
          847.86,
          396.65,
          419.66,
          797.32,
          640.88,
          880.03,
          972.37,
          1127.73,
          1151.3,
          129.61
         ],
         "yaxis": "y"
        },
        {
         "alignmentgroup": "True",
         "hovertemplate": "Country=Sweden<br>Month=%{x}<br>Price=%{y}<extra></extra>",
         "legendgroup": "Sweden",
         "marker": {
          "color": "#19d3f3",
          "pattern": {
           "shape": ""
          }
         },
         "name": "Sweden",
         "offsetgroup": "Sweden",
         "orientation": "v",
         "showlegend": true,
         "textposition": "auto",
         "type": "bar",
         "x": [
          12,
          1,
          2,
          3,
          4,
          5,
          6,
          7,
          8,
          9,
          10,
          11,
          12
         ],
         "xaxis": "x",
         "y": [
          42.32,
          109.37,
          62.91,
          90.81,
          179.55,
          90.27000000000001,
          174.88,
          168.86,
          230.15,
          112.21000000000001,
          133.4,
          293.01,
          5.95
         ],
         "yaxis": "y"
        },
        {
         "alignmentgroup": "True",
         "hovertemplate": "Country=Switzerland<br>Month=%{x}<br>Price=%{y}<extra></extra>",
         "legendgroup": "Switzerland",
         "marker": {
          "color": "#FF6692",
          "pattern": {
           "shape": ""
          }
         },
         "name": "Switzerland",
         "offsetgroup": "Switzerland",
         "orientation": "v",
         "showlegend": true,
         "textposition": "auto",
         "type": "bar",
         "x": [
          12,
          1,
          2,
          3,
          4,
          5,
          6,
          7,
          8,
          9,
          10,
          11
         ],
         "xaxis": "x",
         "y": [
          146.02,
          436.81,
          492,
          282.02,
          384.72,
          430.61,
          481.84000000000003,
          600.21,
          886.76,
          651.61,
          1021.71,
          801.95
         ],
         "yaxis": "y"
        },
        {
         "alignmentgroup": "True",
         "hovertemplate": "Country=United Kingdom<br>Month=%{x}<br>Price=%{y}<extra></extra>",
         "legendgroup": "United Kingdom",
         "marker": {
          "color": "#B6E880",
          "pattern": {
           "shape": ""
          }
         },
         "name": "United Kingdom",
         "offsetgroup": "United Kingdom",
         "orientation": "v",
         "showlegend": true,
         "textposition": "auto",
         "type": "bar",
         "x": [
          12,
          1,
          2,
          3,
          4,
          5,
          6,
          7,
          8,
          9,
          10,
          11,
          12
         ],
         "xaxis": "x",
         "y": [
          190445.14,
          118030.86,
          99009.42,
          126260.53,
          100477.351,
          133807.47,
          122603.52,
          130134.141,
          101616.74,
          155043.332,
          185411.44,
          274536.31,
          95610.16
         ],
         "yaxis": "y"
        },
        {
         "alignmentgroup": "True",
         "hovertemplate": "Country=Greece<br>Month=%{x}<br>Price=%{y}<extra></extra>",
         "legendgroup": "Greece",
         "marker": {
          "color": "#FF97FF",
          "pattern": {
           "shape": ""
          }
         },
         "name": "Greece",
         "offsetgroup": "Greece",
         "orientation": "v",
         "showlegend": true,
         "textposition": "auto",
         "type": "bar",
         "x": [
          1,
          3,
          4,
          7,
          12
         ],
         "xaxis": "x",
         "y": [
          207.39,
          35.69,
          161.82,
          95.03,
          163.36
         ],
         "yaxis": "y"
        },
        {
         "alignmentgroup": "True",
         "hovertemplate": "Country=Hong Kong<br>Month=%{x}<br>Price=%{y}<extra></extra>",
         "legendgroup": "Hong Kong",
         "marker": {
          "color": "#FECB52",
          "pattern": {
           "shape": ""
          }
         },
         "name": "Hong Kong",
         "offsetgroup": "Hong Kong",
         "orientation": "v",
         "showlegend": true,
         "textposition": "auto",
         "type": "bar",
         "x": [
          1,
          3,
          4,
          5,
          6,
          8,
          9,
          10,
          11
         ],
         "xaxis": "x",
         "y": [
          161.76,
          2583.76,
          113.41,
          217.96,
          59.44,
          414.75,
          2653.95,
          118.51,
          326.1
         ],
         "yaxis": "y"
        },
        {
         "alignmentgroup": "True",
         "hovertemplate": "Country=Israel<br>Month=%{x}<br>Price=%{y}<extra></extra>",
         "legendgroup": "Israel",
         "marker": {
          "color": "#636efa",
          "pattern": {
           "shape": ""
          }
         },
         "name": "Israel",
         "offsetgroup": "Israel",
         "orientation": "v",
         "showlegend": true,
         "textposition": "auto",
         "type": "bar",
         "x": [
          1,
          2,
          4,
          7,
          8,
          9,
          10
         ],
         "xaxis": "x",
         "y": [
          59.94,
          46.8,
          33.75,
          64.61,
          704.08,
          72.85,
          81.85
         ],
         "yaxis": "y"
        },
        {
         "alignmentgroup": "True",
         "hovertemplate": "Country=Lebanon<br>Month=%{x}<br>Price=%{y}<extra></extra>",
         "legendgroup": "Lebanon",
         "marker": {
          "color": "#EF553B",
          "pattern": {
           "shape": ""
          }
         },
         "name": "Lebanon",
         "offsetgroup": "Lebanon",
         "orientation": "v",
         "showlegend": true,
         "textposition": "auto",
         "type": "bar",
         "x": [
          1
         ],
         "xaxis": "x",
         "y": [
          242.44
         ],
         "yaxis": "y"
        },
        {
         "alignmentgroup": "True",
         "hovertemplate": "Country=Singapore<br>Month=%{x}<br>Price=%{y}<extra></extra>",
         "legendgroup": "Singapore",
         "marker": {
          "color": "#00cc96",
          "pattern": {
           "shape": ""
          }
         },
         "name": "Singapore",
         "offsetgroup": "Singapore",
         "orientation": "v",
         "showlegend": true,
         "textposition": "auto",
         "type": "bar",
         "x": [
          1,
          4,
          7,
          10
         ],
         "xaxis": "x",
         "y": [
          263.34000000000003,
          6218.77,
          230.46,
          6237.42
         ],
         "yaxis": "y"
        },
        {
         "alignmentgroup": "True",
         "hovertemplate": "Country=Saudi Arabia<br>Month=%{x}<br>Price=%{y}<extra></extra>",
         "legendgroup": "Saudi Arabia",
         "marker": {
          "color": "#ab63fa",
          "pattern": {
           "shape": ""
          }
         },
         "name": "Saudi Arabia",
         "offsetgroup": "Saudi Arabia",
         "orientation": "v",
         "showlegend": true,
         "textposition": "auto",
         "type": "bar",
         "x": [
          2
         ],
         "xaxis": "x",
         "y": [
          21.16
         ],
         "yaxis": "y"
        },
        {
         "alignmentgroup": "True",
         "hovertemplate": "Country=United Arab Emirates<br>Month=%{x}<br>Price=%{y}<extra></extra>",
         "legendgroup": "United Arab Emirates",
         "marker": {
          "color": "#FFA15A",
          "pattern": {
           "shape": ""
          }
         },
         "name": "United Arab Emirates",
         "offsetgroup": "United Arab Emirates",
         "orientation": "v",
         "showlegend": true,
         "textposition": "auto",
         "type": "bar",
         "x": [
          2,
          9
         ],
         "xaxis": "x",
         "y": [
          77.57,
          152.32
         ],
         "yaxis": "y"
        },
        {
         "alignmentgroup": "True",
         "hovertemplate": "Country=Brazil<br>Month=%{x}<br>Price=%{y}<extra></extra>",
         "legendgroup": "Brazil",
         "marker": {
          "color": "#19d3f3",
          "pattern": {
           "shape": ""
          }
         },
         "name": "Brazil",
         "offsetgroup": "Brazil",
         "orientation": "v",
         "showlegend": true,
         "textposition": "auto",
         "type": "bar",
         "x": [
          4
         ],
         "xaxis": "x",
         "y": [
          142.6
         ],
         "yaxis": "y"
        },
        {
         "alignmentgroup": "True",
         "hovertemplate": "Country=USA<br>Month=%{x}<br>Price=%{y}<extra></extra>",
         "legendgroup": "USA",
         "marker": {
          "color": "#FF6692",
          "pattern": {
           "shape": ""
          }
         },
         "name": "USA",
         "offsetgroup": "USA",
         "orientation": "v",
         "showlegend": true,
         "textposition": "auto",
         "type": "bar",
         "x": [
          4,
          10,
          12
         ],
         "xaxis": "x",
         "y": [
          74.2,
          282.64,
          56.46
         ],
         "yaxis": "y"
        },
        {
         "alignmentgroup": "True",
         "hovertemplate": "Country=Unspecified<br>Month=%{x}<br>Price=%{y}<extra></extra>",
         "legendgroup": "Unspecified",
         "marker": {
          "color": "#B6E880",
          "pattern": {
           "shape": ""
          }
         },
         "name": "Unspecified",
         "offsetgroup": "Unspecified",
         "orientation": "v",
         "showlegend": true,
         "textposition": "auto",
         "type": "bar",
         "x": [
          4,
          5,
          6,
          7,
          8,
          9,
          11
         ],
         "xaxis": "x",
         "y": [
          36.5,
          127.32000000000001,
          42.1,
          622,
          146.51,
          105.88,
          116.10000000000001
         ],
         "yaxis": "y"
        },
        {
         "alignmentgroup": "True",
         "hovertemplate": "Country=Malta<br>Month=%{x}<br>Price=%{y}<extra></extra>",
         "legendgroup": "Malta",
         "marker": {
          "color": "#FF97FF",
          "pattern": {
           "shape": ""
          }
         },
         "name": "Malta",
         "offsetgroup": "Malta",
         "orientation": "v",
         "showlegend": true,
         "textposition": "auto",
         "type": "bar",
         "x": [
          6,
          8,
          11
         ],
         "xaxis": "x",
         "y": [
          167.26,
          262.02,
          115.91
         ],
         "yaxis": "y"
        },
        {
         "alignmentgroup": "True",
         "hovertemplate": "Country=RSA<br>Month=%{x}<br>Price=%{y}<extra></extra>",
         "legendgroup": "RSA",
         "marker": {
          "color": "#FECB52",
          "pattern": {
           "shape": ""
          }
         },
         "name": "RSA",
         "offsetgroup": "RSA",
         "orientation": "v",
         "showlegend": true,
         "textposition": "auto",
         "type": "bar",
         "x": [
          10
         ],
         "xaxis": "x",
         "y": [
          248.1
         ],
         "yaxis": "y"
        }
       ],
       "layout": {
        "barmode": "relative",
        "legend": {
         "title": {
          "text": "Country"
         },
         "tracegroupgap": 0
        },
        "template": {
         "data": {
          "bar": [
           {
            "error_x": {
             "color": "#2a3f5f"
            },
            "error_y": {
             "color": "#2a3f5f"
            },
            "marker": {
             "line": {
              "color": "#E5ECF6",
              "width": 0.5
             },
             "pattern": {
              "fillmode": "overlay",
              "size": 10,
              "solidity": 0.2
             }
            },
            "type": "bar"
           }
          ],
          "barpolar": [
           {
            "marker": {
             "line": {
              "color": "#E5ECF6",
              "width": 0.5
             },
             "pattern": {
              "fillmode": "overlay",
              "size": 10,
              "solidity": 0.2
             }
            },
            "type": "barpolar"
           }
          ],
          "carpet": [
           {
            "aaxis": {
             "endlinecolor": "#2a3f5f",
             "gridcolor": "white",
             "linecolor": "white",
             "minorgridcolor": "white",
             "startlinecolor": "#2a3f5f"
            },
            "baxis": {
             "endlinecolor": "#2a3f5f",
             "gridcolor": "white",
             "linecolor": "white",
             "minorgridcolor": "white",
             "startlinecolor": "#2a3f5f"
            },
            "type": "carpet"
           }
          ],
          "choropleth": [
           {
            "colorbar": {
             "outlinewidth": 0,
             "ticks": ""
            },
            "type": "choropleth"
           }
          ],
          "contour": [
           {
            "colorbar": {
             "outlinewidth": 0,
             "ticks": ""
            },
            "colorscale": [
             [
              0,
              "#0d0887"
             ],
             [
              0.1111111111111111,
              "#46039f"
             ],
             [
              0.2222222222222222,
              "#7201a8"
             ],
             [
              0.3333333333333333,
              "#9c179e"
             ],
             [
              0.4444444444444444,
              "#bd3786"
             ],
             [
              0.5555555555555556,
              "#d8576b"
             ],
             [
              0.6666666666666666,
              "#ed7953"
             ],
             [
              0.7777777777777778,
              "#fb9f3a"
             ],
             [
              0.8888888888888888,
              "#fdca26"
             ],
             [
              1,
              "#f0f921"
             ]
            ],
            "type": "contour"
           }
          ],
          "contourcarpet": [
           {
            "colorbar": {
             "outlinewidth": 0,
             "ticks": ""
            },
            "type": "contourcarpet"
           }
          ],
          "heatmap": [
           {
            "colorbar": {
             "outlinewidth": 0,
             "ticks": ""
            },
            "colorscale": [
             [
              0,
              "#0d0887"
             ],
             [
              0.1111111111111111,
              "#46039f"
             ],
             [
              0.2222222222222222,
              "#7201a8"
             ],
             [
              0.3333333333333333,
              "#9c179e"
             ],
             [
              0.4444444444444444,
              "#bd3786"
             ],
             [
              0.5555555555555556,
              "#d8576b"
             ],
             [
              0.6666666666666666,
              "#ed7953"
             ],
             [
              0.7777777777777778,
              "#fb9f3a"
             ],
             [
              0.8888888888888888,
              "#fdca26"
             ],
             [
              1,
              "#f0f921"
             ]
            ],
            "type": "heatmap"
           }
          ],
          "heatmapgl": [
           {
            "colorbar": {
             "outlinewidth": 0,
             "ticks": ""
            },
            "colorscale": [
             [
              0,
              "#0d0887"
             ],
             [
              0.1111111111111111,
              "#46039f"
             ],
             [
              0.2222222222222222,
              "#7201a8"
             ],
             [
              0.3333333333333333,
              "#9c179e"
             ],
             [
              0.4444444444444444,
              "#bd3786"
             ],
             [
              0.5555555555555556,
              "#d8576b"
             ],
             [
              0.6666666666666666,
              "#ed7953"
             ],
             [
              0.7777777777777778,
              "#fb9f3a"
             ],
             [
              0.8888888888888888,
              "#fdca26"
             ],
             [
              1,
              "#f0f921"
             ]
            ],
            "type": "heatmapgl"
           }
          ],
          "histogram": [
           {
            "marker": {
             "pattern": {
              "fillmode": "overlay",
              "size": 10,
              "solidity": 0.2
             }
            },
            "type": "histogram"
           }
          ],
          "histogram2d": [
           {
            "colorbar": {
             "outlinewidth": 0,
             "ticks": ""
            },
            "colorscale": [
             [
              0,
              "#0d0887"
             ],
             [
              0.1111111111111111,
              "#46039f"
             ],
             [
              0.2222222222222222,
              "#7201a8"
             ],
             [
              0.3333333333333333,
              "#9c179e"
             ],
             [
              0.4444444444444444,
              "#bd3786"
             ],
             [
              0.5555555555555556,
              "#d8576b"
             ],
             [
              0.6666666666666666,
              "#ed7953"
             ],
             [
              0.7777777777777778,
              "#fb9f3a"
             ],
             [
              0.8888888888888888,
              "#fdca26"
             ],
             [
              1,
              "#f0f921"
             ]
            ],
            "type": "histogram2d"
           }
          ],
          "histogram2dcontour": [
           {
            "colorbar": {
             "outlinewidth": 0,
             "ticks": ""
            },
            "colorscale": [
             [
              0,
              "#0d0887"
             ],
             [
              0.1111111111111111,
              "#46039f"
             ],
             [
              0.2222222222222222,
              "#7201a8"
             ],
             [
              0.3333333333333333,
              "#9c179e"
             ],
             [
              0.4444444444444444,
              "#bd3786"
             ],
             [
              0.5555555555555556,
              "#d8576b"
             ],
             [
              0.6666666666666666,
              "#ed7953"
             ],
             [
              0.7777777777777778,
              "#fb9f3a"
             ],
             [
              0.8888888888888888,
              "#fdca26"
             ],
             [
              1,
              "#f0f921"
             ]
            ],
            "type": "histogram2dcontour"
           }
          ],
          "mesh3d": [
           {
            "colorbar": {
             "outlinewidth": 0,
             "ticks": ""
            },
            "type": "mesh3d"
           }
          ],
          "parcoords": [
           {
            "line": {
             "colorbar": {
              "outlinewidth": 0,
              "ticks": ""
             }
            },
            "type": "parcoords"
           }
          ],
          "pie": [
           {
            "automargin": true,
            "type": "pie"
           }
          ],
          "scatter": [
           {
            "fillpattern": {
             "fillmode": "overlay",
             "size": 10,
             "solidity": 0.2
            },
            "type": "scatter"
           }
          ],
          "scatter3d": [
           {
            "line": {
             "colorbar": {
              "outlinewidth": 0,
              "ticks": ""
             }
            },
            "marker": {
             "colorbar": {
              "outlinewidth": 0,
              "ticks": ""
             }
            },
            "type": "scatter3d"
           }
          ],
          "scattercarpet": [
           {
            "marker": {
             "colorbar": {
              "outlinewidth": 0,
              "ticks": ""
             }
            },
            "type": "scattercarpet"
           }
          ],
          "scattergeo": [
           {
            "marker": {
             "colorbar": {
              "outlinewidth": 0,
              "ticks": ""
             }
            },
            "type": "scattergeo"
           }
          ],
          "scattergl": [
           {
            "marker": {
             "colorbar": {
              "outlinewidth": 0,
              "ticks": ""
             }
            },
            "type": "scattergl"
           }
          ],
          "scattermapbox": [
           {
            "marker": {
             "colorbar": {
              "outlinewidth": 0,
              "ticks": ""
             }
            },
            "type": "scattermapbox"
           }
          ],
          "scatterpolar": [
           {
            "marker": {
             "colorbar": {
              "outlinewidth": 0,
              "ticks": ""
             }
            },
            "type": "scatterpolar"
           }
          ],
          "scatterpolargl": [
           {
            "marker": {
             "colorbar": {
              "outlinewidth": 0,
              "ticks": ""
             }
            },
            "type": "scatterpolargl"
           }
          ],
          "scatterternary": [
           {
            "marker": {
             "colorbar": {
              "outlinewidth": 0,
              "ticks": ""
             }
            },
            "type": "scatterternary"
           }
          ],
          "surface": [
           {
            "colorbar": {
             "outlinewidth": 0,
             "ticks": ""
            },
            "colorscale": [
             [
              0,
              "#0d0887"
             ],
             [
              0.1111111111111111,
              "#46039f"
             ],
             [
              0.2222222222222222,
              "#7201a8"
             ],
             [
              0.3333333333333333,
              "#9c179e"
             ],
             [
              0.4444444444444444,
              "#bd3786"
             ],
             [
              0.5555555555555556,
              "#d8576b"
             ],
             [
              0.6666666666666666,
              "#ed7953"
             ],
             [
              0.7777777777777778,
              "#fb9f3a"
             ],
             [
              0.8888888888888888,
              "#fdca26"
             ],
             [
              1,
              "#f0f921"
             ]
            ],
            "type": "surface"
           }
          ],
          "table": [
           {
            "cells": {
             "fill": {
              "color": "#EBF0F8"
             },
             "line": {
              "color": "white"
             }
            },
            "header": {
             "fill": {
              "color": "#C8D4E3"
             },
             "line": {
              "color": "white"
             }
            },
            "type": "table"
           }
          ]
         },
         "layout": {
          "annotationdefaults": {
           "arrowcolor": "#2a3f5f",
           "arrowhead": 0,
           "arrowwidth": 1
          },
          "autotypenumbers": "strict",
          "coloraxis": {
           "colorbar": {
            "outlinewidth": 0,
            "ticks": ""
           }
          },
          "colorscale": {
           "diverging": [
            [
             0,
             "#8e0152"
            ],
            [
             0.1,
             "#c51b7d"
            ],
            [
             0.2,
             "#de77ae"
            ],
            [
             0.3,
             "#f1b6da"
            ],
            [
             0.4,
             "#fde0ef"
            ],
            [
             0.5,
             "#f7f7f7"
            ],
            [
             0.6,
             "#e6f5d0"
            ],
            [
             0.7,
             "#b8e186"
            ],
            [
             0.8,
             "#7fbc41"
            ],
            [
             0.9,
             "#4d9221"
            ],
            [
             1,
             "#276419"
            ]
           ],
           "sequential": [
            [
             0,
             "#0d0887"
            ],
            [
             0.1111111111111111,
             "#46039f"
            ],
            [
             0.2222222222222222,
             "#7201a8"
            ],
            [
             0.3333333333333333,
             "#9c179e"
            ],
            [
             0.4444444444444444,
             "#bd3786"
            ],
            [
             0.5555555555555556,
             "#d8576b"
            ],
            [
             0.6666666666666666,
             "#ed7953"
            ],
            [
             0.7777777777777778,
             "#fb9f3a"
            ],
            [
             0.8888888888888888,
             "#fdca26"
            ],
            [
             1,
             "#f0f921"
            ]
           ],
           "sequentialminus": [
            [
             0,
             "#0d0887"
            ],
            [
             0.1111111111111111,
             "#46039f"
            ],
            [
             0.2222222222222222,
             "#7201a8"
            ],
            [
             0.3333333333333333,
             "#9c179e"
            ],
            [
             0.4444444444444444,
             "#bd3786"
            ],
            [
             0.5555555555555556,
             "#d8576b"
            ],
            [
             0.6666666666666666,
             "#ed7953"
            ],
            [
             0.7777777777777778,
             "#fb9f3a"
            ],
            [
             0.8888888888888888,
             "#fdca26"
            ],
            [
             1,
             "#f0f921"
            ]
           ]
          },
          "colorway": [
           "#636efa",
           "#EF553B",
           "#00cc96",
           "#ab63fa",
           "#FFA15A",
           "#19d3f3",
           "#FF6692",
           "#B6E880",
           "#FF97FF",
           "#FECB52"
          ],
          "font": {
           "color": "#2a3f5f"
          },
          "geo": {
           "bgcolor": "white",
           "lakecolor": "white",
           "landcolor": "#E5ECF6",
           "showlakes": true,
           "showland": true,
           "subunitcolor": "white"
          },
          "hoverlabel": {
           "align": "left"
          },
          "hovermode": "closest",
          "mapbox": {
           "style": "light"
          },
          "paper_bgcolor": "white",
          "plot_bgcolor": "#E5ECF6",
          "polar": {
           "angularaxis": {
            "gridcolor": "white",
            "linecolor": "white",
            "ticks": ""
           },
           "bgcolor": "#E5ECF6",
           "radialaxis": {
            "gridcolor": "white",
            "linecolor": "white",
            "ticks": ""
           }
          },
          "scene": {
           "xaxis": {
            "backgroundcolor": "#E5ECF6",
            "gridcolor": "white",
            "gridwidth": 2,
            "linecolor": "white",
            "showbackground": true,
            "ticks": "",
            "zerolinecolor": "white"
           },
           "yaxis": {
            "backgroundcolor": "#E5ECF6",
            "gridcolor": "white",
            "gridwidth": 2,
            "linecolor": "white",
            "showbackground": true,
            "ticks": "",
            "zerolinecolor": "white"
           },
           "zaxis": {
            "backgroundcolor": "#E5ECF6",
            "gridcolor": "white",
            "gridwidth": 2,
            "linecolor": "white",
            "showbackground": true,
            "ticks": "",
            "zerolinecolor": "white"
           }
          },
          "shapedefaults": {
           "line": {
            "color": "#2a3f5f"
           }
          },
          "ternary": {
           "aaxis": {
            "gridcolor": "white",
            "linecolor": "white",
            "ticks": ""
           },
           "baxis": {
            "gridcolor": "white",
            "linecolor": "white",
            "ticks": ""
           },
           "bgcolor": "#E5ECF6",
           "caxis": {
            "gridcolor": "white",
            "linecolor": "white",
            "ticks": ""
           }
          },
          "title": {
           "x": 0.05
          },
          "xaxis": {
           "automargin": true,
           "gridcolor": "white",
           "linecolor": "white",
           "ticks": "",
           "title": {
            "standoff": 15
           },
           "zerolinecolor": "white",
           "zerolinewidth": 2
          },
          "yaxis": {
           "automargin": true,
           "gridcolor": "white",
           "linecolor": "white",
           "ticks": "",
           "title": {
            "standoff": 15
           },
           "zerolinecolor": "white",
           "zerolinewidth": 2
          }
         }
        },
        "title": {
         "text": "Monthly sales amount in each country in 2021"
        },
        "xaxis": {
         "anchor": "y",
         "domain": [
          0,
          1
         ],
         "title": {
          "text": "Month"
         }
        },
        "yaxis": {
         "anchor": "x",
         "domain": [
          0,
          1
         ],
         "title": {
          "text": "Sales amount"
         }
        }
       }
      },
      "text/html": [
       "<div>                            <div id=\"952684cc-89f0-4f84-a471-c4f4aee3d828\" class=\"plotly-graph-div\" style=\"height:525px; width:100%;\"></div>            <script type=\"text/javascript\">                require([\"plotly\"], function(Plotly) {                    window.PLOTLYENV=window.PLOTLYENV || {};                                    if (document.getElementById(\"952684cc-89f0-4f84-a471-c4f4aee3d828\")) {                    Plotly.newPlot(                        \"952684cc-89f0-4f84-a471-c4f4aee3d828\",                        [{\"alignmentgroup\":\"True\",\"hovertemplate\":\"Country=Australia<br>Month=%{x}<br>Price=%{y}<extra></extra>\",\"legendgroup\":\"Australia\",\"marker\":{\"color\":\"#636efa\",\"pattern\":{\"shape\":\"\"}},\"name\":\"Australia\",\"offsetgroup\":\"Australia\",\"orientation\":\"v\",\"showlegend\":true,\"textposition\":\"auto\",\"x\":[12,1,2,3,4,5,6,7,8,9,10,11],\"xaxis\":\"x\",\"y\":[124.06,338.94,265.73,368.77,390.65,381.22,370.38,396.34000000000003,242.98,245.76,396.06,84.86],\"yaxis\":\"y\",\"type\":\"bar\"},{\"alignmentgroup\":\"True\",\"hovertemplate\":\"Country=Austria<br>Month=%{x}<br>Price=%{y}<extra></extra>\",\"legendgroup\":\"Austria\",\"marker\":{\"color\":\"#EF553B\",\"pattern\":{\"shape\":\"\"}},\"name\":\"Austria\",\"offsetgroup\":\"Austria\",\"orientation\":\"v\",\"showlegend\":true,\"textposition\":\"auto\",\"x\":[12,2,3,4,5,7,8,10,11,12],\"xaxis\":\"x\",\"y\":[64.7,110.61,142.86,163.18,223.57999999999998,195.54,279.71,187.15,261.99,64.58],\"yaxis\":\"y\",\"type\":\"bar\"},{\"alignmentgroup\":\"True\",\"hovertemplate\":\"Country=Bahrain<br>Month=%{x}<br>Price=%{y}<extra></extra>\",\"legendgroup\":\"Bahrain\",\"marker\":{\"color\":\"#00cc96\",\"pattern\":{\"shape\":\"\"}},\"name\":\"Bahrain\",\"offsetgroup\":\"Bahrain\",\"orientation\":\"v\",\"showlegend\":true,\"textposition\":\"auto\",\"x\":[12,5],\"xaxis\":\"x\",\"y\":[3.81,78.95],\"yaxis\":\"y\",\"type\":\"bar\"},{\"alignmentgroup\":\"True\",\"hovertemplate\":\"Country=Belgium<br>Month=%{x}<br>Price=%{y}<extra></extra>\",\"legendgroup\":\"Belgium\",\"marker\":{\"color\":\"#ab63fa\",\"pattern\":{\"shape\":\"\"}},\"name\":\"Belgium\",\"offsetgroup\":\"Belgium\",\"orientation\":\"v\",\"showlegend\":true,\"textposition\":\"auto\",\"x\":[12,1,2,3,4,5,6,7,8,9,10,11,12],\"xaxis\":\"x\",\"y\":[273.35,199.88,457.65999999999997,631.18,366.38,502.26,813.22,473.45,726.14,682.96,1053.98,926.65,265.74],\"yaxis\":\"y\",\"type\":\"bar\"},{\"alignmentgroup\":\"True\",\"hovertemplate\":\"Country=France<br>Month=%{x}<br>Price=%{y}<extra></extra>\",\"legendgroup\":\"France\",\"marker\":{\"color\":\"#FFA15A\",\"pattern\":{\"shape\":\"\"}},\"name\":\"France\",\"offsetgroup\":\"France\",\"orientation\":\"v\",\"showlegend\":true,\"textposition\":\"auto\",\"x\":[12,1,2,3,4,5,6,7,8,9,10,11,12],\"xaxis\":\"x\",\"y\":[1537.51,2264.59,1239.67,1714.47,2004.07,2544.77,1948.48,1555.16,1813.53,3316.45,11161.720000000001,4782.49,1066.82],\"yaxis\":\"y\",\"type\":\"bar\"},{\"alignmentgroup\":\"True\",\"hovertemplate\":\"Country=Germany<br>Month=%{x}<br>Price=%{y}<extra></extra>\",\"legendgroup\":\"Germany\",\"marker\":{\"color\":\"#19d3f3\",\"pattern\":{\"shape\":\"\"}},\"name\":\"Germany\",\"offsetgroup\":\"Germany\",\"orientation\":\"v\",\"showlegend\":true,\"textposition\":\"auto\",\"x\":[12,1,2,3,4,5,6,7,8,9,10,11,12],\"xaxis\":\"x\",\"y\":[1960.42,2516.13,1151.99,2078.22,1810.49,2955.17,1949.66,2726.02,2634.35,2445.57,5019.26,4928.63,1323.67],\"yaxis\":\"y\",\"type\":\"bar\"},{\"alignmentgroup\":\"True\",\"hovertemplate\":\"Country=Iceland<br>Month=%{x}<br>Price=%{y}<extra></extra>\",\"legendgroup\":\"Iceland\",\"marker\":{\"color\":\"#FF6692\",\"pattern\":{\"shape\":\"\"}},\"name\":\"Iceland\",\"offsetgroup\":\"Iceland\",\"orientation\":\"v\",\"showlegend\":true,\"textposition\":\"auto\",\"x\":[12,1,4,6,8,10,12],\"xaxis\":\"x\",\"y\":[89.59,73.17,62.29,53.62,68.24000000000001,120.76,13.54],\"yaxis\":\"y\",\"type\":\"bar\"},{\"alignmentgroup\":\"True\",\"hovertemplate\":\"Country=Italy<br>Month=%{x}<br>Price=%{y}<extra></extra>\",\"legendgroup\":\"Italy\",\"marker\":{\"color\":\"#B6E880\",\"pattern\":{\"shape\":\"\"}},\"name\":\"Italy\",\"offsetgroup\":\"Italy\",\"orientation\":\"v\",\"showlegend\":true,\"textposition\":\"auto\",\"x\":[12,1,2,3,4,5,6,7,8,9,10,11,12],\"xaxis\":\"x\",\"y\":[207.0,351.6,53.5,379.68,43.62,60.25,79.77,48.800000000000004,418.6,106.6,678.61,1083.73,64.45],\"yaxis\":\"y\",\"type\":\"bar\"},{\"alignmentgroup\":\"True\",\"hovertemplate\":\"Country=Japan<br>Month=%{x}<br>Price=%{y}<extra></extra>\",\"legendgroup\":\"Japan\",\"marker\":{\"color\":\"#FF97FF\",\"pattern\":{\"shape\":\"\"}},\"name\":\"Japan\",\"offsetgroup\":\"Japan\",\"orientation\":\"v\",\"showlegend\":true,\"textposition\":\"auto\",\"x\":[12,2,3,4,5,6,7,9,10,11],\"xaxis\":\"x\",\"y\":[123.5,161.19,36.15,91.41,31.5,4.8,73.64,2.9699999999999998,32.82,99.23],\"yaxis\":\"y\",\"type\":\"bar\"},{\"alignmentgroup\":\"True\",\"hovertemplate\":\"Country=Lithuania<br>Month=%{x}<br>Price=%{y}<extra></extra>\",\"legendgroup\":\"Lithuania\",\"marker\":{\"color\":\"#FECB52\",\"pattern\":{\"shape\":\"\"}},\"name\":\"Lithuania\",\"offsetgroup\":\"Lithuania\",\"orientation\":\"v\",\"showlegend\":true,\"textposition\":\"auto\",\"x\":[12],\"xaxis\":\"x\",\"y\":[99.44],\"yaxis\":\"y\",\"type\":\"bar\"},{\"alignmentgroup\":\"True\",\"hovertemplate\":\"Country=Netherlands<br>Month=%{x}<br>Price=%{y}<extra></extra>\",\"legendgroup\":\"Netherlands\",\"marker\":{\"color\":\"#636efa\",\"pattern\":{\"shape\":\"\"}},\"name\":\"Netherlands\",\"offsetgroup\":\"Netherlands\",\"orientation\":\"v\",\"showlegend\":true,\"textposition\":\"auto\",\"x\":[12,1,2,3,4,5,6,7,8,9,10,11,12],\"xaxis\":\"x\",\"y\":[161.69,443.62,421.08,549.47,54.93,676.3,801.31,26.02,606.32,917.17,784.63,603.8,201.39000000000001],\"yaxis\":\"y\",\"type\":\"bar\"},{\"alignmentgroup\":\"True\",\"hovertemplate\":\"Country=Norway<br>Month=%{x}<br>Price=%{y}<extra></extra>\",\"legendgroup\":\"Norway\",\"marker\":{\"color\":\"#EF553B\",\"pattern\":{\"shape\":\"\"}},\"name\":\"Norway\",\"offsetgroup\":\"Norway\",\"orientation\":\"v\",\"showlegend\":true,\"textposition\":\"auto\",\"x\":[12,2,3,6,7,8,9,10,11,12],\"xaxis\":\"x\",\"y\":[238.83,133.65,974.73,1521.0700000000002,168.63,408.56,746.67,511.37,740.53,218.43],\"yaxis\":\"y\",\"type\":\"bar\"},{\"alignmentgroup\":\"True\",\"hovertemplate\":\"Country=Poland<br>Month=%{x}<br>Price=%{y}<extra></extra>\",\"legendgroup\":\"Poland\",\"marker\":{\"color\":\"#00cc96\",\"pattern\":{\"shape\":\"\"}},\"name\":\"Poland\",\"offsetgroup\":\"Poland\",\"orientation\":\"v\",\"showlegend\":true,\"textposition\":\"auto\",\"x\":[12,1,2,3,4,5,6,7,8,9,11],\"xaxis\":\"x\",\"y\":[18.99,96.03999999999999,68.5,30.919999999999998,77.59,299.71,136.75,158.09,111.09,188.85,190.68],\"yaxis\":\"y\",\"type\":\"bar\"},{\"alignmentgroup\":\"True\",\"hovertemplate\":\"Country=Portugal<br>Month=%{x}<br>Price=%{y}<extra></extra>\",\"legendgroup\":\"Portugal\",\"marker\":{\"color\":\"#ab63fa\",\"pattern\":{\"shape\":\"\"}},\"name\":\"Portugal\",\"offsetgroup\":\"Portugal\",\"orientation\":\"v\",\"showlegend\":true,\"textposition\":\"auto\",\"x\":[12,1,2,3,4,5,6,7,8,9,10,11,12],\"xaxis\":\"x\",\"y\":[489.61,411.93,216.98000000000002,334.88,214.86,3763.42,165.78,200.21,51.56,191.76,1799.07,557.08,346.97],\"yaxis\":\"y\",\"type\":\"bar\"},{\"alignmentgroup\":\"True\",\"hovertemplate\":\"Country=Spain<br>Month=%{x}<br>Price=%{y}<extra></extra>\",\"legendgroup\":\"Spain\",\"marker\":{\"color\":\"#FFA15A\",\"pattern\":{\"shape\":\"\"}},\"name\":\"Spain\",\"offsetgroup\":\"Spain\",\"orientation\":\"v\",\"showlegend\":true,\"textposition\":\"auto\",\"x\":[12,1,2,3,4,5,6,7,8,9,10,11,12],\"xaxis\":\"x\",\"y\":[250.76,1427.3,450.92,847.86,396.65,419.66,797.32,640.88,880.03,972.37,1127.73,1151.3,129.61],\"yaxis\":\"y\",\"type\":\"bar\"},{\"alignmentgroup\":\"True\",\"hovertemplate\":\"Country=Sweden<br>Month=%{x}<br>Price=%{y}<extra></extra>\",\"legendgroup\":\"Sweden\",\"marker\":{\"color\":\"#19d3f3\",\"pattern\":{\"shape\":\"\"}},\"name\":\"Sweden\",\"offsetgroup\":\"Sweden\",\"orientation\":\"v\",\"showlegend\":true,\"textposition\":\"auto\",\"x\":[12,1,2,3,4,5,6,7,8,9,10,11,12],\"xaxis\":\"x\",\"y\":[42.32,109.37,62.91,90.81,179.55,90.27000000000001,174.88,168.86,230.15,112.21000000000001,133.4,293.01,5.95],\"yaxis\":\"y\",\"type\":\"bar\"},{\"alignmentgroup\":\"True\",\"hovertemplate\":\"Country=Switzerland<br>Month=%{x}<br>Price=%{y}<extra></extra>\",\"legendgroup\":\"Switzerland\",\"marker\":{\"color\":\"#FF6692\",\"pattern\":{\"shape\":\"\"}},\"name\":\"Switzerland\",\"offsetgroup\":\"Switzerland\",\"orientation\":\"v\",\"showlegend\":true,\"textposition\":\"auto\",\"x\":[12,1,2,3,4,5,6,7,8,9,10,11],\"xaxis\":\"x\",\"y\":[146.02,436.81,492.0,282.02,384.72,430.61,481.84000000000003,600.21,886.76,651.61,1021.71,801.95],\"yaxis\":\"y\",\"type\":\"bar\"},{\"alignmentgroup\":\"True\",\"hovertemplate\":\"Country=United Kingdom<br>Month=%{x}<br>Price=%{y}<extra></extra>\",\"legendgroup\":\"United Kingdom\",\"marker\":{\"color\":\"#B6E880\",\"pattern\":{\"shape\":\"\"}},\"name\":\"United Kingdom\",\"offsetgroup\":\"United Kingdom\",\"orientation\":\"v\",\"showlegend\":true,\"textposition\":\"auto\",\"x\":[12,1,2,3,4,5,6,7,8,9,10,11,12],\"xaxis\":\"x\",\"y\":[190445.14,118030.86,99009.42,126260.53,100477.351,133807.47,122603.52,130134.141,101616.74,155043.332,185411.44,274536.31,95610.16],\"yaxis\":\"y\",\"type\":\"bar\"},{\"alignmentgroup\":\"True\",\"hovertemplate\":\"Country=Greece<br>Month=%{x}<br>Price=%{y}<extra></extra>\",\"legendgroup\":\"Greece\",\"marker\":{\"color\":\"#FF97FF\",\"pattern\":{\"shape\":\"\"}},\"name\":\"Greece\",\"offsetgroup\":\"Greece\",\"orientation\":\"v\",\"showlegend\":true,\"textposition\":\"auto\",\"x\":[1,3,4,7,12],\"xaxis\":\"x\",\"y\":[207.39,35.69,161.82,95.03,163.36],\"yaxis\":\"y\",\"type\":\"bar\"},{\"alignmentgroup\":\"True\",\"hovertemplate\":\"Country=Hong Kong<br>Month=%{x}<br>Price=%{y}<extra></extra>\",\"legendgroup\":\"Hong Kong\",\"marker\":{\"color\":\"#FECB52\",\"pattern\":{\"shape\":\"\"}},\"name\":\"Hong Kong\",\"offsetgroup\":\"Hong Kong\",\"orientation\":\"v\",\"showlegend\":true,\"textposition\":\"auto\",\"x\":[1,3,4,5,6,8,9,10,11],\"xaxis\":\"x\",\"y\":[161.76,2583.76,113.41,217.96,59.44,414.75,2653.95,118.51,326.1],\"yaxis\":\"y\",\"type\":\"bar\"},{\"alignmentgroup\":\"True\",\"hovertemplate\":\"Country=Israel<br>Month=%{x}<br>Price=%{y}<extra></extra>\",\"legendgroup\":\"Israel\",\"marker\":{\"color\":\"#636efa\",\"pattern\":{\"shape\":\"\"}},\"name\":\"Israel\",\"offsetgroup\":\"Israel\",\"orientation\":\"v\",\"showlegend\":true,\"textposition\":\"auto\",\"x\":[1,2,4,7,8,9,10],\"xaxis\":\"x\",\"y\":[59.94,46.8,33.75,64.61,704.08,72.85,81.85],\"yaxis\":\"y\",\"type\":\"bar\"},{\"alignmentgroup\":\"True\",\"hovertemplate\":\"Country=Lebanon<br>Month=%{x}<br>Price=%{y}<extra></extra>\",\"legendgroup\":\"Lebanon\",\"marker\":{\"color\":\"#EF553B\",\"pattern\":{\"shape\":\"\"}},\"name\":\"Lebanon\",\"offsetgroup\":\"Lebanon\",\"orientation\":\"v\",\"showlegend\":true,\"textposition\":\"auto\",\"x\":[1],\"xaxis\":\"x\",\"y\":[242.44],\"yaxis\":\"y\",\"type\":\"bar\"},{\"alignmentgroup\":\"True\",\"hovertemplate\":\"Country=Singapore<br>Month=%{x}<br>Price=%{y}<extra></extra>\",\"legendgroup\":\"Singapore\",\"marker\":{\"color\":\"#00cc96\",\"pattern\":{\"shape\":\"\"}},\"name\":\"Singapore\",\"offsetgroup\":\"Singapore\",\"orientation\":\"v\",\"showlegend\":true,\"textposition\":\"auto\",\"x\":[1,4,7,10],\"xaxis\":\"x\",\"y\":[263.34000000000003,6218.77,230.46,6237.42],\"yaxis\":\"y\",\"type\":\"bar\"},{\"alignmentgroup\":\"True\",\"hovertemplate\":\"Country=Saudi Arabia<br>Month=%{x}<br>Price=%{y}<extra></extra>\",\"legendgroup\":\"Saudi Arabia\",\"marker\":{\"color\":\"#ab63fa\",\"pattern\":{\"shape\":\"\"}},\"name\":\"Saudi Arabia\",\"offsetgroup\":\"Saudi Arabia\",\"orientation\":\"v\",\"showlegend\":true,\"textposition\":\"auto\",\"x\":[2],\"xaxis\":\"x\",\"y\":[21.16],\"yaxis\":\"y\",\"type\":\"bar\"},{\"alignmentgroup\":\"True\",\"hovertemplate\":\"Country=United Arab Emirates<br>Month=%{x}<br>Price=%{y}<extra></extra>\",\"legendgroup\":\"United Arab Emirates\",\"marker\":{\"color\":\"#FFA15A\",\"pattern\":{\"shape\":\"\"}},\"name\":\"United Arab Emirates\",\"offsetgroup\":\"United Arab Emirates\",\"orientation\":\"v\",\"showlegend\":true,\"textposition\":\"auto\",\"x\":[2,9],\"xaxis\":\"x\",\"y\":[77.57,152.32],\"yaxis\":\"y\",\"type\":\"bar\"},{\"alignmentgroup\":\"True\",\"hovertemplate\":\"Country=Brazil<br>Month=%{x}<br>Price=%{y}<extra></extra>\",\"legendgroup\":\"Brazil\",\"marker\":{\"color\":\"#19d3f3\",\"pattern\":{\"shape\":\"\"}},\"name\":\"Brazil\",\"offsetgroup\":\"Brazil\",\"orientation\":\"v\",\"showlegend\":true,\"textposition\":\"auto\",\"x\":[4],\"xaxis\":\"x\",\"y\":[142.6],\"yaxis\":\"y\",\"type\":\"bar\"},{\"alignmentgroup\":\"True\",\"hovertemplate\":\"Country=USA<br>Month=%{x}<br>Price=%{y}<extra></extra>\",\"legendgroup\":\"USA\",\"marker\":{\"color\":\"#FF6692\",\"pattern\":{\"shape\":\"\"}},\"name\":\"USA\",\"offsetgroup\":\"USA\",\"orientation\":\"v\",\"showlegend\":true,\"textposition\":\"auto\",\"x\":[4,10,12],\"xaxis\":\"x\",\"y\":[74.2,282.64,56.46],\"yaxis\":\"y\",\"type\":\"bar\"},{\"alignmentgroup\":\"True\",\"hovertemplate\":\"Country=Unspecified<br>Month=%{x}<br>Price=%{y}<extra></extra>\",\"legendgroup\":\"Unspecified\",\"marker\":{\"color\":\"#B6E880\",\"pattern\":{\"shape\":\"\"}},\"name\":\"Unspecified\",\"offsetgroup\":\"Unspecified\",\"orientation\":\"v\",\"showlegend\":true,\"textposition\":\"auto\",\"x\":[4,5,6,7,8,9,11],\"xaxis\":\"x\",\"y\":[36.5,127.32000000000001,42.1,622.0,146.51,105.88,116.10000000000001],\"yaxis\":\"y\",\"type\":\"bar\"},{\"alignmentgroup\":\"True\",\"hovertemplate\":\"Country=Malta<br>Month=%{x}<br>Price=%{y}<extra></extra>\",\"legendgroup\":\"Malta\",\"marker\":{\"color\":\"#FF97FF\",\"pattern\":{\"shape\":\"\"}},\"name\":\"Malta\",\"offsetgroup\":\"Malta\",\"orientation\":\"v\",\"showlegend\":true,\"textposition\":\"auto\",\"x\":[6,8,11],\"xaxis\":\"x\",\"y\":[167.26,262.02,115.91],\"yaxis\":\"y\",\"type\":\"bar\"},{\"alignmentgroup\":\"True\",\"hovertemplate\":\"Country=RSA<br>Month=%{x}<br>Price=%{y}<extra></extra>\",\"legendgroup\":\"RSA\",\"marker\":{\"color\":\"#FECB52\",\"pattern\":{\"shape\":\"\"}},\"name\":\"RSA\",\"offsetgroup\":\"RSA\",\"orientation\":\"v\",\"showlegend\":true,\"textposition\":\"auto\",\"x\":[10],\"xaxis\":\"x\",\"y\":[248.1],\"yaxis\":\"y\",\"type\":\"bar\"}],                        {\"template\":{\"data\":{\"histogram2dcontour\":[{\"type\":\"histogram2dcontour\",\"colorbar\":{\"outlinewidth\":0,\"ticks\":\"\"},\"colorscale\":[[0.0,\"#0d0887\"],[0.1111111111111111,\"#46039f\"],[0.2222222222222222,\"#7201a8\"],[0.3333333333333333,\"#9c179e\"],[0.4444444444444444,\"#bd3786\"],[0.5555555555555556,\"#d8576b\"],[0.6666666666666666,\"#ed7953\"],[0.7777777777777778,\"#fb9f3a\"],[0.8888888888888888,\"#fdca26\"],[1.0,\"#f0f921\"]]}],\"choropleth\":[{\"type\":\"choropleth\",\"colorbar\":{\"outlinewidth\":0,\"ticks\":\"\"}}],\"histogram2d\":[{\"type\":\"histogram2d\",\"colorbar\":{\"outlinewidth\":0,\"ticks\":\"\"},\"colorscale\":[[0.0,\"#0d0887\"],[0.1111111111111111,\"#46039f\"],[0.2222222222222222,\"#7201a8\"],[0.3333333333333333,\"#9c179e\"],[0.4444444444444444,\"#bd3786\"],[0.5555555555555556,\"#d8576b\"],[0.6666666666666666,\"#ed7953\"],[0.7777777777777778,\"#fb9f3a\"],[0.8888888888888888,\"#fdca26\"],[1.0,\"#f0f921\"]]}],\"heatmap\":[{\"type\":\"heatmap\",\"colorbar\":{\"outlinewidth\":0,\"ticks\":\"\"},\"colorscale\":[[0.0,\"#0d0887\"],[0.1111111111111111,\"#46039f\"],[0.2222222222222222,\"#7201a8\"],[0.3333333333333333,\"#9c179e\"],[0.4444444444444444,\"#bd3786\"],[0.5555555555555556,\"#d8576b\"],[0.6666666666666666,\"#ed7953\"],[0.7777777777777778,\"#fb9f3a\"],[0.8888888888888888,\"#fdca26\"],[1.0,\"#f0f921\"]]}],\"heatmapgl\":[{\"type\":\"heatmapgl\",\"colorbar\":{\"outlinewidth\":0,\"ticks\":\"\"},\"colorscale\":[[0.0,\"#0d0887\"],[0.1111111111111111,\"#46039f\"],[0.2222222222222222,\"#7201a8\"],[0.3333333333333333,\"#9c179e\"],[0.4444444444444444,\"#bd3786\"],[0.5555555555555556,\"#d8576b\"],[0.6666666666666666,\"#ed7953\"],[0.7777777777777778,\"#fb9f3a\"],[0.8888888888888888,\"#fdca26\"],[1.0,\"#f0f921\"]]}],\"contourcarpet\":[{\"type\":\"contourcarpet\",\"colorbar\":{\"outlinewidth\":0,\"ticks\":\"\"}}],\"contour\":[{\"type\":\"contour\",\"colorbar\":{\"outlinewidth\":0,\"ticks\":\"\"},\"colorscale\":[[0.0,\"#0d0887\"],[0.1111111111111111,\"#46039f\"],[0.2222222222222222,\"#7201a8\"],[0.3333333333333333,\"#9c179e\"],[0.4444444444444444,\"#bd3786\"],[0.5555555555555556,\"#d8576b\"],[0.6666666666666666,\"#ed7953\"],[0.7777777777777778,\"#fb9f3a\"],[0.8888888888888888,\"#fdca26\"],[1.0,\"#f0f921\"]]}],\"surface\":[{\"type\":\"surface\",\"colorbar\":{\"outlinewidth\":0,\"ticks\":\"\"},\"colorscale\":[[0.0,\"#0d0887\"],[0.1111111111111111,\"#46039f\"],[0.2222222222222222,\"#7201a8\"],[0.3333333333333333,\"#9c179e\"],[0.4444444444444444,\"#bd3786\"],[0.5555555555555556,\"#d8576b\"],[0.6666666666666666,\"#ed7953\"],[0.7777777777777778,\"#fb9f3a\"],[0.8888888888888888,\"#fdca26\"],[1.0,\"#f0f921\"]]}],\"mesh3d\":[{\"type\":\"mesh3d\",\"colorbar\":{\"outlinewidth\":0,\"ticks\":\"\"}}],\"scatter\":[{\"fillpattern\":{\"fillmode\":\"overlay\",\"size\":10,\"solidity\":0.2},\"type\":\"scatter\"}],\"parcoords\":[{\"type\":\"parcoords\",\"line\":{\"colorbar\":{\"outlinewidth\":0,\"ticks\":\"\"}}}],\"scatterpolargl\":[{\"type\":\"scatterpolargl\",\"marker\":{\"colorbar\":{\"outlinewidth\":0,\"ticks\":\"\"}}}],\"bar\":[{\"error_x\":{\"color\":\"#2a3f5f\"},\"error_y\":{\"color\":\"#2a3f5f\"},\"marker\":{\"line\":{\"color\":\"#E5ECF6\",\"width\":0.5},\"pattern\":{\"fillmode\":\"overlay\",\"size\":10,\"solidity\":0.2}},\"type\":\"bar\"}],\"scattergeo\":[{\"type\":\"scattergeo\",\"marker\":{\"colorbar\":{\"outlinewidth\":0,\"ticks\":\"\"}}}],\"scatterpolar\":[{\"type\":\"scatterpolar\",\"marker\":{\"colorbar\":{\"outlinewidth\":0,\"ticks\":\"\"}}}],\"histogram\":[{\"marker\":{\"pattern\":{\"fillmode\":\"overlay\",\"size\":10,\"solidity\":0.2}},\"type\":\"histogram\"}],\"scattergl\":[{\"type\":\"scattergl\",\"marker\":{\"colorbar\":{\"outlinewidth\":0,\"ticks\":\"\"}}}],\"scatter3d\":[{\"type\":\"scatter3d\",\"line\":{\"colorbar\":{\"outlinewidth\":0,\"ticks\":\"\"}},\"marker\":{\"colorbar\":{\"outlinewidth\":0,\"ticks\":\"\"}}}],\"scattermapbox\":[{\"type\":\"scattermapbox\",\"marker\":{\"colorbar\":{\"outlinewidth\":0,\"ticks\":\"\"}}}],\"scatterternary\":[{\"type\":\"scatterternary\",\"marker\":{\"colorbar\":{\"outlinewidth\":0,\"ticks\":\"\"}}}],\"scattercarpet\":[{\"type\":\"scattercarpet\",\"marker\":{\"colorbar\":{\"outlinewidth\":0,\"ticks\":\"\"}}}],\"carpet\":[{\"aaxis\":{\"endlinecolor\":\"#2a3f5f\",\"gridcolor\":\"white\",\"linecolor\":\"white\",\"minorgridcolor\":\"white\",\"startlinecolor\":\"#2a3f5f\"},\"baxis\":{\"endlinecolor\":\"#2a3f5f\",\"gridcolor\":\"white\",\"linecolor\":\"white\",\"minorgridcolor\":\"white\",\"startlinecolor\":\"#2a3f5f\"},\"type\":\"carpet\"}],\"table\":[{\"cells\":{\"fill\":{\"color\":\"#EBF0F8\"},\"line\":{\"color\":\"white\"}},\"header\":{\"fill\":{\"color\":\"#C8D4E3\"},\"line\":{\"color\":\"white\"}},\"type\":\"table\"}],\"barpolar\":[{\"marker\":{\"line\":{\"color\":\"#E5ECF6\",\"width\":0.5},\"pattern\":{\"fillmode\":\"overlay\",\"size\":10,\"solidity\":0.2}},\"type\":\"barpolar\"}],\"pie\":[{\"automargin\":true,\"type\":\"pie\"}]},\"layout\":{\"autotypenumbers\":\"strict\",\"colorway\":[\"#636efa\",\"#EF553B\",\"#00cc96\",\"#ab63fa\",\"#FFA15A\",\"#19d3f3\",\"#FF6692\",\"#B6E880\",\"#FF97FF\",\"#FECB52\"],\"font\":{\"color\":\"#2a3f5f\"},\"hovermode\":\"closest\",\"hoverlabel\":{\"align\":\"left\"},\"paper_bgcolor\":\"white\",\"plot_bgcolor\":\"#E5ECF6\",\"polar\":{\"bgcolor\":\"#E5ECF6\",\"angularaxis\":{\"gridcolor\":\"white\",\"linecolor\":\"white\",\"ticks\":\"\"},\"radialaxis\":{\"gridcolor\":\"white\",\"linecolor\":\"white\",\"ticks\":\"\"}},\"ternary\":{\"bgcolor\":\"#E5ECF6\",\"aaxis\":{\"gridcolor\":\"white\",\"linecolor\":\"white\",\"ticks\":\"\"},\"baxis\":{\"gridcolor\":\"white\",\"linecolor\":\"white\",\"ticks\":\"\"},\"caxis\":{\"gridcolor\":\"white\",\"linecolor\":\"white\",\"ticks\":\"\"}},\"coloraxis\":{\"colorbar\":{\"outlinewidth\":0,\"ticks\":\"\"}},\"colorscale\":{\"sequential\":[[0.0,\"#0d0887\"],[0.1111111111111111,\"#46039f\"],[0.2222222222222222,\"#7201a8\"],[0.3333333333333333,\"#9c179e\"],[0.4444444444444444,\"#bd3786\"],[0.5555555555555556,\"#d8576b\"],[0.6666666666666666,\"#ed7953\"],[0.7777777777777778,\"#fb9f3a\"],[0.8888888888888888,\"#fdca26\"],[1.0,\"#f0f921\"]],\"sequentialminus\":[[0.0,\"#0d0887\"],[0.1111111111111111,\"#46039f\"],[0.2222222222222222,\"#7201a8\"],[0.3333333333333333,\"#9c179e\"],[0.4444444444444444,\"#bd3786\"],[0.5555555555555556,\"#d8576b\"],[0.6666666666666666,\"#ed7953\"],[0.7777777777777778,\"#fb9f3a\"],[0.8888888888888888,\"#fdca26\"],[1.0,\"#f0f921\"]],\"diverging\":[[0,\"#8e0152\"],[0.1,\"#c51b7d\"],[0.2,\"#de77ae\"],[0.3,\"#f1b6da\"],[0.4,\"#fde0ef\"],[0.5,\"#f7f7f7\"],[0.6,\"#e6f5d0\"],[0.7,\"#b8e186\"],[0.8,\"#7fbc41\"],[0.9,\"#4d9221\"],[1,\"#276419\"]]},\"xaxis\":{\"gridcolor\":\"white\",\"linecolor\":\"white\",\"ticks\":\"\",\"title\":{\"standoff\":15},\"zerolinecolor\":\"white\",\"automargin\":true,\"zerolinewidth\":2},\"yaxis\":{\"gridcolor\":\"white\",\"linecolor\":\"white\",\"ticks\":\"\",\"title\":{\"standoff\":15},\"zerolinecolor\":\"white\",\"automargin\":true,\"zerolinewidth\":2},\"scene\":{\"xaxis\":{\"backgroundcolor\":\"#E5ECF6\",\"gridcolor\":\"white\",\"linecolor\":\"white\",\"showbackground\":true,\"ticks\":\"\",\"zerolinecolor\":\"white\",\"gridwidth\":2},\"yaxis\":{\"backgroundcolor\":\"#E5ECF6\",\"gridcolor\":\"white\",\"linecolor\":\"white\",\"showbackground\":true,\"ticks\":\"\",\"zerolinecolor\":\"white\",\"gridwidth\":2},\"zaxis\":{\"backgroundcolor\":\"#E5ECF6\",\"gridcolor\":\"white\",\"linecolor\":\"white\",\"showbackground\":true,\"ticks\":\"\",\"zerolinecolor\":\"white\",\"gridwidth\":2}},\"shapedefaults\":{\"line\":{\"color\":\"#2a3f5f\"}},\"annotationdefaults\":{\"arrowcolor\":\"#2a3f5f\",\"arrowhead\":0,\"arrowwidth\":1},\"geo\":{\"bgcolor\":\"white\",\"landcolor\":\"#E5ECF6\",\"subunitcolor\":\"white\",\"showland\":true,\"showlakes\":true,\"lakecolor\":\"white\"},\"title\":{\"x\":0.05},\"mapbox\":{\"style\":\"light\"}}},\"xaxis\":{\"anchor\":\"y\",\"domain\":[0.0,1.0],\"title\":{\"text\":\"Month\"}},\"yaxis\":{\"anchor\":\"x\",\"domain\":[0.0,1.0],\"title\":{\"text\":\"Sales amount\"}},\"legend\":{\"title\":{\"text\":\"Country\"},\"tracegroupgap\":0},\"title\":{\"text\":\"Monthly sales amount in each country in 2021\"},\"barmode\":\"relative\"},                        {\"responsive\": true}                    ).then(function(){\n",
       "                            \n",
       "var gd = document.getElementById('952684cc-89f0-4f84-a471-c4f4aee3d828');\n",
       "var x = new MutationObserver(function (mutations, observer) {{\n",
       "        var display = window.getComputedStyle(gd).display;\n",
       "        if (!display || display === 'none') {{\n",
       "            console.log([gd, 'removed!']);\n",
       "            Plotly.purge(gd);\n",
       "            observer.disconnect();\n",
       "        }}\n",
       "}});\n",
       "\n",
       "// Listen for the removal of the full notebook cells\n",
       "var notebookContainer = gd.closest('#notebook-container');\n",
       "if (notebookContainer) {{\n",
       "    x.observe(notebookContainer, {childList: true});\n",
       "}}\n",
       "\n",
       "// Listen for the clearing of the current output cell\n",
       "var outputEl = gd.closest('.output');\n",
       "if (outputEl) {{\n",
       "    x.observe(outputEl, {childList: true});\n",
       "}}\n",
       "\n",
       "                        })                };                });            </script>        </div>"
      ]
     },
     "metadata": {},
     "output_type": "display_data"
    }
   ],
   "source": [
    "# Grouping by 'Year', 'Month', and 'Country' and calculating the sum of 'Price'\n",
    "sales_country = data.groupby(['Year', 'Month', 'Country'])['Price'].sum().reset_index()\n",
    "\n",
    "# Plotting\n",
    "import plotly.express as px\n",
    "fig = px.bar(sales_country, x='Month', y='Price', color='Country',\n",
    "             title='Monthly sales amount in each country in 2021')\n",
    "fig.update_layout(xaxis_title='Month', yaxis_title='Sales amount')\n",
    "fig.show()\n",
    "\n",
    "import warnings\n",
    "# Suppress DeprecationWarning related to distutils\n",
    "warnings.filterwarnings(\"ignore\", category=DeprecationWarning)"
   ]
  },
  {
   "cell_type": "code",
   "execution_count": 70,
   "id": "d55df58a",
   "metadata": {},
   "outputs": [
    {
     "data": {
      "application/vnd.plotly.v1+json": {
       "config": {
        "plotlyServerURL": "https://plot.ly"
       },
       "data": [
        {
         "alignmentgroup": "True",
         "hovertemplate": "Country=%{x}<br>Price=%{y}<extra></extra>",
         "legendgroup": "",
         "marker": {
          "color": "#636efa",
          "pattern": {
           "shape": ""
          }
         },
         "name": "",
         "offsetgroup": "",
         "orientation": "v",
         "showlegend": false,
         "textposition": "auto",
         "type": "bar",
         "x": [
          "Australia",
          "Austria",
          "Bahrain",
          "Belgium",
          "Brazil",
          "France",
          "Germany",
          "Greece",
          "Hong Kong",
          "Iceland",
          "Israel",
          "Italy",
          "Japan",
          "Lebanon",
          "Lithuania",
          "Malta",
          "Netherlands",
          "Norway",
          "Poland",
          "Portugal",
          "RSA",
          "Saudi Arabia",
          "Singapore",
          "Spain",
          "Sweden",
          "Switzerland",
          "USA",
          "United Arab Emirates",
          "United Kingdom",
          "Unspecified"
         ],
         "xaxis": "x",
         "y": [
          3605.75,
          1693.9,
          82.76,
          7372.85,
          142.6,
          36949.73,
          33499.58,
          663.29,
          6649.64,
          481.21,
          1063.8799999999999,
          3576.21,
          657.21,
          242.44,
          99.44,
          545.19,
          6247.73,
          5662.47,
          1377.21,
          8744.11,
          248.1,
          21.16,
          12949.99,
          9492.39,
          1693.69,
          6616.26,
          413.3,
          229.89,
          1832986.414,
          1196.41
         ],
         "yaxis": "y"
        }
       ],
       "layout": {
        "barmode": "relative",
        "legend": {
         "tracegroupgap": 0
        },
        "template": {
         "data": {
          "bar": [
           {
            "error_x": {
             "color": "#2a3f5f"
            },
            "error_y": {
             "color": "#2a3f5f"
            },
            "marker": {
             "line": {
              "color": "#E5ECF6",
              "width": 0.5
             },
             "pattern": {
              "fillmode": "overlay",
              "size": 10,
              "solidity": 0.2
             }
            },
            "type": "bar"
           }
          ],
          "barpolar": [
           {
            "marker": {
             "line": {
              "color": "#E5ECF6",
              "width": 0.5
             },
             "pattern": {
              "fillmode": "overlay",
              "size": 10,
              "solidity": 0.2
             }
            },
            "type": "barpolar"
           }
          ],
          "carpet": [
           {
            "aaxis": {
             "endlinecolor": "#2a3f5f",
             "gridcolor": "white",
             "linecolor": "white",
             "minorgridcolor": "white",
             "startlinecolor": "#2a3f5f"
            },
            "baxis": {
             "endlinecolor": "#2a3f5f",
             "gridcolor": "white",
             "linecolor": "white",
             "minorgridcolor": "white",
             "startlinecolor": "#2a3f5f"
            },
            "type": "carpet"
           }
          ],
          "choropleth": [
           {
            "colorbar": {
             "outlinewidth": 0,
             "ticks": ""
            },
            "type": "choropleth"
           }
          ],
          "contour": [
           {
            "colorbar": {
             "outlinewidth": 0,
             "ticks": ""
            },
            "colorscale": [
             [
              0,
              "#0d0887"
             ],
             [
              0.1111111111111111,
              "#46039f"
             ],
             [
              0.2222222222222222,
              "#7201a8"
             ],
             [
              0.3333333333333333,
              "#9c179e"
             ],
             [
              0.4444444444444444,
              "#bd3786"
             ],
             [
              0.5555555555555556,
              "#d8576b"
             ],
             [
              0.6666666666666666,
              "#ed7953"
             ],
             [
              0.7777777777777778,
              "#fb9f3a"
             ],
             [
              0.8888888888888888,
              "#fdca26"
             ],
             [
              1,
              "#f0f921"
             ]
            ],
            "type": "contour"
           }
          ],
          "contourcarpet": [
           {
            "colorbar": {
             "outlinewidth": 0,
             "ticks": ""
            },
            "type": "contourcarpet"
           }
          ],
          "heatmap": [
           {
            "colorbar": {
             "outlinewidth": 0,
             "ticks": ""
            },
            "colorscale": [
             [
              0,
              "#0d0887"
             ],
             [
              0.1111111111111111,
              "#46039f"
             ],
             [
              0.2222222222222222,
              "#7201a8"
             ],
             [
              0.3333333333333333,
              "#9c179e"
             ],
             [
              0.4444444444444444,
              "#bd3786"
             ],
             [
              0.5555555555555556,
              "#d8576b"
             ],
             [
              0.6666666666666666,
              "#ed7953"
             ],
             [
              0.7777777777777778,
              "#fb9f3a"
             ],
             [
              0.8888888888888888,
              "#fdca26"
             ],
             [
              1,
              "#f0f921"
             ]
            ],
            "type": "heatmap"
           }
          ],
          "heatmapgl": [
           {
            "colorbar": {
             "outlinewidth": 0,
             "ticks": ""
            },
            "colorscale": [
             [
              0,
              "#0d0887"
             ],
             [
              0.1111111111111111,
              "#46039f"
             ],
             [
              0.2222222222222222,
              "#7201a8"
             ],
             [
              0.3333333333333333,
              "#9c179e"
             ],
             [
              0.4444444444444444,
              "#bd3786"
             ],
             [
              0.5555555555555556,
              "#d8576b"
             ],
             [
              0.6666666666666666,
              "#ed7953"
             ],
             [
              0.7777777777777778,
              "#fb9f3a"
             ],
             [
              0.8888888888888888,
              "#fdca26"
             ],
             [
              1,
              "#f0f921"
             ]
            ],
            "type": "heatmapgl"
           }
          ],
          "histogram": [
           {
            "marker": {
             "pattern": {
              "fillmode": "overlay",
              "size": 10,
              "solidity": 0.2
             }
            },
            "type": "histogram"
           }
          ],
          "histogram2d": [
           {
            "colorbar": {
             "outlinewidth": 0,
             "ticks": ""
            },
            "colorscale": [
             [
              0,
              "#0d0887"
             ],
             [
              0.1111111111111111,
              "#46039f"
             ],
             [
              0.2222222222222222,
              "#7201a8"
             ],
             [
              0.3333333333333333,
              "#9c179e"
             ],
             [
              0.4444444444444444,
              "#bd3786"
             ],
             [
              0.5555555555555556,
              "#d8576b"
             ],
             [
              0.6666666666666666,
              "#ed7953"
             ],
             [
              0.7777777777777778,
              "#fb9f3a"
             ],
             [
              0.8888888888888888,
              "#fdca26"
             ],
             [
              1,
              "#f0f921"
             ]
            ],
            "type": "histogram2d"
           }
          ],
          "histogram2dcontour": [
           {
            "colorbar": {
             "outlinewidth": 0,
             "ticks": ""
            },
            "colorscale": [
             [
              0,
              "#0d0887"
             ],
             [
              0.1111111111111111,
              "#46039f"
             ],
             [
              0.2222222222222222,
              "#7201a8"
             ],
             [
              0.3333333333333333,
              "#9c179e"
             ],
             [
              0.4444444444444444,
              "#bd3786"
             ],
             [
              0.5555555555555556,
              "#d8576b"
             ],
             [
              0.6666666666666666,
              "#ed7953"
             ],
             [
              0.7777777777777778,
              "#fb9f3a"
             ],
             [
              0.8888888888888888,
              "#fdca26"
             ],
             [
              1,
              "#f0f921"
             ]
            ],
            "type": "histogram2dcontour"
           }
          ],
          "mesh3d": [
           {
            "colorbar": {
             "outlinewidth": 0,
             "ticks": ""
            },
            "type": "mesh3d"
           }
          ],
          "parcoords": [
           {
            "line": {
             "colorbar": {
              "outlinewidth": 0,
              "ticks": ""
             }
            },
            "type": "parcoords"
           }
          ],
          "pie": [
           {
            "automargin": true,
            "type": "pie"
           }
          ],
          "scatter": [
           {
            "fillpattern": {
             "fillmode": "overlay",
             "size": 10,
             "solidity": 0.2
            },
            "type": "scatter"
           }
          ],
          "scatter3d": [
           {
            "line": {
             "colorbar": {
              "outlinewidth": 0,
              "ticks": ""
             }
            },
            "marker": {
             "colorbar": {
              "outlinewidth": 0,
              "ticks": ""
             }
            },
            "type": "scatter3d"
           }
          ],
          "scattercarpet": [
           {
            "marker": {
             "colorbar": {
              "outlinewidth": 0,
              "ticks": ""
             }
            },
            "type": "scattercarpet"
           }
          ],
          "scattergeo": [
           {
            "marker": {
             "colorbar": {
              "outlinewidth": 0,
              "ticks": ""
             }
            },
            "type": "scattergeo"
           }
          ],
          "scattergl": [
           {
            "marker": {
             "colorbar": {
              "outlinewidth": 0,
              "ticks": ""
             }
            },
            "type": "scattergl"
           }
          ],
          "scattermapbox": [
           {
            "marker": {
             "colorbar": {
              "outlinewidth": 0,
              "ticks": ""
             }
            },
            "type": "scattermapbox"
           }
          ],
          "scatterpolar": [
           {
            "marker": {
             "colorbar": {
              "outlinewidth": 0,
              "ticks": ""
             }
            },
            "type": "scatterpolar"
           }
          ],
          "scatterpolargl": [
           {
            "marker": {
             "colorbar": {
              "outlinewidth": 0,
              "ticks": ""
             }
            },
            "type": "scatterpolargl"
           }
          ],
          "scatterternary": [
           {
            "marker": {
             "colorbar": {
              "outlinewidth": 0,
              "ticks": ""
             }
            },
            "type": "scatterternary"
           }
          ],
          "surface": [
           {
            "colorbar": {
             "outlinewidth": 0,
             "ticks": ""
            },
            "colorscale": [
             [
              0,
              "#0d0887"
             ],
             [
              0.1111111111111111,
              "#46039f"
             ],
             [
              0.2222222222222222,
              "#7201a8"
             ],
             [
              0.3333333333333333,
              "#9c179e"
             ],
             [
              0.4444444444444444,
              "#bd3786"
             ],
             [
              0.5555555555555556,
              "#d8576b"
             ],
             [
              0.6666666666666666,
              "#ed7953"
             ],
             [
              0.7777777777777778,
              "#fb9f3a"
             ],
             [
              0.8888888888888888,
              "#fdca26"
             ],
             [
              1,
              "#f0f921"
             ]
            ],
            "type": "surface"
           }
          ],
          "table": [
           {
            "cells": {
             "fill": {
              "color": "#EBF0F8"
             },
             "line": {
              "color": "white"
             }
            },
            "header": {
             "fill": {
              "color": "#C8D4E3"
             },
             "line": {
              "color": "white"
             }
            },
            "type": "table"
           }
          ]
         },
         "layout": {
          "annotationdefaults": {
           "arrowcolor": "#2a3f5f",
           "arrowhead": 0,
           "arrowwidth": 1
          },
          "autotypenumbers": "strict",
          "coloraxis": {
           "colorbar": {
            "outlinewidth": 0,
            "ticks": ""
           }
          },
          "colorscale": {
           "diverging": [
            [
             0,
             "#8e0152"
            ],
            [
             0.1,
             "#c51b7d"
            ],
            [
             0.2,
             "#de77ae"
            ],
            [
             0.3,
             "#f1b6da"
            ],
            [
             0.4,
             "#fde0ef"
            ],
            [
             0.5,
             "#f7f7f7"
            ],
            [
             0.6,
             "#e6f5d0"
            ],
            [
             0.7,
             "#b8e186"
            ],
            [
             0.8,
             "#7fbc41"
            ],
            [
             0.9,
             "#4d9221"
            ],
            [
             1,
             "#276419"
            ]
           ],
           "sequential": [
            [
             0,
             "#0d0887"
            ],
            [
             0.1111111111111111,
             "#46039f"
            ],
            [
             0.2222222222222222,
             "#7201a8"
            ],
            [
             0.3333333333333333,
             "#9c179e"
            ],
            [
             0.4444444444444444,
             "#bd3786"
            ],
            [
             0.5555555555555556,
             "#d8576b"
            ],
            [
             0.6666666666666666,
             "#ed7953"
            ],
            [
             0.7777777777777778,
             "#fb9f3a"
            ],
            [
             0.8888888888888888,
             "#fdca26"
            ],
            [
             1,
             "#f0f921"
            ]
           ],
           "sequentialminus": [
            [
             0,
             "#0d0887"
            ],
            [
             0.1111111111111111,
             "#46039f"
            ],
            [
             0.2222222222222222,
             "#7201a8"
            ],
            [
             0.3333333333333333,
             "#9c179e"
            ],
            [
             0.4444444444444444,
             "#bd3786"
            ],
            [
             0.5555555555555556,
             "#d8576b"
            ],
            [
             0.6666666666666666,
             "#ed7953"
            ],
            [
             0.7777777777777778,
             "#fb9f3a"
            ],
            [
             0.8888888888888888,
             "#fdca26"
            ],
            [
             1,
             "#f0f921"
            ]
           ]
          },
          "colorway": [
           "#636efa",
           "#EF553B",
           "#00cc96",
           "#ab63fa",
           "#FFA15A",
           "#19d3f3",
           "#FF6692",
           "#B6E880",
           "#FF97FF",
           "#FECB52"
          ],
          "font": {
           "color": "#2a3f5f"
          },
          "geo": {
           "bgcolor": "white",
           "lakecolor": "white",
           "landcolor": "#E5ECF6",
           "showlakes": true,
           "showland": true,
           "subunitcolor": "white"
          },
          "hoverlabel": {
           "align": "left"
          },
          "hovermode": "closest",
          "mapbox": {
           "style": "light"
          },
          "paper_bgcolor": "white",
          "plot_bgcolor": "#E5ECF6",
          "polar": {
           "angularaxis": {
            "gridcolor": "white",
            "linecolor": "white",
            "ticks": ""
           },
           "bgcolor": "#E5ECF6",
           "radialaxis": {
            "gridcolor": "white",
            "linecolor": "white",
            "ticks": ""
           }
          },
          "scene": {
           "xaxis": {
            "backgroundcolor": "#E5ECF6",
            "gridcolor": "white",
            "gridwidth": 2,
            "linecolor": "white",
            "showbackground": true,
            "ticks": "",
            "zerolinecolor": "white"
           },
           "yaxis": {
            "backgroundcolor": "#E5ECF6",
            "gridcolor": "white",
            "gridwidth": 2,
            "linecolor": "white",
            "showbackground": true,
            "ticks": "",
            "zerolinecolor": "white"
           },
           "zaxis": {
            "backgroundcolor": "#E5ECF6",
            "gridcolor": "white",
            "gridwidth": 2,
            "linecolor": "white",
            "showbackground": true,
            "ticks": "",
            "zerolinecolor": "white"
           }
          },
          "shapedefaults": {
           "line": {
            "color": "#2a3f5f"
           }
          },
          "ternary": {
           "aaxis": {
            "gridcolor": "white",
            "linecolor": "white",
            "ticks": ""
           },
           "baxis": {
            "gridcolor": "white",
            "linecolor": "white",
            "ticks": ""
           },
           "bgcolor": "#E5ECF6",
           "caxis": {
            "gridcolor": "white",
            "linecolor": "white",
            "ticks": ""
           }
          },
          "title": {
           "x": 0.05
          },
          "xaxis": {
           "automargin": true,
           "gridcolor": "white",
           "linecolor": "white",
           "ticks": "",
           "title": {
            "standoff": 15
           },
           "zerolinecolor": "white",
           "zerolinewidth": 2
          },
          "yaxis": {
           "automargin": true,
           "gridcolor": "white",
           "linecolor": "white",
           "ticks": "",
           "title": {
            "standoff": 15
           },
           "zerolinecolor": "white",
           "zerolinewidth": 2
          }
         }
        },
        "title": {
         "text": "Sales amount in each country in 2021"
        },
        "xaxis": {
         "anchor": "y",
         "categoryorder": "total descending",
         "domain": [
          0,
          1
         ],
         "title": {
          "text": "Country"
         }
        },
        "yaxis": {
         "anchor": "x",
         "domain": [
          0,
          1
         ],
         "title": {
          "text": "Sales amount"
         }
        }
       }
      },
      "text/html": [
       "<div>                            <div id=\"08f8ce22-565e-4a89-9832-4751caffa65d\" class=\"plotly-graph-div\" style=\"height:525px; width:100%;\"></div>            <script type=\"text/javascript\">                require([\"plotly\"], function(Plotly) {                    window.PLOTLYENV=window.PLOTLYENV || {};                                    if (document.getElementById(\"08f8ce22-565e-4a89-9832-4751caffa65d\")) {                    Plotly.newPlot(                        \"08f8ce22-565e-4a89-9832-4751caffa65d\",                        [{\"alignmentgroup\":\"True\",\"hovertemplate\":\"Country=%{x}<br>Price=%{y}<extra></extra>\",\"legendgroup\":\"\",\"marker\":{\"color\":\"#636efa\",\"pattern\":{\"shape\":\"\"}},\"name\":\"\",\"offsetgroup\":\"\",\"orientation\":\"v\",\"showlegend\":false,\"textposition\":\"auto\",\"x\":[\"Australia\",\"Austria\",\"Bahrain\",\"Belgium\",\"Brazil\",\"France\",\"Germany\",\"Greece\",\"Hong Kong\",\"Iceland\",\"Israel\",\"Italy\",\"Japan\",\"Lebanon\",\"Lithuania\",\"Malta\",\"Netherlands\",\"Norway\",\"Poland\",\"Portugal\",\"RSA\",\"Saudi Arabia\",\"Singapore\",\"Spain\",\"Sweden\",\"Switzerland\",\"USA\",\"United Arab Emirates\",\"United Kingdom\",\"Unspecified\"],\"xaxis\":\"x\",\"y\":[3605.75,1693.9,82.76,7372.85,142.6,36949.73,33499.58,663.29,6649.64,481.21,1063.8799999999999,3576.21,657.21,242.44,99.44,545.19,6247.73,5662.47,1377.21,8744.11,248.1,21.16,12949.99,9492.39,1693.69,6616.26,413.3,229.89,1832986.414,1196.41],\"yaxis\":\"y\",\"type\":\"bar\"}],                        {\"template\":{\"data\":{\"histogram2dcontour\":[{\"type\":\"histogram2dcontour\",\"colorbar\":{\"outlinewidth\":0,\"ticks\":\"\"},\"colorscale\":[[0.0,\"#0d0887\"],[0.1111111111111111,\"#46039f\"],[0.2222222222222222,\"#7201a8\"],[0.3333333333333333,\"#9c179e\"],[0.4444444444444444,\"#bd3786\"],[0.5555555555555556,\"#d8576b\"],[0.6666666666666666,\"#ed7953\"],[0.7777777777777778,\"#fb9f3a\"],[0.8888888888888888,\"#fdca26\"],[1.0,\"#f0f921\"]]}],\"choropleth\":[{\"type\":\"choropleth\",\"colorbar\":{\"outlinewidth\":0,\"ticks\":\"\"}}],\"histogram2d\":[{\"type\":\"histogram2d\",\"colorbar\":{\"outlinewidth\":0,\"ticks\":\"\"},\"colorscale\":[[0.0,\"#0d0887\"],[0.1111111111111111,\"#46039f\"],[0.2222222222222222,\"#7201a8\"],[0.3333333333333333,\"#9c179e\"],[0.4444444444444444,\"#bd3786\"],[0.5555555555555556,\"#d8576b\"],[0.6666666666666666,\"#ed7953\"],[0.7777777777777778,\"#fb9f3a\"],[0.8888888888888888,\"#fdca26\"],[1.0,\"#f0f921\"]]}],\"heatmap\":[{\"type\":\"heatmap\",\"colorbar\":{\"outlinewidth\":0,\"ticks\":\"\"},\"colorscale\":[[0.0,\"#0d0887\"],[0.1111111111111111,\"#46039f\"],[0.2222222222222222,\"#7201a8\"],[0.3333333333333333,\"#9c179e\"],[0.4444444444444444,\"#bd3786\"],[0.5555555555555556,\"#d8576b\"],[0.6666666666666666,\"#ed7953\"],[0.7777777777777778,\"#fb9f3a\"],[0.8888888888888888,\"#fdca26\"],[1.0,\"#f0f921\"]]}],\"heatmapgl\":[{\"type\":\"heatmapgl\",\"colorbar\":{\"outlinewidth\":0,\"ticks\":\"\"},\"colorscale\":[[0.0,\"#0d0887\"],[0.1111111111111111,\"#46039f\"],[0.2222222222222222,\"#7201a8\"],[0.3333333333333333,\"#9c179e\"],[0.4444444444444444,\"#bd3786\"],[0.5555555555555556,\"#d8576b\"],[0.6666666666666666,\"#ed7953\"],[0.7777777777777778,\"#fb9f3a\"],[0.8888888888888888,\"#fdca26\"],[1.0,\"#f0f921\"]]}],\"contourcarpet\":[{\"type\":\"contourcarpet\",\"colorbar\":{\"outlinewidth\":0,\"ticks\":\"\"}}],\"contour\":[{\"type\":\"contour\",\"colorbar\":{\"outlinewidth\":0,\"ticks\":\"\"},\"colorscale\":[[0.0,\"#0d0887\"],[0.1111111111111111,\"#46039f\"],[0.2222222222222222,\"#7201a8\"],[0.3333333333333333,\"#9c179e\"],[0.4444444444444444,\"#bd3786\"],[0.5555555555555556,\"#d8576b\"],[0.6666666666666666,\"#ed7953\"],[0.7777777777777778,\"#fb9f3a\"],[0.8888888888888888,\"#fdca26\"],[1.0,\"#f0f921\"]]}],\"surface\":[{\"type\":\"surface\",\"colorbar\":{\"outlinewidth\":0,\"ticks\":\"\"},\"colorscale\":[[0.0,\"#0d0887\"],[0.1111111111111111,\"#46039f\"],[0.2222222222222222,\"#7201a8\"],[0.3333333333333333,\"#9c179e\"],[0.4444444444444444,\"#bd3786\"],[0.5555555555555556,\"#d8576b\"],[0.6666666666666666,\"#ed7953\"],[0.7777777777777778,\"#fb9f3a\"],[0.8888888888888888,\"#fdca26\"],[1.0,\"#f0f921\"]]}],\"mesh3d\":[{\"type\":\"mesh3d\",\"colorbar\":{\"outlinewidth\":0,\"ticks\":\"\"}}],\"scatter\":[{\"fillpattern\":{\"fillmode\":\"overlay\",\"size\":10,\"solidity\":0.2},\"type\":\"scatter\"}],\"parcoords\":[{\"type\":\"parcoords\",\"line\":{\"colorbar\":{\"outlinewidth\":0,\"ticks\":\"\"}}}],\"scatterpolargl\":[{\"type\":\"scatterpolargl\",\"marker\":{\"colorbar\":{\"outlinewidth\":0,\"ticks\":\"\"}}}],\"bar\":[{\"error_x\":{\"color\":\"#2a3f5f\"},\"error_y\":{\"color\":\"#2a3f5f\"},\"marker\":{\"line\":{\"color\":\"#E5ECF6\",\"width\":0.5},\"pattern\":{\"fillmode\":\"overlay\",\"size\":10,\"solidity\":0.2}},\"type\":\"bar\"}],\"scattergeo\":[{\"type\":\"scattergeo\",\"marker\":{\"colorbar\":{\"outlinewidth\":0,\"ticks\":\"\"}}}],\"scatterpolar\":[{\"type\":\"scatterpolar\",\"marker\":{\"colorbar\":{\"outlinewidth\":0,\"ticks\":\"\"}}}],\"histogram\":[{\"marker\":{\"pattern\":{\"fillmode\":\"overlay\",\"size\":10,\"solidity\":0.2}},\"type\":\"histogram\"}],\"scattergl\":[{\"type\":\"scattergl\",\"marker\":{\"colorbar\":{\"outlinewidth\":0,\"ticks\":\"\"}}}],\"scatter3d\":[{\"type\":\"scatter3d\",\"line\":{\"colorbar\":{\"outlinewidth\":0,\"ticks\":\"\"}},\"marker\":{\"colorbar\":{\"outlinewidth\":0,\"ticks\":\"\"}}}],\"scattermapbox\":[{\"type\":\"scattermapbox\",\"marker\":{\"colorbar\":{\"outlinewidth\":0,\"ticks\":\"\"}}}],\"scatterternary\":[{\"type\":\"scatterternary\",\"marker\":{\"colorbar\":{\"outlinewidth\":0,\"ticks\":\"\"}}}],\"scattercarpet\":[{\"type\":\"scattercarpet\",\"marker\":{\"colorbar\":{\"outlinewidth\":0,\"ticks\":\"\"}}}],\"carpet\":[{\"aaxis\":{\"endlinecolor\":\"#2a3f5f\",\"gridcolor\":\"white\",\"linecolor\":\"white\",\"minorgridcolor\":\"white\",\"startlinecolor\":\"#2a3f5f\"},\"baxis\":{\"endlinecolor\":\"#2a3f5f\",\"gridcolor\":\"white\",\"linecolor\":\"white\",\"minorgridcolor\":\"white\",\"startlinecolor\":\"#2a3f5f\"},\"type\":\"carpet\"}],\"table\":[{\"cells\":{\"fill\":{\"color\":\"#EBF0F8\"},\"line\":{\"color\":\"white\"}},\"header\":{\"fill\":{\"color\":\"#C8D4E3\"},\"line\":{\"color\":\"white\"}},\"type\":\"table\"}],\"barpolar\":[{\"marker\":{\"line\":{\"color\":\"#E5ECF6\",\"width\":0.5},\"pattern\":{\"fillmode\":\"overlay\",\"size\":10,\"solidity\":0.2}},\"type\":\"barpolar\"}],\"pie\":[{\"automargin\":true,\"type\":\"pie\"}]},\"layout\":{\"autotypenumbers\":\"strict\",\"colorway\":[\"#636efa\",\"#EF553B\",\"#00cc96\",\"#ab63fa\",\"#FFA15A\",\"#19d3f3\",\"#FF6692\",\"#B6E880\",\"#FF97FF\",\"#FECB52\"],\"font\":{\"color\":\"#2a3f5f\"},\"hovermode\":\"closest\",\"hoverlabel\":{\"align\":\"left\"},\"paper_bgcolor\":\"white\",\"plot_bgcolor\":\"#E5ECF6\",\"polar\":{\"bgcolor\":\"#E5ECF6\",\"angularaxis\":{\"gridcolor\":\"white\",\"linecolor\":\"white\",\"ticks\":\"\"},\"radialaxis\":{\"gridcolor\":\"white\",\"linecolor\":\"white\",\"ticks\":\"\"}},\"ternary\":{\"bgcolor\":\"#E5ECF6\",\"aaxis\":{\"gridcolor\":\"white\",\"linecolor\":\"white\",\"ticks\":\"\"},\"baxis\":{\"gridcolor\":\"white\",\"linecolor\":\"white\",\"ticks\":\"\"},\"caxis\":{\"gridcolor\":\"white\",\"linecolor\":\"white\",\"ticks\":\"\"}},\"coloraxis\":{\"colorbar\":{\"outlinewidth\":0,\"ticks\":\"\"}},\"colorscale\":{\"sequential\":[[0.0,\"#0d0887\"],[0.1111111111111111,\"#46039f\"],[0.2222222222222222,\"#7201a8\"],[0.3333333333333333,\"#9c179e\"],[0.4444444444444444,\"#bd3786\"],[0.5555555555555556,\"#d8576b\"],[0.6666666666666666,\"#ed7953\"],[0.7777777777777778,\"#fb9f3a\"],[0.8888888888888888,\"#fdca26\"],[1.0,\"#f0f921\"]],\"sequentialminus\":[[0.0,\"#0d0887\"],[0.1111111111111111,\"#46039f\"],[0.2222222222222222,\"#7201a8\"],[0.3333333333333333,\"#9c179e\"],[0.4444444444444444,\"#bd3786\"],[0.5555555555555556,\"#d8576b\"],[0.6666666666666666,\"#ed7953\"],[0.7777777777777778,\"#fb9f3a\"],[0.8888888888888888,\"#fdca26\"],[1.0,\"#f0f921\"]],\"diverging\":[[0,\"#8e0152\"],[0.1,\"#c51b7d\"],[0.2,\"#de77ae\"],[0.3,\"#f1b6da\"],[0.4,\"#fde0ef\"],[0.5,\"#f7f7f7\"],[0.6,\"#e6f5d0\"],[0.7,\"#b8e186\"],[0.8,\"#7fbc41\"],[0.9,\"#4d9221\"],[1,\"#276419\"]]},\"xaxis\":{\"gridcolor\":\"white\",\"linecolor\":\"white\",\"ticks\":\"\",\"title\":{\"standoff\":15},\"zerolinecolor\":\"white\",\"automargin\":true,\"zerolinewidth\":2},\"yaxis\":{\"gridcolor\":\"white\",\"linecolor\":\"white\",\"ticks\":\"\",\"title\":{\"standoff\":15},\"zerolinecolor\":\"white\",\"automargin\":true,\"zerolinewidth\":2},\"scene\":{\"xaxis\":{\"backgroundcolor\":\"#E5ECF6\",\"gridcolor\":\"white\",\"linecolor\":\"white\",\"showbackground\":true,\"ticks\":\"\",\"zerolinecolor\":\"white\",\"gridwidth\":2},\"yaxis\":{\"backgroundcolor\":\"#E5ECF6\",\"gridcolor\":\"white\",\"linecolor\":\"white\",\"showbackground\":true,\"ticks\":\"\",\"zerolinecolor\":\"white\",\"gridwidth\":2},\"zaxis\":{\"backgroundcolor\":\"#E5ECF6\",\"gridcolor\":\"white\",\"linecolor\":\"white\",\"showbackground\":true,\"ticks\":\"\",\"zerolinecolor\":\"white\",\"gridwidth\":2}},\"shapedefaults\":{\"line\":{\"color\":\"#2a3f5f\"}},\"annotationdefaults\":{\"arrowcolor\":\"#2a3f5f\",\"arrowhead\":0,\"arrowwidth\":1},\"geo\":{\"bgcolor\":\"white\",\"landcolor\":\"#E5ECF6\",\"subunitcolor\":\"white\",\"showland\":true,\"showlakes\":true,\"lakecolor\":\"white\"},\"title\":{\"x\":0.05},\"mapbox\":{\"style\":\"light\"}}},\"xaxis\":{\"anchor\":\"y\",\"domain\":[0.0,1.0],\"title\":{\"text\":\"Country\"},\"categoryorder\":\"total descending\"},\"yaxis\":{\"anchor\":\"x\",\"domain\":[0.0,1.0],\"title\":{\"text\":\"Sales amount\"}},\"legend\":{\"tracegroupgap\":0},\"title\":{\"text\":\"Sales amount in each country in 2021\"},\"barmode\":\"relative\"},                        {\"responsive\": true}                    ).then(function(){\n",
       "                            \n",
       "var gd = document.getElementById('08f8ce22-565e-4a89-9832-4751caffa65d');\n",
       "var x = new MutationObserver(function (mutations, observer) {{\n",
       "        var display = window.getComputedStyle(gd).display;\n",
       "        if (!display || display === 'none') {{\n",
       "            console.log([gd, 'removed!']);\n",
       "            Plotly.purge(gd);\n",
       "            observer.disconnect();\n",
       "        }}\n",
       "}});\n",
       "\n",
       "// Listen for the removal of the full notebook cells\n",
       "var notebookContainer = gd.closest('#notebook-container');\n",
       "if (notebookContainer) {{\n",
       "    x.observe(notebookContainer, {childList: true});\n",
       "}}\n",
       "\n",
       "// Listen for the clearing of the current output cell\n",
       "var outputEl = gd.closest('.output');\n",
       "if (outputEl) {{\n",
       "    x.observe(outputEl, {childList: true});\n",
       "}}\n",
       "\n",
       "                        })                };                });            </script>        </div>"
      ]
     },
     "metadata": {},
     "output_type": "display_data"
    }
   ],
   "source": [
    "import plotly.express as px\n",
    "\n",
    "# Grouping by 'Country' and summing 'Price'\n",
    "country_sales = data.groupby('Country')['Price'].sum().reset_index()\n",
    "\n",
    "# Plotting the data\n",
    "fig = px.bar(country_sales, x='Country', y='Price', title='Sales amount in each country in 2021')\n",
    "fig.update_layout(xaxis={'categoryorder': 'total descending'}, yaxis_title='Sales amount')\n",
    "fig.show()"
   ]
  },
  {
   "cell_type": "code",
   "execution_count": 78,
   "id": "d92601a0",
   "metadata": {},
   "outputs": [
    {
     "data": {
      "text/html": [
       "<style type=\"text/css\">\n",
       "#T_f9013_row0_col1 {\n",
       "  background-color: #fde725;\n",
       "  color: #000000;\n",
       "}\n",
       "#T_f9013_row1_col1 {\n",
       "  background-color: #c5e021;\n",
       "  color: #000000;\n",
       "}\n",
       "#T_f9013_row2_col1 {\n",
       "  background-color: #472a7a;\n",
       "  color: #f1f1f1;\n",
       "}\n",
       "#T_f9013_row3_col1 {\n",
       "  background-color: #46085c;\n",
       "  color: #f1f1f1;\n",
       "}\n",
       "#T_f9013_row4_col1 {\n",
       "  background-color: #450559;\n",
       "  color: #f1f1f1;\n",
       "}\n",
       "#T_f9013_row5_col1, #T_f9013_row6_col1 {\n",
       "  background-color: #450457;\n",
       "  color: #f1f1f1;\n",
       "}\n",
       "#T_f9013_row7_col1, #T_f9013_row8_col1, #T_f9013_row9_col1 {\n",
       "  background-color: #440154;\n",
       "  color: #f1f1f1;\n",
       "}\n",
       "</style>\n",
       "<table id=\"T_f9013\">\n",
       "  <thead>\n",
       "    <tr>\n",
       "      <th class=\"blank level0\" >&nbsp;</th>\n",
       "      <th id=\"T_f9013_level0_col0\" class=\"col_heading level0 col0\" >Itemname</th>\n",
       "      <th id=\"T_f9013_level0_col1\" class=\"col_heading level0 col1\" >Quantity</th>\n",
       "    </tr>\n",
       "  </thead>\n",
       "  <tbody>\n",
       "    <tr>\n",
       "      <th id=\"T_f9013_level0_row0\" class=\"row_heading level0 row0\" >520583</th>\n",
       "      <td id=\"T_f9013_row0_col0\" class=\"data row0 col0\" >PAPER CRAFT , LITTLE BIRDIE</td>\n",
       "      <td id=\"T_f9013_row0_col1\" class=\"data row0 col1\" >80995</td>\n",
       "    </tr>\n",
       "    <tr>\n",
       "      <th id=\"T_f9013_level0_row1\" class=\"row_heading level0 row1\" >59999</th>\n",
       "      <td id=\"T_f9013_row1_col0\" class=\"data row1 col0\" >MEDIUM CERAMIC TOP STORAGE JAR</td>\n",
       "      <td id=\"T_f9013_row1_col1\" class=\"data row1 col1\" >74215</td>\n",
       "    </tr>\n",
       "    <tr>\n",
       "      <th id=\"T_f9013_level0_row2\" class=\"row_heading level0 row2\" >483371</th>\n",
       "      <td id=\"T_f9013_row2_col0\" class=\"data row2 col0\" >ASSTD DESIGN 3D PAPER STICKERS</td>\n",
       "      <td id=\"T_f9013_row2_col1\" class=\"data row2 col1\" >12540</td>\n",
       "    </tr>\n",
       "    <tr>\n",
       "      <th id=\"T_f9013_level0_row3\" class=\"row_heading level0 row3\" >405138</th>\n",
       "      <td id=\"T_f9013_row3_col0\" class=\"data row3 col0\" >WORLD WAR 2 GLIDERS ASSTD DESIGNS</td>\n",
       "      <td id=\"T_f9013_row3_col1\" class=\"data row3 col1\" >4800</td>\n",
       "    </tr>\n",
       "    <tr>\n",
       "      <th id=\"T_f9013_level0_row4\" class=\"row_heading level0 row4\" >198929</th>\n",
       "      <td id=\"T_f9013_row4_col0\" class=\"data row4 col0\" >SMALL POPCORN HOLDER</td>\n",
       "      <td id=\"T_f9013_row4_col1\" class=\"data row4 col1\" >4300</td>\n",
       "    </tr>\n",
       "    <tr>\n",
       "      <th id=\"T_f9013_level0_row5\" class=\"row_heading level0 row5\" >213130</th>\n",
       "      <td id=\"T_f9013_row5_col0\" class=\"data row5 col0\" >?</td>\n",
       "      <td id=\"T_f9013_row5_col1\" class=\"data row5 col1\" >4000</td>\n",
       "    </tr>\n",
       "    <tr>\n",
       "      <th id=\"T_f9013_level0_row6\" class=\"row_heading level0 row6\" >94245</th>\n",
       "      <td id=\"T_f9013_row6_col0\" class=\"data row6 col0\" >EMPIRE DESIGN ROSETTE</td>\n",
       "      <td id=\"T_f9013_row6_col1\" class=\"data row6 col1\" >3906</td>\n",
       "    </tr>\n",
       "    <tr>\n",
       "      <th id=\"T_f9013_level0_row7\" class=\"row_heading level0 row7\" >260928</th>\n",
       "      <td id=\"T_f9013_row7_col0\" class=\"data row7 col0\" >ESSENTIAL BALM 3.5g TIN IN ENVELOPE</td>\n",
       "      <td id=\"T_f9013_row7_col1\" class=\"data row7 col1\" >3186</td>\n",
       "    </tr>\n",
       "    <tr>\n",
       "      <th id=\"T_f9013_level0_row8\" class=\"row_heading level0 row8\" >154834</th>\n",
       "      <td id=\"T_f9013_row8_col0\" class=\"data row8 col0\" >FAIRY CAKE FLANNEL ASSORTED COLOUR</td>\n",
       "      <td id=\"T_f9013_row8_col1\" class=\"data row8 col1\" >3114</td>\n",
       "    </tr>\n",
       "    <tr>\n",
       "      <th id=\"T_f9013_level0_row9\" class=\"row_heading level0 row9\" >51228</th>\n",
       "      <td id=\"T_f9013_row9_col0\" class=\"data row9 col0\" >FAIRY CAKE FLANNEL ASSORTED COLOUR</td>\n",
       "      <td id=\"T_f9013_row9_col1\" class=\"data row9 col1\" >3114</td>\n",
       "    </tr>\n",
       "  </tbody>\n",
       "</table>\n"
      ],
      "text/plain": [
       "<pandas.io.formats.style.Styler at 0x182edc31d50>"
      ]
     },
     "execution_count": 78,
     "metadata": {},
     "output_type": "execute_result"
    }
   ],
   "source": [
    "import matplotlib.pyplot as plt\n",
    "from matplotlib import cm\n",
    "# Assuming 'data' is  DataFrame\n",
    "data[['Itemname', 'Quantity']].sort_values(by='Quantity', ascending=False)[:10].style.background_gradient(cmap='viridis', subset=['Quantity']).format(\"{:.0f}\", subset=['Quantity'])"
   ]
  },
  {
   "cell_type": "code",
   "execution_count": 79,
   "id": "ad46f449",
   "metadata": {},
   "outputs": [
    {
     "data": {
      "image/png": "[encoded data removed]",
      "text/plain": [
       "<Figure size 600x300 with 1 Axes>"
      ]
     },
     "metadata": {},
     "output_type": "display_data"
    }
   ],
   "source": [
    "import matplotlib.pyplot as plt\n",
    "from matplotlib import cm\n",
    "color=plt.cm.rainbow(np.linspace(0,1,30))\n",
    "data['Itemname'].value_counts().head(10).plot.bar(color=color,figsize=(6,3))\n",
    "\n",
    "# plt.title('Frequency of Most popular items',fontsize=14)\n",
    "plt.xticks(rotation=90,fontsize=8)\n",
    "plt.grid()\n",
    "plt.show()"
   ]
  },
  {
   "cell_type": "markdown",
   "id": "405a6bf5",
   "metadata": {},
   "source": [
    "## Data Preprocessing"
   ]
  },
  {
   "cell_type": "code",
   "execution_count": 80,
   "id": "91676709",
   "metadata": {},
   "outputs": [
    {
     "data": {
      "text/plain": [
       "Index(['BillNo', 'Itemname', 'Quantity', 'Date', 'Price', 'CustomerID',\n",
       "       'Country', 'column', 'Year', 'Month', 'Day', 'quantity'],\n",
       "      dtype='object')"
      ]
     },
     "execution_count": 80,
     "metadata": {},
     "output_type": "execute_result"
    }
   ],
   "source": [
    "data.columns"
   ]
  },
  {
   "cell_type": "markdown",
   "id": "61039784",
   "metadata": {
    "papermill": {
     "duration": 0.012393,
     "end_time": "2024-04-04T06:22:38.809675",
     "exception": false,
     "start_time": "2024-04-04T06:22:38.797282",
     "status": "completed"
    },
    "tags": []
   },
   "source": [
    "# Handling null values"
   ]
  },
  {
   "cell_type": "code",
   "execution_count": 81,
   "id": "7d442df0",
   "metadata": {
    "execution": {
     "iopub.execute_input": "2024-04-04T06:22:38.836929Z",
     "iopub.status.busy": "2024-04-04T06:22:38.836564Z",
     "iopub.status.idle": "2024-04-04T06:22:39.016178Z",
     "shell.execute_reply": "2024-04-04T06:22:39.014922Z"
    },
    "papermill": {
     "duration": 0.196551,
     "end_time": "2024-04-04T06:22:39.018943",
     "exception": false,
     "start_time": "2024-04-04T06:22:38.822392",
     "status": "completed"
    },
    "tags": []
   },
   "outputs": [
    {
     "data": {
      "text/plain": [
       "BillNo             0\n",
       "Itemname           0\n",
       "Quantity           0\n",
       "Date               0\n",
       "Price              0\n",
       "CustomerID    132512\n",
       "Country            0\n",
       "column             0\n",
       "Year               0\n",
       "Month              0\n",
       "Day                0\n",
       "quantity      388495\n",
       "dtype: int64"
      ]
     },
     "execution_count": 81,
     "metadata": {},
     "output_type": "execute_result"
    }
   ],
   "source": [
    "data.isnull().sum()"
   ]
  },
  {
   "cell_type": "markdown",
   "id": "2b80e34d",
   "metadata": {
    "papermill": {
     "duration": 0.013037,
     "end_time": "2024-04-04T06:22:39.045065",
     "exception": false,
     "start_time": "2024-04-04T06:22:39.032028",
     "status": "completed"
    },
    "tags": []
   },
   "source": [
    " Remove the null values from the data with respect to the Itemname"
   ]
  },
  {
   "cell_type": "code",
   "execution_count": 82,
   "id": "d0b09dcd",
   "metadata": {
    "execution": {
     "iopub.execute_input": "2024-04-04T06:22:39.072727Z",
     "iopub.status.busy": "2024-04-04T06:22:39.072314Z",
     "iopub.status.idle": "2024-04-04T06:22:39.181276Z",
     "shell.execute_reply": "2024-04-04T06:22:39.180186Z"
    },
    "papermill": {
     "duration": 0.126216,
     "end_time": "2024-04-04T06:22:39.184202",
     "exception": false,
     "start_time": "2024-04-04T06:22:39.057986",
     "status": "completed"
    },
    "tags": []
   },
   "outputs": [
    {
     "name": "stdout",
     "output_type": "stream",
     "text": [
      "   BillNo                             Itemname  Quantity                Date  \\\n",
      "0  536365   WHITE HANGING HEART T-LIGHT HOLDER         6 2010-12-01 08:26:00   \n",
      "1  536365                  WHITE METAL LANTERN         6 2010-12-01 08:26:00   \n",
      "2  536365       CREAM CUPID HEARTS COAT HANGER         8 2010-12-01 08:26:00   \n",
      "3  536365  KNITTED UNION FLAG HOT WATER BOTTLE         6 2010-12-01 08:26:00   \n",
      "4  536365       RED WOOLLY HOTTIE WHITE HEART.         6 2010-12-01 08:26:00   \n",
      "\n",
      "   Price  CustomerID         Country     column  Year  Month  Day  quantity  \n",
      "0   2.55     17850.0  United Kingdom  new_value  2010     12    1       NaN  \n",
      "1   3.39     17850.0  United Kingdom  new_value  2010     12    1       NaN  \n",
      "2   2.75     17850.0  United Kingdom  new_value  2010     12    1       NaN  \n",
      "3   3.39     17850.0  United Kingdom  new_value  2010     12    1       NaN  \n",
      "4   3.39     17850.0  United Kingdom  new_value  2010     12    1       NaN  \n"
     ]
    }
   ],
   "source": [
    "#Display the first few rows of the dataset\n",
    "print(data.head())"
   ]
  },
  {
   "cell_type": "code",
   "execution_count": 83,
   "id": "a2097788",
   "metadata": {},
   "outputs": [
    {
     "name": "stdout",
     "output_type": "stream",
     "text": [
      "(515323, 12)\n"
     ]
    }
   ],
   "source": [
    "# Check the dimensions of the dataset (number of rows and columns)\n",
    "print(data.shape)"
   ]
  },
  {
   "cell_type": "code",
   "execution_count": 84,
   "id": "b9e50f43",
   "metadata": {},
   "outputs": [
    {
     "name": "stdout",
     "output_type": "stream",
     "text": [
      "BillNo                object\n",
      "Itemname              object\n",
      "Quantity               int64\n",
      "Date          datetime64[ns]\n",
      "Price                float64\n",
      "CustomerID           float64\n",
      "Country               object\n",
      "column                object\n",
      "Year                   int32\n",
      "Month                  int32\n",
      "Day                    int32\n",
      "quantity             float64\n",
      "dtype: object\n"
     ]
    }
   ],
   "source": [
    "# Check the data types of each column\n",
    "print(data.dtypes)"
   ]
  },
  {
   "cell_type": "code",
   "execution_count": 85,
   "id": "e23b2886",
   "metadata": {
    "execution": {
     "iopub.execute_input": "2024-04-04T06:22:39.212654Z",
     "iopub.status.busy": "2024-04-04T06:22:39.212248Z",
     "iopub.status.idle": "2024-04-04T06:22:39.389965Z",
     "shell.execute_reply": "2024-04-04T06:22:39.388800Z"
    },
    "papermill": {
     "duration": 0.195422,
     "end_time": "2024-04-04T06:22:39.392645",
     "exception": false,
     "start_time": "2024-04-04T06:22:39.197223",
     "status": "completed"
    },
    "tags": []
   },
   "outputs": [
    {
     "name": "stdout",
     "output_type": "stream",
     "text": [
      "BillNo             0\n",
      "Itemname           0\n",
      "Quantity           0\n",
      "Date               0\n",
      "Price              0\n",
      "CustomerID    132512\n",
      "Country            0\n",
      "column             0\n",
      "Year               0\n",
      "Month              0\n",
      "Day                0\n",
      "quantity      388495\n",
      "dtype: int64\n"
     ]
    }
   ],
   "source": [
    "print(data.isnull().sum())"
   ]
  },
  {
   "cell_type": "code",
   "execution_count": 86,
   "id": "6a34302d",
   "metadata": {},
   "outputs": [],
   "source": [
    "x = data.iloc[:, :-2].values\n",
    "y = data.iloc[:, 4].values"
   ]
  },
  {
   "cell_type": "markdown",
   "id": "ec413669",
   "metadata": {
    "papermill": {
     "duration": 0.013062,
     "end_time": "2024-04-04T06:22:39.419112",
     "exception": false,
     "start_time": "2024-04-04T06:22:39.406050",
     "status": "completed"
    },
    "tags": []
   },
   "source": [
    "<b><p style='font-size:19px'>Handling Duplicates</p></b>"
   ]
  },
  {
   "cell_type": "code",
   "execution_count": 87,
   "id": "3eb8c836",
   "metadata": {
    "execution": {
     "iopub.execute_input": "2024-04-04T06:22:39.447214Z",
     "iopub.status.busy": "2024-04-04T06:22:39.446843Z",
     "iopub.status.idle": "2024-04-04T06:22:39.787914Z",
     "shell.execute_reply": "2024-04-04T06:22:39.786681Z"
    },
    "papermill": {
     "duration": 0.358145,
     "end_time": "2024-04-04T06:22:39.790549",
     "exception": false,
     "start_time": "2024-04-04T06:22:39.432404",
     "status": "completed"
    },
    "tags": []
   },
   "outputs": [
    {
     "data": {
      "text/plain": [
       "0"
      ]
     },
     "execution_count": 87,
     "metadata": {},
     "output_type": "execute_result"
    }
   ],
   "source": [
    "data.duplicated().sum()"
   ]
  },
  {
   "cell_type": "code",
   "execution_count": 88,
   "id": "69f64792",
   "metadata": {
    "execution": {
     "iopub.execute_input": "2024-04-04T06:22:40.524659Z",
     "iopub.status.busy": "2024-04-04T06:22:40.524246Z",
     "iopub.status.idle": "2024-04-04T06:22:40.539817Z",
     "shell.execute_reply": "2024-04-04T06:22:40.538723Z"
    },
    "papermill": {
     "duration": 0.032209,
     "end_time": "2024-04-04T06:22:40.541962",
     "exception": false,
     "start_time": "2024-04-04T06:22:40.509753",
     "status": "completed"
    },
    "tags": []
   },
   "outputs": [
    {
     "data": {
      "text/html": [
       "<div>\n",
       "<style scoped>\n",
       "    .dataframe tbody tr th:only-of-type {\n",
       "        vertical-align: middle;\n",
       "    }\n",
       "\n",
       "    .dataframe tbody tr th {\n",
       "        vertical-align: top;\n",
       "    }\n",
       "\n",
       "    .dataframe thead th {\n",
       "        text-align: right;\n",
       "    }\n",
       "</style>\n",
       "<table border=\"1\" class=\"dataframe\">\n",
       "  <thead>\n",
       "    <tr style=\"text-align: right;\">\n",
       "      <th></th>\n",
       "      <th>BillNo</th>\n",
       "      <th>Itemname</th>\n",
       "      <th>Quantity</th>\n",
       "      <th>Date</th>\n",
       "      <th>Price</th>\n",
       "      <th>CustomerID</th>\n",
       "      <th>Country</th>\n",
       "      <th>column</th>\n",
       "      <th>Year</th>\n",
       "      <th>Month</th>\n",
       "      <th>Day</th>\n",
       "      <th>quantity</th>\n",
       "    </tr>\n",
       "  </thead>\n",
       "  <tbody>\n",
       "    <tr>\n",
       "      <th>0</th>\n",
       "      <td>536365</td>\n",
       "      <td>WHITE HANGING HEART T-LIGHT HOLDER</td>\n",
       "      <td>6</td>\n",
       "      <td>2010-12-01 08:26:00</td>\n",
       "      <td>2.55</td>\n",
       "      <td>17850.0</td>\n",
       "      <td>United Kingdom</td>\n",
       "      <td>new_value</td>\n",
       "      <td>2010</td>\n",
       "      <td>12</td>\n",
       "      <td>1</td>\n",
       "      <td>NaN</td>\n",
       "    </tr>\n",
       "    <tr>\n",
       "      <th>1</th>\n",
       "      <td>536365</td>\n",
       "      <td>WHITE METAL LANTERN</td>\n",
       "      <td>6</td>\n",
       "      <td>2010-12-01 08:26:00</td>\n",
       "      <td>3.39</td>\n",
       "      <td>17850.0</td>\n",
       "      <td>United Kingdom</td>\n",
       "      <td>new_value</td>\n",
       "      <td>2010</td>\n",
       "      <td>12</td>\n",
       "      <td>1</td>\n",
       "      <td>NaN</td>\n",
       "    </tr>\n",
       "    <tr>\n",
       "      <th>2</th>\n",
       "      <td>536365</td>\n",
       "      <td>CREAM CUPID HEARTS COAT HANGER</td>\n",
       "      <td>8</td>\n",
       "      <td>2010-12-01 08:26:00</td>\n",
       "      <td>2.75</td>\n",
       "      <td>17850.0</td>\n",
       "      <td>United Kingdom</td>\n",
       "      <td>new_value</td>\n",
       "      <td>2010</td>\n",
       "      <td>12</td>\n",
       "      <td>1</td>\n",
       "      <td>NaN</td>\n",
       "    </tr>\n",
       "    <tr>\n",
       "      <th>3</th>\n",
       "      <td>536365</td>\n",
       "      <td>KNITTED UNION FLAG HOT WATER BOTTLE</td>\n",
       "      <td>6</td>\n",
       "      <td>2010-12-01 08:26:00</td>\n",
       "      <td>3.39</td>\n",
       "      <td>17850.0</td>\n",
       "      <td>United Kingdom</td>\n",
       "      <td>new_value</td>\n",
       "      <td>2010</td>\n",
       "      <td>12</td>\n",
       "      <td>1</td>\n",
       "      <td>NaN</td>\n",
       "    </tr>\n",
       "    <tr>\n",
       "      <th>4</th>\n",
       "      <td>536365</td>\n",
       "      <td>RED WOOLLY HOTTIE WHITE HEART.</td>\n",
       "      <td>6</td>\n",
       "      <td>2010-12-01 08:26:00</td>\n",
       "      <td>3.39</td>\n",
       "      <td>17850.0</td>\n",
       "      <td>United Kingdom</td>\n",
       "      <td>new_value</td>\n",
       "      <td>2010</td>\n",
       "      <td>12</td>\n",
       "      <td>1</td>\n",
       "      <td>NaN</td>\n",
       "    </tr>\n",
       "  </tbody>\n",
       "</table>\n",
       "</div>"
      ],
      "text/plain": [
       "   BillNo                             Itemname  Quantity                Date  \\\n",
       "0  536365   WHITE HANGING HEART T-LIGHT HOLDER         6 2010-12-01 08:26:00   \n",
       "1  536365                  WHITE METAL LANTERN         6 2010-12-01 08:26:00   \n",
       "2  536365       CREAM CUPID HEARTS COAT HANGER         8 2010-12-01 08:26:00   \n",
       "3  536365  KNITTED UNION FLAG HOT WATER BOTTLE         6 2010-12-01 08:26:00   \n",
       "4  536365       RED WOOLLY HOTTIE WHITE HEART.         6 2010-12-01 08:26:00   \n",
       "\n",
       "   Price  CustomerID         Country     column  Year  Month  Day  quantity  \n",
       "0   2.55     17850.0  United Kingdom  new_value  2010     12    1       NaN  \n",
       "1   3.39     17850.0  United Kingdom  new_value  2010     12    1       NaN  \n",
       "2   2.75     17850.0  United Kingdom  new_value  2010     12    1       NaN  \n",
       "3   3.39     17850.0  United Kingdom  new_value  2010     12    1       NaN  \n",
       "4   3.39     17850.0  United Kingdom  new_value  2010     12    1       NaN  "
      ]
     },
     "execution_count": 88,
     "metadata": {},
     "output_type": "execute_result"
    }
   ],
   "source": [
    "data.head()"
   ]
  },
  {
   "cell_type": "code",
   "execution_count": 89,
   "id": "487fe4d1",
   "metadata": {},
   "outputs": [],
   "source": [
    "#  Identify missing values\n",
    "missing_values_CustomerID = data['CustomerID'].isnull().sum()"
   ]
  },
  {
   "cell_type": "code",
   "execution_count": 90,
   "id": "dea18e4c",
   "metadata": {
    "execution": {
     "iopub.execute_input": "2024-04-04T06:22:39.819076Z",
     "iopub.status.busy": "2024-04-04T06:22:39.818220Z",
     "iopub.status.idle": "2024-04-04T06:22:40.145642Z",
     "shell.execute_reply": "2024-04-04T06:22:40.144434Z"
    },
    "papermill": {
     "duration": 0.344606,
     "end_time": "2024-04-04T06:22:40.148437",
     "exception": false,
     "start_time": "2024-04-04T06:22:39.803831",
     "status": "completed"
    },
    "tags": []
   },
   "outputs": [],
   "source": [
    "# Assess the extent of missingness\n",
    "percentage_missing_CustomerID = (missing_values_CustomerID / len(data)) * 100"
   ]
  },
  {
   "cell_type": "code",
   "execution_count": 91,
   "id": "054f7caa",
   "metadata": {
    "execution": {
     "iopub.execute_input": "2024-04-04T06:22:40.177082Z",
     "iopub.status.busy": "2024-04-04T06:22:40.176655Z",
     "iopub.status.idle": "2024-04-04T06:22:40.467538Z",
     "shell.execute_reply": "2024-04-04T06:22:40.466312Z"
    },
    "papermill": {
     "duration": 0.308169,
     "end_time": "2024-04-04T06:22:40.470040",
     "exception": false,
     "start_time": "2024-04-04T06:22:40.161871",
     "status": "completed"
    },
    "tags": []
   },
   "outputs": [],
   "source": [
    "# Decide on handling strategy\n",
    "cleaned_data = data.dropna(subset=['CustomerID'])"
   ]
  },
  {
   "cell_type": "markdown",
   "id": "3bd6a23c",
   "metadata": {
    "papermill": {
     "duration": 0.013397,
     "end_time": "2024-04-04T06:22:40.568874",
     "exception": false,
     "start_time": "2024-04-04T06:22:40.555477",
     "status": "completed"
    },
    "tags": []
   },
   "source": [
    "<b style='font-size:18px'>Let's extract Itemnames for each BillNo. and store it in a list.</b>"
   ]
  },
  {
   "cell_type": "code",
   "execution_count": 92,
   "id": "8c49bb57",
   "metadata": {
    "execution": {
     "iopub.execute_input": "2024-04-04T06:22:40.598284Z",
     "iopub.status.busy": "2024-04-04T06:22:40.597867Z",
     "iopub.status.idle": "2024-04-04T06:22:42.107170Z",
     "shell.execute_reply": "2024-04-04T06:22:42.105908Z"
    },
    "papermill": {
     "duration": 1.527265,
     "end_time": "2024-04-04T06:22:42.110180",
     "exception": false,
     "start_time": "2024-04-04T06:22:40.582915",
     "status": "completed"
    },
    "tags": []
   },
   "outputs": [],
   "source": [
    "items=data.set_index(['BillNo']).stack()"
   ]
  },
  {
   "cell_type": "code",
   "execution_count": 93,
   "id": "32c9d22c",
   "metadata": {
    "execution": {
     "iopub.execute_input": "2024-04-04T06:22:42.190541Z",
     "iopub.status.busy": "2024-04-04T06:22:42.189873Z",
     "iopub.status.idle": "2024-04-04T06:22:42.195888Z",
     "shell.execute_reply": "2024-04-04T06:22:42.194956Z"
    },
    "papermill": {
     "duration": 0.02461,
     "end_time": "2024-04-04T06:22:42.198257",
     "exception": false,
     "start_time": "2024-04-04T06:22:42.173647",
     "status": "completed"
    },
    "tags": []
   },
   "outputs": [],
   "source": [
    "item=pd.DataFrame(items)"
   ]
  },
  {
   "cell_type": "code",
   "execution_count": 94,
   "id": "e22bb2ba",
   "metadata": {
    "execution": {
     "iopub.execute_input": "2024-04-04T06:22:42.228312Z",
     "iopub.status.busy": "2024-04-04T06:22:42.227677Z",
     "iopub.status.idle": "2024-04-04T06:22:42.233200Z",
     "shell.execute_reply": "2024-04-04T06:22:42.232423Z"
    },
    "papermill": {
     "duration": 0.023822,
     "end_time": "2024-04-04T06:22:42.235970",
     "exception": false,
     "start_time": "2024-04-04T06:22:42.212148",
     "status": "completed"
    },
    "tags": []
   },
   "outputs": [],
   "source": [
    "item.rename(columns={0:'list'},inplace=True)"
   ]
  },
  {
   "cell_type": "code",
   "execution_count": 95,
   "id": "44b0e902",
   "metadata": {
    "execution": {
     "iopub.execute_input": "2024-04-04T06:22:42.266089Z",
     "iopub.status.busy": "2024-04-04T06:22:42.265451Z",
     "iopub.status.idle": "2024-04-04T06:22:42.275650Z",
     "shell.execute_reply": "2024-04-04T06:22:42.274527Z"
    },
    "papermill": {
     "duration": 0.02804,
     "end_time": "2024-04-04T06:22:42.277951",
     "exception": false,
     "start_time": "2024-04-04T06:22:42.249911",
     "status": "completed"
    },
    "tags": []
   },
   "outputs": [
    {
     "data": {
      "text/plain": [
       "Index([   536365,    536366,    536367,    536368,    536369,    536370,\n",
       "          536371,    536372,    536373,    536374,\n",
       "       ...\n",
       "          581581,    581582,    581583,    581584,    581585,    581586,\n",
       "          581587, 'A563185', 'A563186', 'A563187'],\n",
       "      dtype='object', name='BillNo', length=20208)"
      ]
     },
     "execution_count": 95,
     "metadata": {},
     "output_type": "execute_result"
    }
   ],
   "source": [
    "item.index.levels[0]"
   ]
  },
  {
   "cell_type": "code",
   "execution_count": 96,
   "id": "5c6f5673",
   "metadata": {
    "execution": {
     "iopub.execute_input": "2024-04-04T06:22:42.307882Z",
     "iopub.status.busy": "2024-04-04T06:22:42.307177Z",
     "iopub.status.idle": "2024-04-04T06:23:40.174887Z",
     "shell.execute_reply": "2024-04-04T06:23:40.173953Z"
    },
    "papermill": {
     "duration": 57.88572,
     "end_time": "2024-04-04T06:23:40.177551",
     "exception": false,
     "start_time": "2024-04-04T06:22:42.291831",
     "status": "completed"
    },
    "tags": []
   },
   "outputs": [],
   "source": [
    "products=[]\n",
    "\n",
    "for i in (item.index.levels[0]):\n",
    "    product=item.loc[(i,['Itemname']),'list'].to_list()\n",
    "    \n",
    "    products.append(product)"
   ]
  },
  {
   "cell_type": "code",
   "execution_count": 97,
   "id": "35c920c5",
   "metadata": {
    "execution": {
     "iopub.execute_input": "2024-04-04T06:23:40.207457Z",
     "iopub.status.busy": "2024-04-04T06:23:40.207015Z",
     "iopub.status.idle": "2024-04-04T06:23:40.214838Z",
     "shell.execute_reply": "2024-04-04T06:23:40.213640Z"
    },
    "papermill": {
     "duration": 0.026254,
     "end_time": "2024-04-04T06:23:40.217881",
     "exception": false,
     "start_time": "2024-04-04T06:23:40.191627",
     "status": "completed"
    },
    "tags": []
   },
   "outputs": [
    {
     "data": {
      "text/plain": [
       "[['WHITE HANGING HEART T-LIGHT HOLDER',\n",
       "  'WHITE METAL LANTERN',\n",
       "  'CREAM CUPID HEARTS COAT HANGER',\n",
       "  'KNITTED UNION FLAG HOT WATER BOTTLE',\n",
       "  'RED WOOLLY HOTTIE WHITE HEART.',\n",
       "  'SET 7 BABUSHKA NESTING BOXES',\n",
       "  'GLASS STAR FROSTED T-LIGHT HOLDER'],\n",
       " ['HAND WARMER UNION JACK', 'HAND WARMER RED POLKA DOT'],\n",
       " ['ASSORTED COLOUR BIRD ORNAMENT',\n",
       "  \"POPPY'S PLAYHOUSE BEDROOM\",\n",
       "  \"POPPY'S PLAYHOUSE KITCHEN\",\n",
       "  'FELTCRAFT PRINCESS CHARLOTTE DOLL',\n",
       "  'IVORY KNITTED MUG COSY',\n",
       "  'BOX OF 6 ASSORTED COLOUR TEASPOONS',\n",
       "  'BOX OF VINTAGE JIGSAW BLOCKS',\n",
       "  'BOX OF VINTAGE ALPHABET BLOCKS',\n",
       "  'HOME BUILDING BLOCK WORD',\n",
       "  'LOVE BUILDING BLOCK WORD',\n",
       "  'RECIPE BOX WITH METAL HEART',\n",
       "  'DOORMAT NEW ENGLAND'],\n",
       " ['JAM MAKING SET WITH JARS',\n",
       "  'RED COAT RACK PARIS FASHION',\n",
       "  'YELLOW COAT RACK PARIS FASHION',\n",
       "  'BLUE COAT RACK PARIS FASHION'],\n",
       " ['BATH BUILDING BLOCK WORD']]"
      ]
     },
     "execution_count": 97,
     "metadata": {},
     "output_type": "execute_result"
    }
   ],
   "source": [
    "products[0:5]"
   ]
  },
  {
   "cell_type": "markdown",
   "id": "5ba20b4b",
   "metadata": {
    "papermill": {
     "duration": 0.014048,
     "end_time": "2024-04-04T06:23:40.246438",
     "exception": false,
     "start_time": "2024-04-04T06:23:40.232390",
     "status": "completed"
    },
    "tags": []
   },
   "source": [
    "## Model selection  And Training Model\n",
    "Buliding rules to the Apriori model"
   ]
  },
  {
   "cell_type": "code",
   "execution_count": 1,
   "id": "11d93166",
   "metadata": {},
   "outputs": [
    {
     "name": "stdout",
     "output_type": "stream",
     "text": [
      "Requirement already satisfied: apyori in c:\\anaconda\\lib\\site-packages (1.1.2)\n"
     ]
    }
   ],
   "source": [
    "!pip install apyori"
   ]
  },
  {
   "cell_type": "code",
   "execution_count": 2,
   "id": "cf6cec49",
   "metadata": {},
   "outputs": [],
   "source": [
    "#import all required packages\n",
    "import pandas as pd\n",
    "import numpy as np\n",
    "from apyori import apriori"
   ]
  },
  {
   "cell_type": "code",
   "execution_count": 3,
   "id": "8e45da05",
   "metadata": {},
   "outputs": [],
   "source": [
    "from mlxtend.frequent_patterns import apriori\n",
    "from mlxtend.frequent_patterns import association_rules"
   ]
  },
  {
   "cell_type": "code",
   "execution_count": 7,
   "id": "f253387c",
   "metadata": {},
   "outputs": [],
   "source": [
    "import pandas as pd\n",
    "data = pd.read_excel(\"project_data_set.xlsx\") "
   ]
  },
  {
   "cell_type": "code",
   "execution_count": 65,
   "id": "db004544",
   "metadata": {},
   "outputs": [
    {
     "data": {
      "text/html": [
       "<div>\n",
       "<style scoped>\n",
       "    .dataframe tbody tr th:only-of-type {\n",
       "        vertical-align: middle;\n",
       "    }\n",
       "\n",
       "    .dataframe tbody tr th {\n",
       "        vertical-align: top;\n",
       "    }\n",
       "\n",
       "    .dataframe thead th {\n",
       "        text-align: right;\n",
       "    }\n",
       "</style>\n",
       "<table border=\"1\" class=\"dataframe\">\n",
       "  <thead>\n",
       "    <tr style=\"text-align: right;\">\n",
       "      <th></th>\n",
       "      <th>BillNo</th>\n",
       "      <th>Itemname</th>\n",
       "      <th>Quantity</th>\n",
       "      <th>Date</th>\n",
       "      <th>Price</th>\n",
       "      <th>CustomerID</th>\n",
       "      <th>Country</th>\n",
       "    </tr>\n",
       "  </thead>\n",
       "  <tbody>\n",
       "    <tr>\n",
       "      <th>0</th>\n",
       "      <td>536365</td>\n",
       "      <td>WHITE HANGING HEART T-LIGHT HOLDER</td>\n",
       "      <td>6</td>\n",
       "      <td>2010-12-01 08:26:00</td>\n",
       "      <td>2.55</td>\n",
       "      <td>17850.0</td>\n",
       "      <td>United Kingdom</td>\n",
       "    </tr>\n",
       "    <tr>\n",
       "      <th>1</th>\n",
       "      <td>536365</td>\n",
       "      <td>WHITE METAL LANTERN</td>\n",
       "      <td>6</td>\n",
       "      <td>2010-12-01 08:26:00</td>\n",
       "      <td>3.39</td>\n",
       "      <td>17850.0</td>\n",
       "      <td>United Kingdom</td>\n",
       "    </tr>\n",
       "    <tr>\n",
       "      <th>2</th>\n",
       "      <td>536365</td>\n",
       "      <td>CREAM CUPID HEARTS COAT HANGER</td>\n",
       "      <td>8</td>\n",
       "      <td>2010-12-01 08:26:00</td>\n",
       "      <td>2.75</td>\n",
       "      <td>17850.0</td>\n",
       "      <td>United Kingdom</td>\n",
       "    </tr>\n",
       "    <tr>\n",
       "      <th>3</th>\n",
       "      <td>536365</td>\n",
       "      <td>KNITTED UNION FLAG HOT WATER BOTTLE</td>\n",
       "      <td>6</td>\n",
       "      <td>2010-12-01 08:26:00</td>\n",
       "      <td>3.39</td>\n",
       "      <td>17850.0</td>\n",
       "      <td>United Kingdom</td>\n",
       "    </tr>\n",
       "    <tr>\n",
       "      <th>4</th>\n",
       "      <td>536365</td>\n",
       "      <td>RED WOOLLY HOTTIE WHITE HEART.</td>\n",
       "      <td>6</td>\n",
       "      <td>2010-12-01 08:26:00</td>\n",
       "      <td>3.39</td>\n",
       "      <td>17850.0</td>\n",
       "      <td>United Kingdom</td>\n",
       "    </tr>\n",
       "  </tbody>\n",
       "</table>\n",
       "</div>"
      ],
      "text/plain": [
       "   BillNo                             Itemname  Quantity                Date  \\\n",
       "0  536365   WHITE HANGING HEART T-LIGHT HOLDER         6 2010-12-01 08:26:00   \n",
       "1  536365                  WHITE METAL LANTERN         6 2010-12-01 08:26:00   \n",
       "2  536365       CREAM CUPID HEARTS COAT HANGER         8 2010-12-01 08:26:00   \n",
       "3  536365  KNITTED UNION FLAG HOT WATER BOTTLE         6 2010-12-01 08:26:00   \n",
       "4  536365       RED WOOLLY HOTTIE WHITE HEART.         6 2010-12-01 08:26:00   \n",
       "\n",
       "   Price  CustomerID         Country  \n",
       "0   2.55     17850.0  United Kingdom  \n",
       "1   3.39     17850.0  United Kingdom  \n",
       "2   2.75     17850.0  United Kingdom  \n",
       "3   3.39     17850.0  United Kingdom  \n",
       "4   3.39     17850.0  United Kingdom  "
      ]
     },
     "execution_count": 65,
     "metadata": {},
     "output_type": "execute_result"
    }
   ],
   "source": [
    "data.head()"
   ]
  },
  {
   "cell_type": "code",
   "execution_count": 9,
   "id": "2eb16792",
   "metadata": {},
   "outputs": [
    {
     "data": {
      "text/plain": [
       "Index(['BillNo', 'Itemname', 'Quantity', 'Date', 'Price', 'CustomerID',\n",
       "       'Country'],\n",
       "      dtype='object')"
      ]
     },
     "execution_count": 9,
     "metadata": {},
     "output_type": "execute_result"
    }
   ],
   "source": [
    "data.columns"
   ]
  },
  {
   "cell_type": "code",
   "execution_count": 66,
   "id": "cb5d9e6b",
   "metadata": {},
   "outputs": [
    {
     "data": {
      "text/html": [
       "<div>\n",
       "<style scoped>\n",
       "    .dataframe tbody tr th:only-of-type {\n",
       "        vertical-align: middle;\n",
       "    }\n",
       "\n",
       "    .dataframe tbody tr th {\n",
       "        vertical-align: top;\n",
       "    }\n",
       "\n",
       "    .dataframe thead th {\n",
       "        text-align: right;\n",
       "    }\n",
       "</style>\n",
       "<table border=\"1\" class=\"dataframe\">\n",
       "  <thead>\n",
       "    <tr style=\"text-align: right;\">\n",
       "      <th></th>\n",
       "      <th>BillNo</th>\n",
       "      <th>Itemname</th>\n",
       "      <th>Quantity</th>\n",
       "      <th>Date</th>\n",
       "      <th>Price</th>\n",
       "      <th>CustomerID</th>\n",
       "      <th>Country</th>\n",
       "    </tr>\n",
       "  </thead>\n",
       "  <tbody>\n",
       "    <tr>\n",
       "      <th>0</th>\n",
       "      <td>536365</td>\n",
       "      <td>WHITE HANGING HEART T-LIGHT HOLDER</td>\n",
       "      <td>6</td>\n",
       "      <td>2010-12-01 08:26:00</td>\n",
       "      <td>2.55</td>\n",
       "      <td>17850.0</td>\n",
       "      <td>United Kingdom</td>\n",
       "    </tr>\n",
       "    <tr>\n",
       "      <th>1</th>\n",
       "      <td>536365</td>\n",
       "      <td>WHITE METAL LANTERN</td>\n",
       "      <td>6</td>\n",
       "      <td>2010-12-01 08:26:00</td>\n",
       "      <td>3.39</td>\n",
       "      <td>17850.0</td>\n",
       "      <td>United Kingdom</td>\n",
       "    </tr>\n",
       "    <tr>\n",
       "      <th>2</th>\n",
       "      <td>536365</td>\n",
       "      <td>CREAM CUPID HEARTS COAT HANGER</td>\n",
       "      <td>8</td>\n",
       "      <td>2010-12-01 08:26:00</td>\n",
       "      <td>2.75</td>\n",
       "      <td>17850.0</td>\n",
       "      <td>United Kingdom</td>\n",
       "    </tr>\n",
       "    <tr>\n",
       "      <th>3</th>\n",
       "      <td>536365</td>\n",
       "      <td>KNITTED UNION FLAG HOT WATER BOTTLE</td>\n",
       "      <td>6</td>\n",
       "      <td>2010-12-01 08:26:00</td>\n",
       "      <td>3.39</td>\n",
       "      <td>17850.0</td>\n",
       "      <td>United Kingdom</td>\n",
       "    </tr>\n",
       "    <tr>\n",
       "      <th>4</th>\n",
       "      <td>536365</td>\n",
       "      <td>RED WOOLLY HOTTIE WHITE HEART.</td>\n",
       "      <td>6</td>\n",
       "      <td>2010-12-01 08:26:00</td>\n",
       "      <td>3.39</td>\n",
       "      <td>17850.0</td>\n",
       "      <td>United Kingdom</td>\n",
       "    </tr>\n",
       "  </tbody>\n",
       "</table>\n",
       "</div>"
      ],
      "text/plain": [
       "   BillNo                             Itemname  Quantity                Date  \\\n",
       "0  536365   WHITE HANGING HEART T-LIGHT HOLDER         6 2010-12-01 08:26:00   \n",
       "1  536365                  WHITE METAL LANTERN         6 2010-12-01 08:26:00   \n",
       "2  536365       CREAM CUPID HEARTS COAT HANGER         8 2010-12-01 08:26:00   \n",
       "3  536365  KNITTED UNION FLAG HOT WATER BOTTLE         6 2010-12-01 08:26:00   \n",
       "4  536365       RED WOOLLY HOTTIE WHITE HEART.         6 2010-12-01 08:26:00   \n",
       "\n",
       "   Price  CustomerID         Country  \n",
       "0   2.55     17850.0  United Kingdom  \n",
       "1   3.39     17850.0  United Kingdom  \n",
       "2   2.75     17850.0  United Kingdom  \n",
       "3   3.39     17850.0  United Kingdom  \n",
       "4   3.39     17850.0  United Kingdom  "
      ]
     },
     "execution_count": 66,
     "metadata": {},
     "output_type": "execute_result"
    }
   ],
   "source": [
    "data.dropna(axis = 0, subset = ['BillNo'],inplace = True)#remove duplicate invoice\n",
    "data['BillNo'] = data['BillNo'].astype('str') # converting BillNo to be string\n",
    "data = data[~data['BillNo'].str.contains('C')]# remove the credit tarnscations\n",
    "data.head()"
   ]
  },
  {
   "cell_type": "code",
   "execution_count": 51,
   "id": "1a42010d",
   "metadata": {},
   "outputs": [
    {
     "data": {
      "text/plain": [
       "Country\n",
       "United Kingdom          487622\n",
       "Germany                   9042\n",
       "France                    8408\n",
       "Spain                     2485\n",
       "Netherlands               2363\n",
       "Belgium                   2031\n",
       "Switzerland               1967\n",
       "Portugal                  1501\n",
       "Australia                 1185\n",
       "Norway                    1072\n",
       "Italy                      758\n",
       "Sweden                     451\n",
       "Unspecified                446\n",
       "Austria                    398\n",
       "Poland                     330\n",
       "Japan                      321\n",
       "Israel                     295\n",
       "Hong Kong                  284\n",
       "Singapore                  222\n",
       "Iceland                    182\n",
       "USA                        179\n",
       "Greece                     145\n",
       "Malta                      112\n",
       "United Arab Emirates        68\n",
       "RSA                         58\n",
       "Lebanon                     45\n",
       "Lithuania                   35\n",
       "Brazil                      32\n",
       "Bahrain                     18\n",
       "Saudi Arabia                 9\n",
       "Name: count, dtype: int64"
      ]
     },
     "execution_count": 51,
     "metadata": {},
     "output_type": "execute_result"
    }
   ],
   "source": [
    "data['Country'].value_counts()"
   ]
  },
  {
   "cell_type": "code",
   "execution_count": 35,
   "id": "576ee370",
   "metadata": {},
   "outputs": [],
   "source": [
    "basket=(data[data['Country']=='United Kingdom']\n",
    "        .groupby(['BillNo','Itemname'])['Quantity']\n",
    "        .sum().unstack().reset_index().fillna(0)\n",
    "        .set_index('BillNo'))"
   ]
  },
  {
   "cell_type": "code",
   "execution_count": 12,
   "id": "d1f8e061",
   "metadata": {},
   "outputs": [
    {
     "data": {
      "text/html": [
       "<div>\n",
       "<style scoped>\n",
       "    .dataframe tbody tr th:only-of-type {\n",
       "        vertical-align: middle;\n",
       "    }\n",
       "\n",
       "    .dataframe tbody tr th {\n",
       "        vertical-align: top;\n",
       "    }\n",
       "\n",
       "    .dataframe thead th {\n",
       "        text-align: right;\n",
       "    }\n",
       "</style>\n",
       "<table border=\"1\" class=\"dataframe\">\n",
       "  <thead>\n",
       "    <tr style=\"text-align: right;\">\n",
       "      <th>Itemname</th>\n",
       "      <th>10 COLOUR SPACEBOY PEN</th>\n",
       "      <th>12 COLOURED PARTY BALLOONS</th>\n",
       "      <th>12 IVORY ROSE PEG PLACE SETTINGS</th>\n",
       "      <th>12 MESSAGE CARDS WITH ENVELOPES</th>\n",
       "      <th>12 PENCIL SMALL TUBE WOODLAND</th>\n",
       "      <th>12 PENCILS SMALL TUBE RED RETROSPOT</th>\n",
       "      <th>12 PENCILS SMALL TUBE SKULL</th>\n",
       "      <th>12 PENCILS TALL TUBE POSY</th>\n",
       "      <th>12 PENCILS TALL TUBE RED RETROSPOT</th>\n",
       "      <th>12 PENCILS TALL TUBE SKULLS</th>\n",
       "      <th>...</th>\n",
       "      <th>YULETIDE IMAGES GIFT WRAP SET</th>\n",
       "      <th>ZINC  HEART T-LIGHT HOLDER</th>\n",
       "      <th>ZINC  STAR T-LIGHT HOLDER</th>\n",
       "      <th>ZINC BOX SIGN HOME</th>\n",
       "      <th>ZINC FOLKART SLEIGH BELLS</th>\n",
       "      <th>ZINC HEART LATTICE T-LIGHT HOLDER</th>\n",
       "      <th>ZINC METAL HEART DECORATION</th>\n",
       "      <th>ZINC T-LIGHT HOLDER STAR LARGE</th>\n",
       "      <th>ZINC T-LIGHT HOLDER STARS SMALL</th>\n",
       "      <th>ZINC WILLIE WINKIE  CANDLE STICK</th>\n",
       "    </tr>\n",
       "    <tr>\n",
       "      <th>CustomerID</th>\n",
       "      <th></th>\n",
       "      <th></th>\n",
       "      <th></th>\n",
       "      <th></th>\n",
       "      <th></th>\n",
       "      <th></th>\n",
       "      <th></th>\n",
       "      <th></th>\n",
       "      <th></th>\n",
       "      <th></th>\n",
       "      <th></th>\n",
       "      <th></th>\n",
       "      <th></th>\n",
       "      <th></th>\n",
       "      <th></th>\n",
       "      <th></th>\n",
       "      <th></th>\n",
       "      <th></th>\n",
       "      <th></th>\n",
       "      <th></th>\n",
       "      <th></th>\n",
       "    </tr>\n",
       "  </thead>\n",
       "  <tbody>\n",
       "    <tr>\n",
       "      <th>12426.0</th>\n",
       "      <td>0</td>\n",
       "      <td>0</td>\n",
       "      <td>0</td>\n",
       "      <td>0</td>\n",
       "      <td>0</td>\n",
       "      <td>0</td>\n",
       "      <td>0</td>\n",
       "      <td>0</td>\n",
       "      <td>0</td>\n",
       "      <td>0</td>\n",
       "      <td>...</td>\n",
       "      <td>0</td>\n",
       "      <td>0</td>\n",
       "      <td>0</td>\n",
       "      <td>0</td>\n",
       "      <td>0</td>\n",
       "      <td>0</td>\n",
       "      <td>0</td>\n",
       "      <td>0</td>\n",
       "      <td>0</td>\n",
       "      <td>0</td>\n",
       "    </tr>\n",
       "    <tr>\n",
       "      <th>12427.0</th>\n",
       "      <td>0</td>\n",
       "      <td>0</td>\n",
       "      <td>0</td>\n",
       "      <td>0</td>\n",
       "      <td>0</td>\n",
       "      <td>0</td>\n",
       "      <td>0</td>\n",
       "      <td>0</td>\n",
       "      <td>0</td>\n",
       "      <td>0</td>\n",
       "      <td>...</td>\n",
       "      <td>0</td>\n",
       "      <td>0</td>\n",
       "      <td>0</td>\n",
       "      <td>0</td>\n",
       "      <td>0</td>\n",
       "      <td>0</td>\n",
       "      <td>0</td>\n",
       "      <td>0</td>\n",
       "      <td>0</td>\n",
       "      <td>0</td>\n",
       "    </tr>\n",
       "    <tr>\n",
       "      <th>12468.0</th>\n",
       "      <td>0</td>\n",
       "      <td>555523</td>\n",
       "      <td>0</td>\n",
       "      <td>0</td>\n",
       "      <td>0</td>\n",
       "      <td>0</td>\n",
       "      <td>0</td>\n",
       "      <td>0</td>\n",
       "      <td>0</td>\n",
       "      <td>0</td>\n",
       "      <td>...</td>\n",
       "      <td>0</td>\n",
       "      <td>0</td>\n",
       "      <td>0</td>\n",
       "      <td>0</td>\n",
       "      <td>0</td>\n",
       "      <td>0</td>\n",
       "      <td>0</td>\n",
       "      <td>0</td>\n",
       "      <td>0</td>\n",
       "      <td>0</td>\n",
       "    </tr>\n",
       "    <tr>\n",
       "      <th>12471.0</th>\n",
       "      <td>0</td>\n",
       "      <td>0</td>\n",
       "      <td>0</td>\n",
       "      <td>0</td>\n",
       "      <td>0</td>\n",
       "      <td>0</td>\n",
       "      <td>0</td>\n",
       "      <td>0</td>\n",
       "      <td>0</td>\n",
       "      <td>0</td>\n",
       "      <td>...</td>\n",
       "      <td>0</td>\n",
       "      <td>0</td>\n",
       "      <td>0</td>\n",
       "      <td>0</td>\n",
       "      <td>0</td>\n",
       "      <td>0</td>\n",
       "      <td>0</td>\n",
       "      <td>0</td>\n",
       "      <td>0</td>\n",
       "      <td>0</td>\n",
       "    </tr>\n",
       "    <tr>\n",
       "      <th>12472.0</th>\n",
       "      <td>0</td>\n",
       "      <td>0</td>\n",
       "      <td>0</td>\n",
       "      <td>0</td>\n",
       "      <td>0</td>\n",
       "      <td>0</td>\n",
       "      <td>0</td>\n",
       "      <td>0</td>\n",
       "      <td>0</td>\n",
       "      <td>0</td>\n",
       "      <td>...</td>\n",
       "      <td>0</td>\n",
       "      <td>0</td>\n",
       "      <td>0</td>\n",
       "      <td>0</td>\n",
       "      <td>0</td>\n",
       "      <td>0</td>\n",
       "      <td>0</td>\n",
       "      <td>0</td>\n",
       "      <td>0</td>\n",
       "      <td>0</td>\n",
       "    </tr>\n",
       "  </tbody>\n",
       "</table>\n",
       "<p>5 rows × 1695 columns</p>\n",
       "</div>"
      ],
      "text/plain": [
       "Itemname   10 COLOUR SPACEBOY PEN 12 COLOURED PARTY BALLOONS  \\\n",
       "CustomerID                                                     \n",
       "12426.0                         0                          0   \n",
       "12427.0                         0                          0   \n",
       "12468.0                         0                     555523   \n",
       "12471.0                         0                          0   \n",
       "12472.0                         0                          0   \n",
       "\n",
       "Itemname   12 IVORY ROSE PEG PLACE SETTINGS 12 MESSAGE CARDS WITH ENVELOPES  \\\n",
       "CustomerID                                                                    \n",
       "12426.0                                   0                               0   \n",
       "12427.0                                   0                               0   \n",
       "12468.0                                   0                               0   \n",
       "12471.0                                   0                               0   \n",
       "12472.0                                   0                               0   \n",
       "\n",
       "Itemname   12 PENCIL SMALL TUBE WOODLAND 12 PENCILS SMALL TUBE RED RETROSPOT  \\\n",
       "CustomerID                                                                     \n",
       "12426.0                                0                                   0   \n",
       "12427.0                                0                                   0   \n",
       "12468.0                                0                                   0   \n",
       "12471.0                                0                                   0   \n",
       "12472.0                                0                                   0   \n",
       "\n",
       "Itemname   12 PENCILS SMALL TUBE SKULL 12 PENCILS TALL TUBE POSY  \\\n",
       "CustomerID                                                         \n",
       "12426.0                              0                         0   \n",
       "12427.0                              0                         0   \n",
       "12468.0                              0                         0   \n",
       "12471.0                              0                         0   \n",
       "12472.0                              0                         0   \n",
       "\n",
       "Itemname   12 PENCILS TALL TUBE RED RETROSPOT 12 PENCILS TALL TUBE SKULLS  \\\n",
       "CustomerID                                                                  \n",
       "12426.0                                     0                           0   \n",
       "12427.0                                     0                           0   \n",
       "12468.0                                     0                           0   \n",
       "12471.0                                     0                           0   \n",
       "12472.0                                     0                           0   \n",
       "\n",
       "Itemname    ... YULETIDE IMAGES GIFT WRAP SET ZINC  HEART T-LIGHT HOLDER  \\\n",
       "CustomerID  ...                                                            \n",
       "12426.0     ...                             0                          0   \n",
       "12427.0     ...                             0                          0   \n",
       "12468.0     ...                             0                          0   \n",
       "12471.0     ...                             0                          0   \n",
       "12472.0     ...                             0                          0   \n",
       "\n",
       "Itemname   ZINC  STAR T-LIGHT HOLDER ZINC BOX SIGN HOME  \\\n",
       "CustomerID                                                \n",
       "12426.0                            0                  0   \n",
       "12427.0                            0                  0   \n",
       "12468.0                            0                  0   \n",
       "12471.0                            0                  0   \n",
       "12472.0                            0                  0   \n",
       "\n",
       "Itemname   ZINC FOLKART SLEIGH BELLS ZINC HEART LATTICE T-LIGHT HOLDER  \\\n",
       "CustomerID                                                               \n",
       "12426.0                            0                                 0   \n",
       "12427.0                            0                                 0   \n",
       "12468.0                            0                                 0   \n",
       "12471.0                            0                                 0   \n",
       "12472.0                            0                                 0   \n",
       "\n",
       "Itemname   ZINC METAL HEART DECORATION ZINC T-LIGHT HOLDER STAR LARGE  \\\n",
       "CustomerID                                                              \n",
       "12426.0                              0                              0   \n",
       "12427.0                              0                              0   \n",
       "12468.0                              0                              0   \n",
       "12471.0                              0                              0   \n",
       "12472.0                              0                              0   \n",
       "\n",
       "Itemname   ZINC T-LIGHT HOLDER STARS SMALL ZINC WILLIE WINKIE  CANDLE STICK  \n",
       "CustomerID                                                                   \n",
       "12426.0                                  0                                0  \n",
       "12427.0                                  0                                0  \n",
       "12468.0                                  0                                0  \n",
       "12471.0                                  0                                0  \n",
       "12472.0                                  0                                0  \n",
       "\n",
       "[5 rows x 1695 columns]"
      ]
     },
     "execution_count": 12,
     "metadata": {},
     "output_type": "execute_result"
    }
   ],
   "source": [
    "# Viewing basket\n",
    "mybasket.head()"
   ]
  },
  {
   "cell_type": "code",
   "execution_count": 27,
   "id": "53e1439b",
   "metadata": {},
   "outputs": [],
   "source": [
    "# Define the function to encode units\n",
    "def my_encode_units(x):\n",
    "    # Check if x is numeric\n",
    "    if isinstance(x, (int, float)):\n",
    "        # Encode units based on the value of x\n",
    "        if x <= 0:\n",
    "            return 0\n",
    "        if x >= 1:\n",
    "            return 1\n",
    "    # Return 0 for non-numeric values\n",
    "    return 0\n",
    "\n",
    "# Apply the my_encode_units function using applymap\n",
    "mybasket_sets = mybasket.applymap(my_encode_units)"
   ]
  },
  {
   "cell_type": "code",
   "execution_count": 72,
   "id": "aea1465f",
   "metadata": {},
   "outputs": [],
   "source": [
    "data['Itemname']=data['Itemname'].str.strip()\n",
    "data['BillNo']=data['BillNo'].astype('str')"
   ]
  },
  {
   "cell_type": "code",
   "execution_count": 69,
   "id": "f59a6ba7",
   "metadata": {},
   "outputs": [
    {
     "name": "stdout",
     "output_type": "stream",
     "text": [
      "Index(['10 COLOUR SPACEBOY PEN', '12 COLOURED PARTY BALLOONS',\n",
      "       '12 IVORY ROSE PEG PLACE SETTINGS', '12 MESSAGE CARDS WITH ENVELOPES',\n",
      "       '12 PENCIL SMALL TUBE WOODLAND', '12 PENCILS SMALL TUBE RED RETROSPOT',\n",
      "       '12 PENCILS SMALL TUBE SKULL', '12 PENCILS TALL TUBE POSY',\n",
      "       '12 PENCILS TALL TUBE RED RETROSPOT', '12 PENCILS TALL TUBE SKULLS',\n",
      "       ...\n",
      "       'YULETIDE IMAGES GIFT WRAP SET', 'ZINC  HEART T-LIGHT HOLDER',\n",
      "       'ZINC  STAR T-LIGHT HOLDER', 'ZINC BOX SIGN HOME',\n",
      "       'ZINC FOLKART SLEIGH BELLS', 'ZINC HEART LATTICE T-LIGHT HOLDER',\n",
      "       'ZINC METAL HEART DECORATION', 'ZINC T-LIGHT HOLDER STAR LARGE',\n",
      "       'ZINC T-LIGHT HOLDER STARS SMALL', 'ZINC WILLIE WINKIE  CANDLE STICK'],\n",
      "      dtype='object', name='Itemname', length=1695)\n"
     ]
    }
   ],
   "source": [
    "# Verify column names in Data\n",
    "print(mybasket_sets.columns)\n",
    "\n",
    "# Drop the 'POSTAGE' column if it exists\n",
    "if 'POSTAGE' in mybasket_sets.columns:\n",
    "    mybasket_sets.drop('POSTAGE', inplace=True, axis=1)\n",
    "else:\n",
    "    print(\"Column 'POSTAGE' does not exist in the Data.\")"
   ]
  },
  {
   "cell_type": "code",
   "execution_count": 91,
   "id": "c265c8cb",
   "metadata": {},
   "outputs": [],
   "source": [
    "# Generate frequent itemsets with a lower minimum support threshold\n",
    "my_frequent_itemsets = apriori(mybasket_sets, min_support=0.0000000001, use_colnames=True)"
   ]
  },
  {
   "cell_type": "code",
   "execution_count": 92,
   "id": "ad8e30fc",
   "metadata": {},
   "outputs": [
    {
     "data": {
      "text/plain": [
       "(0, 2)"
      ]
     },
     "execution_count": 92,
     "metadata": {},
     "output_type": "execute_result"
    }
   ],
   "source": [
    "my_frequent_itemsets.shape"
   ]
  },
  {
   "cell_type": "code",
   "execution_count": 93,
   "id": "65dcaa23",
   "metadata": {},
   "outputs": [
    {
     "ename": "ValueError",
     "evalue": "The input DataFrame `df` containing the frequent itemsets is empty.",
     "output_type": "error",
     "traceback": [
      "\u001b[1;31m---------------------------------------------------------------------------\u001b[0m",
      "\u001b[1;31mValueError\u001b[0m                                Traceback (most recent call last)",
      "Cell \u001b[1;32mIn[93], line 2\u001b[0m\n\u001b[0;32m      1\u001b[0m \u001b[38;5;66;03m# generating rules\u001b[39;00m\n\u001b[1;32m----> 2\u001b[0m my_rules \u001b[38;5;241m=\u001b[39m association_rules(my_frequent_itemsets,metric \u001b[38;5;241m=\u001b[39m \u001b[38;5;124m\"\u001b[39m\u001b[38;5;124mlift\u001b[39m\u001b[38;5;124m\"\u001b[39m, min_threshold \u001b[38;5;241m=\u001b[39m \u001b[38;5;241m1\u001b[39m)\n",
      "File \u001b[1;32mC:\\Anaconda\\Lib\\site-packages\\mlxtend\\frequent_patterns\\association_rules.py:83\u001b[0m, in \u001b[0;36massociation_rules\u001b[1;34m(df, metric, min_threshold, support_only)\u001b[0m\n\u001b[0;32m     18\u001b[0m \u001b[38;5;250m\u001b[39m\u001b[38;5;124;03m\"\"\"Generates a DataFrame of association rules including the\u001b[39;00m\n\u001b[0;32m     19\u001b[0m \u001b[38;5;124;03mmetrics 'score', 'confidence', and 'lift'\u001b[39;00m\n\u001b[0;32m     20\u001b[0m \n\u001b[1;32m   (...)\u001b[0m\n\u001b[0;32m     80\u001b[0m \n\u001b[0;32m     81\u001b[0m \u001b[38;5;124;03m\"\"\"\u001b[39;00m\n\u001b[0;32m     82\u001b[0m \u001b[38;5;28;01mif\u001b[39;00m \u001b[38;5;129;01mnot\u001b[39;00m df\u001b[38;5;241m.\u001b[39mshape[\u001b[38;5;241m0\u001b[39m]:\n\u001b[1;32m---> 83\u001b[0m     \u001b[38;5;28;01mraise\u001b[39;00m \u001b[38;5;167;01mValueError\u001b[39;00m(\n\u001b[0;32m     84\u001b[0m         \u001b[38;5;124m\"\u001b[39m\u001b[38;5;124mThe input DataFrame `df` containing \u001b[39m\u001b[38;5;124m\"\u001b[39m \u001b[38;5;124m\"\u001b[39m\u001b[38;5;124mthe frequent itemsets is empty.\u001b[39m\u001b[38;5;124m\"\u001b[39m\n\u001b[0;32m     85\u001b[0m     )\n\u001b[0;32m     87\u001b[0m \u001b[38;5;66;03m# check for mandatory columns\u001b[39;00m\n\u001b[0;32m     88\u001b[0m \u001b[38;5;28;01mif\u001b[39;00m \u001b[38;5;129;01mnot\u001b[39;00m \u001b[38;5;28mall\u001b[39m(col \u001b[38;5;129;01min\u001b[39;00m df\u001b[38;5;241m.\u001b[39mcolumns \u001b[38;5;28;01mfor\u001b[39;00m col \u001b[38;5;129;01min\u001b[39;00m [\u001b[38;5;124m\"\u001b[39m\u001b[38;5;124msupport\u001b[39m\u001b[38;5;124m\"\u001b[39m, \u001b[38;5;124m\"\u001b[39m\u001b[38;5;124mitemsets\u001b[39m\u001b[38;5;124m\"\u001b[39m]):\n",
      "\u001b[1;31mValueError\u001b[0m: The input DataFrame `df` containing the frequent itemsets is empty."
     ]
    }
   ],
   "source": [
    "# generating rules\n",
    "my_rules = association_rules(my_frequent_itemsets,metric = \"lift\", min_threshold = 1)"
   ]
  },
  {
   "cell_type": "code",
   "execution_count": null,
   "id": "9c66e07c",
   "metadata": {
    "execution": {
     "iopub.execute_input": "2024-04-04T06:23:40.314190Z",
     "iopub.status.busy": "2024-04-04T06:23:40.313314Z",
     "iopub.status.idle": "2024-04-04T06:36:21.003127Z",
     "shell.execute_reply": "2024-04-04T06:36:21.001848Z"
    },
    "papermill": {
     "duration": 760.708128,
     "end_time": "2024-04-04T06:36:21.006213",
     "exception": false,
     "start_time": "2024-04-04T06:23:40.298085",
     "status": "completed"
    },
    "tags": []
   },
   "outputs": [],
   "source": [
    "results=list(rules)"
   ]
  },
  {
   "cell_type": "code",
   "execution_count": 11,
   "id": "57e19868",
   "metadata": {},
   "outputs": [],
   "source": [
    "# Seprating BillNo from Germany\n",
    "mybasket = (data[data['Country']==\"Germany\"]\n",
    "           .groupby(['CustomerID','Itemname'])['BillNo']\n",
    "           .sum().unstack().reset_index().fillna(0)\n",
    "           .set_index('CustomerID'))"
   ]
  },
  {
   "cell_type": "code",
   "execution_count": 82,
   "id": "f5606de8",
   "metadata": {
    "execution": {
     "iopub.execute_input": "2024-04-04T06:23:40.276857Z",
     "iopub.status.busy": "2024-04-04T06:23:40.276477Z",
     "iopub.status.idle": "2024-04-04T06:23:40.281422Z",
     "shell.execute_reply": "2024-04-04T06:23:40.280359Z"
    },
    "papermill": {
     "duration": 0.02294,
     "end_time": "2024-04-04T06:23:40.283843",
     "exception": false,
     "start_time": "2024-04-04T06:23:40.260903",
     "status": "completed"
    },
    "tags": []
   },
   "outputs": [
    {
     "name": "stdout",
     "output_type": "stream",
     "text": [
      "Itemname    10 COLOUR SPACEBOY PEN  12 COLOURED PARTY BALLOONS  \\\n",
      "CustomerID                                                       \n",
      "12426.0                          0                           0   \n",
      "12427.0                          0                           0   \n",
      "12468.0                          0                           0   \n",
      "12471.0                          0                           0   \n",
      "12472.0                          0                           0   \n",
      "...                            ...                         ...   \n",
      "13814.0                          0                           0   \n",
      "13815.0                          0                           0   \n",
      "13816.0                          0                           0   \n",
      "13817.0                          0                           0   \n",
      "14335.0                          0                           0   \n",
      "\n",
      "Itemname    12 IVORY ROSE PEG PLACE SETTINGS  12 MESSAGE CARDS WITH ENVELOPES  \\\n",
      "CustomerID                                                                      \n",
      "12426.0                                    0                                0   \n",
      "12427.0                                    0                                0   \n",
      "12468.0                                    0                                0   \n",
      "12471.0                                    0                                0   \n",
      "12472.0                                    0                                0   \n",
      "...                                      ...                              ...   \n",
      "13814.0                                    0                                0   \n",
      "13815.0                                    0                                0   \n",
      "13816.0                                    0                                0   \n",
      "13817.0                                    0                                0   \n",
      "14335.0                                    0                                0   \n",
      "\n",
      "Itemname    12 PENCIL SMALL TUBE WOODLAND  \\\n",
      "CustomerID                                  \n",
      "12426.0                                 0   \n",
      "12427.0                                 0   \n",
      "12468.0                                 0   \n",
      "12471.0                                 0   \n",
      "12472.0                                 0   \n",
      "...                                   ...   \n",
      "13814.0                                 0   \n",
      "13815.0                                 0   \n",
      "13816.0                                 0   \n",
      "13817.0                                 0   \n",
      "14335.0                                 0   \n",
      "\n",
      "Itemname    12 PENCILS SMALL TUBE RED RETROSPOT  12 PENCILS SMALL TUBE SKULL  \\\n",
      "CustomerID                                                                     \n",
      "12426.0                                       0                            0   \n",
      "12427.0                                       0                            0   \n",
      "12468.0                                       0                            0   \n",
      "12471.0                                       0                            0   \n",
      "12472.0                                       0                            0   \n",
      "...                                         ...                          ...   \n",
      "13814.0                                       0                            0   \n",
      "13815.0                                       0                            0   \n",
      "13816.0                                       0                            0   \n",
      "13817.0                                       0                            0   \n",
      "14335.0                                       0                            0   \n",
      "\n",
      "Itemname    12 PENCILS TALL TUBE POSY  12 PENCILS TALL TUBE RED RETROSPOT  \\\n",
      "CustomerID                                                                  \n",
      "12426.0                             0                                   0   \n",
      "12427.0                             0                                   0   \n",
      "12468.0                             0                                   0   \n",
      "12471.0                             0                                   0   \n",
      "12472.0                             0                                   0   \n",
      "...                               ...                                 ...   \n",
      "13814.0                             0                                   0   \n",
      "13815.0                             0                                   0   \n",
      "13816.0                             0                                   0   \n",
      "13817.0                             0                                   0   \n",
      "14335.0                             0                                   0   \n",
      "\n",
      "Itemname    12 PENCILS TALL TUBE SKULLS  ...  YULETIDE IMAGES GIFT WRAP SET  \\\n",
      "CustomerID                               ...                                  \n",
      "12426.0                               0  ...                              0   \n",
      "12427.0                               0  ...                              0   \n",
      "12468.0                               0  ...                              0   \n",
      "12471.0                               0  ...                              0   \n",
      "12472.0                               0  ...                              0   \n",
      "...                                 ...  ...                            ...   \n",
      "13814.0                               0  ...                              0   \n",
      "13815.0                               0  ...                              0   \n",
      "13816.0                               0  ...                              0   \n",
      "13817.0                               0  ...                              0   \n",
      "14335.0                               0  ...                              0   \n",
      "\n",
      "Itemname    ZINC  HEART T-LIGHT HOLDER  ZINC  STAR T-LIGHT HOLDER  \\\n",
      "CustomerID                                                          \n",
      "12426.0                              0                          0   \n",
      "12427.0                              0                          0   \n",
      "12468.0                              0                          0   \n",
      "12471.0                              0                          0   \n",
      "12472.0                              0                          0   \n",
      "...                                ...                        ...   \n",
      "13814.0                              0                          0   \n",
      "13815.0                              0                          0   \n",
      "13816.0                              0                          0   \n",
      "13817.0                              0                          0   \n",
      "14335.0                              0                          0   \n",
      "\n",
      "Itemname    ZINC BOX SIGN HOME  ZINC FOLKART SLEIGH BELLS  \\\n",
      "CustomerID                                                  \n",
      "12426.0                      0                          0   \n",
      "12427.0                      0                          0   \n",
      "12468.0                      0                          0   \n",
      "12471.0                      0                          0   \n",
      "12472.0                      0                          0   \n",
      "...                        ...                        ...   \n",
      "13814.0                      0                          0   \n",
      "13815.0                      0                          0   \n",
      "13816.0                      0                          0   \n",
      "13817.0                      0                          0   \n",
      "14335.0                      0                          0   \n",
      "\n",
      "Itemname    ZINC HEART LATTICE T-LIGHT HOLDER  ZINC METAL HEART DECORATION  \\\n",
      "CustomerID                                                                   \n",
      "12426.0                                     0                            0   \n",
      "12427.0                                     0                            0   \n",
      "12468.0                                     0                            0   \n",
      "12471.0                                     0                            0   \n",
      "12472.0                                     0                            0   \n",
      "...                                       ...                          ...   \n",
      "13814.0                                     0                            0   \n",
      "13815.0                                     0                            0   \n",
      "13816.0                                     0                            0   \n",
      "13817.0                                     0                            0   \n",
      "14335.0                                     0                            0   \n",
      "\n",
      "Itemname    ZINC T-LIGHT HOLDER STAR LARGE  ZINC T-LIGHT HOLDER STARS SMALL  \\\n",
      "CustomerID                                                                    \n",
      "12426.0                                  0                                0   \n",
      "12427.0                                  0                                0   \n",
      "12468.0                                  0                                0   \n",
      "12471.0                                  0                                0   \n",
      "12472.0                                  0                                0   \n",
      "...                                    ...                              ...   \n",
      "13814.0                                  0                                0   \n",
      "13815.0                                  0                                0   \n",
      "13816.0                                  0                                0   \n",
      "13817.0                                  0                                0   \n",
      "14335.0                                  0                                0   \n",
      "\n",
      "Itemname    ZINC WILLIE WINKIE  CANDLE STICK  \n",
      "CustomerID                                    \n",
      "12426.0                                    0  \n",
      "12427.0                                    0  \n",
      "12468.0                                    0  \n",
      "12471.0                                    0  \n",
      "12472.0                                    0  \n",
      "...                                      ...  \n",
      "13814.0                                    0  \n",
      "13815.0                                    0  \n",
      "13816.0                                    0  \n",
      "13817.0                                    0  \n",
      "14335.0                                    0  \n",
      "\n",
      "[94 rows x 1694 columns]\n"
     ]
    },
    {
     "data": {
      "text/html": [
       "<div>\n",
       "<style scoped>\n",
       "    .dataframe tbody tr th:only-of-type {\n",
       "        vertical-align: middle;\n",
       "    }\n",
       "\n",
       "    .dataframe tbody tr th {\n",
       "        vertical-align: top;\n",
       "    }\n",
       "\n",
       "    .dataframe thead th {\n",
       "        text-align: right;\n",
       "    }\n",
       "</style>\n",
       "<table border=\"1\" class=\"dataframe\">\n",
       "  <thead>\n",
       "    <tr style=\"text-align: right;\">\n",
       "      <th>Itemname</th>\n",
       "      <th>10 COLOUR SPACEBOY PEN</th>\n",
       "      <th>12 COLOURED PARTY BALLOONS</th>\n",
       "      <th>12 IVORY ROSE PEG PLACE SETTINGS</th>\n",
       "      <th>12 MESSAGE CARDS WITH ENVELOPES</th>\n",
       "      <th>12 PENCIL SMALL TUBE WOODLAND</th>\n",
       "      <th>12 PENCILS SMALL TUBE RED RETROSPOT</th>\n",
       "      <th>12 PENCILS SMALL TUBE SKULL</th>\n",
       "      <th>12 PENCILS TALL TUBE POSY</th>\n",
       "      <th>12 PENCILS TALL TUBE RED RETROSPOT</th>\n",
       "      <th>12 PENCILS TALL TUBE SKULLS</th>\n",
       "      <th>...</th>\n",
       "      <th>YULETIDE IMAGES GIFT WRAP SET</th>\n",
       "      <th>ZINC  HEART T-LIGHT HOLDER</th>\n",
       "      <th>ZINC  STAR T-LIGHT HOLDER</th>\n",
       "      <th>ZINC BOX SIGN HOME</th>\n",
       "      <th>ZINC FOLKART SLEIGH BELLS</th>\n",
       "      <th>ZINC HEART LATTICE T-LIGHT HOLDER</th>\n",
       "      <th>ZINC METAL HEART DECORATION</th>\n",
       "      <th>ZINC T-LIGHT HOLDER STAR LARGE</th>\n",
       "      <th>ZINC T-LIGHT HOLDER STARS SMALL</th>\n",
       "      <th>ZINC WILLIE WINKIE  CANDLE STICK</th>\n",
       "    </tr>\n",
       "    <tr>\n",
       "      <th>CustomerID</th>\n",
       "      <th></th>\n",
       "      <th></th>\n",
       "      <th></th>\n",
       "      <th></th>\n",
       "      <th></th>\n",
       "      <th></th>\n",
       "      <th></th>\n",
       "      <th></th>\n",
       "      <th></th>\n",
       "      <th></th>\n",
       "      <th></th>\n",
       "      <th></th>\n",
       "      <th></th>\n",
       "      <th></th>\n",
       "      <th></th>\n",
       "      <th></th>\n",
       "      <th></th>\n",
       "      <th></th>\n",
       "      <th></th>\n",
       "      <th></th>\n",
       "      <th></th>\n",
       "    </tr>\n",
       "  </thead>\n",
       "  <tbody>\n",
       "    <tr>\n",
       "      <th>12426.0</th>\n",
       "      <td>0</td>\n",
       "      <td>0</td>\n",
       "      <td>0</td>\n",
       "      <td>0</td>\n",
       "      <td>0</td>\n",
       "      <td>0</td>\n",
       "      <td>0</td>\n",
       "      <td>0</td>\n",
       "      <td>0</td>\n",
       "      <td>0</td>\n",
       "      <td>...</td>\n",
       "      <td>0</td>\n",
       "      <td>0</td>\n",
       "      <td>0</td>\n",
       "      <td>0</td>\n",
       "      <td>0</td>\n",
       "      <td>0</td>\n",
       "      <td>0</td>\n",
       "      <td>0</td>\n",
       "      <td>0</td>\n",
       "      <td>0</td>\n",
       "    </tr>\n",
       "    <tr>\n",
       "      <th>12427.0</th>\n",
       "      <td>0</td>\n",
       "      <td>0</td>\n",
       "      <td>0</td>\n",
       "      <td>0</td>\n",
       "      <td>0</td>\n",
       "      <td>0</td>\n",
       "      <td>0</td>\n",
       "      <td>0</td>\n",
       "      <td>0</td>\n",
       "      <td>0</td>\n",
       "      <td>...</td>\n",
       "      <td>0</td>\n",
       "      <td>0</td>\n",
       "      <td>0</td>\n",
       "      <td>0</td>\n",
       "      <td>0</td>\n",
       "      <td>0</td>\n",
       "      <td>0</td>\n",
       "      <td>0</td>\n",
       "      <td>0</td>\n",
       "      <td>0</td>\n",
       "    </tr>\n",
       "    <tr>\n",
       "      <th>12468.0</th>\n",
       "      <td>0</td>\n",
       "      <td>0</td>\n",
       "      <td>0</td>\n",
       "      <td>0</td>\n",
       "      <td>0</td>\n",
       "      <td>0</td>\n",
       "      <td>0</td>\n",
       "      <td>0</td>\n",
       "      <td>0</td>\n",
       "      <td>0</td>\n",
       "      <td>...</td>\n",
       "      <td>0</td>\n",
       "      <td>0</td>\n",
       "      <td>0</td>\n",
       "      <td>0</td>\n",
       "      <td>0</td>\n",
       "      <td>0</td>\n",
       "      <td>0</td>\n",
       "      <td>0</td>\n",
       "      <td>0</td>\n",
       "      <td>0</td>\n",
       "    </tr>\n",
       "    <tr>\n",
       "      <th>12471.0</th>\n",
       "      <td>0</td>\n",
       "      <td>0</td>\n",
       "      <td>0</td>\n",
       "      <td>0</td>\n",
       "      <td>0</td>\n",
       "      <td>0</td>\n",
       "      <td>0</td>\n",
       "      <td>0</td>\n",
       "      <td>0</td>\n",
       "      <td>0</td>\n",
       "      <td>...</td>\n",
       "      <td>0</td>\n",
       "      <td>0</td>\n",
       "      <td>0</td>\n",
       "      <td>0</td>\n",
       "      <td>0</td>\n",
       "      <td>0</td>\n",
       "      <td>0</td>\n",
       "      <td>0</td>\n",
       "      <td>0</td>\n",
       "      <td>0</td>\n",
       "    </tr>\n",
       "    <tr>\n",
       "      <th>12472.0</th>\n",
       "      <td>0</td>\n",
       "      <td>0</td>\n",
       "      <td>0</td>\n",
       "      <td>0</td>\n",
       "      <td>0</td>\n",
       "      <td>0</td>\n",
       "      <td>0</td>\n",
       "      <td>0</td>\n",
       "      <td>0</td>\n",
       "      <td>0</td>\n",
       "      <td>...</td>\n",
       "      <td>0</td>\n",
       "      <td>0</td>\n",
       "      <td>0</td>\n",
       "      <td>0</td>\n",
       "      <td>0</td>\n",
       "      <td>0</td>\n",
       "      <td>0</td>\n",
       "      <td>0</td>\n",
       "      <td>0</td>\n",
       "      <td>0</td>\n",
       "    </tr>\n",
       "    <tr>\n",
       "      <th>...</th>\n",
       "      <td>...</td>\n",
       "      <td>...</td>\n",
       "      <td>...</td>\n",
       "      <td>...</td>\n",
       "      <td>...</td>\n",
       "      <td>...</td>\n",
       "      <td>...</td>\n",
       "      <td>...</td>\n",
       "      <td>...</td>\n",
       "      <td>...</td>\n",
       "      <td>...</td>\n",
       "      <td>...</td>\n",
       "      <td>...</td>\n",
       "      <td>...</td>\n",
       "      <td>...</td>\n",
       "      <td>...</td>\n",
       "      <td>...</td>\n",
       "      <td>...</td>\n",
       "      <td>...</td>\n",
       "      <td>...</td>\n",
       "      <td>...</td>\n",
       "    </tr>\n",
       "    <tr>\n",
       "      <th>13814.0</th>\n",
       "      <td>0</td>\n",
       "      <td>0</td>\n",
       "      <td>0</td>\n",
       "      <td>0</td>\n",
       "      <td>0</td>\n",
       "      <td>0</td>\n",
       "      <td>0</td>\n",
       "      <td>0</td>\n",
       "      <td>0</td>\n",
       "      <td>0</td>\n",
       "      <td>...</td>\n",
       "      <td>0</td>\n",
       "      <td>0</td>\n",
       "      <td>0</td>\n",
       "      <td>0</td>\n",
       "      <td>0</td>\n",
       "      <td>0</td>\n",
       "      <td>0</td>\n",
       "      <td>0</td>\n",
       "      <td>0</td>\n",
       "      <td>0</td>\n",
       "    </tr>\n",
       "    <tr>\n",
       "      <th>13815.0</th>\n",
       "      <td>0</td>\n",
       "      <td>0</td>\n",
       "      <td>0</td>\n",
       "      <td>0</td>\n",
       "      <td>0</td>\n",
       "      <td>0</td>\n",
       "      <td>0</td>\n",
       "      <td>0</td>\n",
       "      <td>0</td>\n",
       "      <td>0</td>\n",
       "      <td>...</td>\n",
       "      <td>0</td>\n",
       "      <td>0</td>\n",
       "      <td>0</td>\n",
       "      <td>0</td>\n",
       "      <td>0</td>\n",
       "      <td>0</td>\n",
       "      <td>0</td>\n",
       "      <td>0</td>\n",
       "      <td>0</td>\n",
       "      <td>0</td>\n",
       "    </tr>\n",
       "    <tr>\n",
       "      <th>13816.0</th>\n",
       "      <td>0</td>\n",
       "      <td>0</td>\n",
       "      <td>0</td>\n",
       "      <td>0</td>\n",
       "      <td>0</td>\n",
       "      <td>0</td>\n",
       "      <td>0</td>\n",
       "      <td>0</td>\n",
       "      <td>0</td>\n",
       "      <td>0</td>\n",
       "      <td>...</td>\n",
       "      <td>0</td>\n",
       "      <td>0</td>\n",
       "      <td>0</td>\n",
       "      <td>0</td>\n",
       "      <td>0</td>\n",
       "      <td>0</td>\n",
       "      <td>0</td>\n",
       "      <td>0</td>\n",
       "      <td>0</td>\n",
       "      <td>0</td>\n",
       "    </tr>\n",
       "    <tr>\n",
       "      <th>13817.0</th>\n",
       "      <td>0</td>\n",
       "      <td>0</td>\n",
       "      <td>0</td>\n",
       "      <td>0</td>\n",
       "      <td>0</td>\n",
       "      <td>0</td>\n",
       "      <td>0</td>\n",
       "      <td>0</td>\n",
       "      <td>0</td>\n",
       "      <td>0</td>\n",
       "      <td>...</td>\n",
       "      <td>0</td>\n",
       "      <td>0</td>\n",
       "      <td>0</td>\n",
       "      <td>0</td>\n",
       "      <td>0</td>\n",
       "      <td>0</td>\n",
       "      <td>0</td>\n",
       "      <td>0</td>\n",
       "      <td>0</td>\n",
       "      <td>0</td>\n",
       "    </tr>\n",
       "    <tr>\n",
       "      <th>14335.0</th>\n",
       "      <td>0</td>\n",
       "      <td>0</td>\n",
       "      <td>0</td>\n",
       "      <td>0</td>\n",
       "      <td>0</td>\n",
       "      <td>0</td>\n",
       "      <td>0</td>\n",
       "      <td>0</td>\n",
       "      <td>0</td>\n",
       "      <td>0</td>\n",
       "      <td>...</td>\n",
       "      <td>0</td>\n",
       "      <td>0</td>\n",
       "      <td>0</td>\n",
       "      <td>0</td>\n",
       "      <td>0</td>\n",
       "      <td>0</td>\n",
       "      <td>0</td>\n",
       "      <td>0</td>\n",
       "      <td>0</td>\n",
       "      <td>0</td>\n",
       "    </tr>\n",
       "  </tbody>\n",
       "</table>\n",
       "<p>94 rows × 1694 columns</p>\n",
       "</div>"
      ],
      "text/plain": [
       "Itemname    10 COLOUR SPACEBOY PEN  12 COLOURED PARTY BALLOONS  \\\n",
       "CustomerID                                                       \n",
       "12426.0                          0                           0   \n",
       "12427.0                          0                           0   \n",
       "12468.0                          0                           0   \n",
       "12471.0                          0                           0   \n",
       "12472.0                          0                           0   \n",
       "...                            ...                         ...   \n",
       "13814.0                          0                           0   \n",
       "13815.0                          0                           0   \n",
       "13816.0                          0                           0   \n",
       "13817.0                          0                           0   \n",
       "14335.0                          0                           0   \n",
       "\n",
       "Itemname    12 IVORY ROSE PEG PLACE SETTINGS  12 MESSAGE CARDS WITH ENVELOPES  \\\n",
       "CustomerID                                                                      \n",
       "12426.0                                    0                                0   \n",
       "12427.0                                    0                                0   \n",
       "12468.0                                    0                                0   \n",
       "12471.0                                    0                                0   \n",
       "12472.0                                    0                                0   \n",
       "...                                      ...                              ...   \n",
       "13814.0                                    0                                0   \n",
       "13815.0                                    0                                0   \n",
       "13816.0                                    0                                0   \n",
       "13817.0                                    0                                0   \n",
       "14335.0                                    0                                0   \n",
       "\n",
       "Itemname    12 PENCIL SMALL TUBE WOODLAND  \\\n",
       "CustomerID                                  \n",
       "12426.0                                 0   \n",
       "12427.0                                 0   \n",
       "12468.0                                 0   \n",
       "12471.0                                 0   \n",
       "12472.0                                 0   \n",
       "...                                   ...   \n",
       "13814.0                                 0   \n",
       "13815.0                                 0   \n",
       "13816.0                                 0   \n",
       "13817.0                                 0   \n",
       "14335.0                                 0   \n",
       "\n",
       "Itemname    12 PENCILS SMALL TUBE RED RETROSPOT  12 PENCILS SMALL TUBE SKULL  \\\n",
       "CustomerID                                                                     \n",
       "12426.0                                       0                            0   \n",
       "12427.0                                       0                            0   \n",
       "12468.0                                       0                            0   \n",
       "12471.0                                       0                            0   \n",
       "12472.0                                       0                            0   \n",
       "...                                         ...                          ...   \n",
       "13814.0                                       0                            0   \n",
       "13815.0                                       0                            0   \n",
       "13816.0                                       0                            0   \n",
       "13817.0                                       0                            0   \n",
       "14335.0                                       0                            0   \n",
       "\n",
       "Itemname    12 PENCILS TALL TUBE POSY  12 PENCILS TALL TUBE RED RETROSPOT  \\\n",
       "CustomerID                                                                  \n",
       "12426.0                             0                                   0   \n",
       "12427.0                             0                                   0   \n",
       "12468.0                             0                                   0   \n",
       "12471.0                             0                                   0   \n",
       "12472.0                             0                                   0   \n",
       "...                               ...                                 ...   \n",
       "13814.0                             0                                   0   \n",
       "13815.0                             0                                   0   \n",
       "13816.0                             0                                   0   \n",
       "13817.0                             0                                   0   \n",
       "14335.0                             0                                   0   \n",
       "\n",
       "Itemname    12 PENCILS TALL TUBE SKULLS  ...  YULETIDE IMAGES GIFT WRAP SET  \\\n",
       "CustomerID                               ...                                  \n",
       "12426.0                               0  ...                              0   \n",
       "12427.0                               0  ...                              0   \n",
       "12468.0                               0  ...                              0   \n",
       "12471.0                               0  ...                              0   \n",
       "12472.0                               0  ...                              0   \n",
       "...                                 ...  ...                            ...   \n",
       "13814.0                               0  ...                              0   \n",
       "13815.0                               0  ...                              0   \n",
       "13816.0                               0  ...                              0   \n",
       "13817.0                               0  ...                              0   \n",
       "14335.0                               0  ...                              0   \n",
       "\n",
       "Itemname    ZINC  HEART T-LIGHT HOLDER  ZINC  STAR T-LIGHT HOLDER  \\\n",
       "CustomerID                                                          \n",
       "12426.0                              0                          0   \n",
       "12427.0                              0                          0   \n",
       "12468.0                              0                          0   \n",
       "12471.0                              0                          0   \n",
       "12472.0                              0                          0   \n",
       "...                                ...                        ...   \n",
       "13814.0                              0                          0   \n",
       "13815.0                              0                          0   \n",
       "13816.0                              0                          0   \n",
       "13817.0                              0                          0   \n",
       "14335.0                              0                          0   \n",
       "\n",
       "Itemname    ZINC BOX SIGN HOME  ZINC FOLKART SLEIGH BELLS  \\\n",
       "CustomerID                                                  \n",
       "12426.0                      0                          0   \n",
       "12427.0                      0                          0   \n",
       "12468.0                      0                          0   \n",
       "12471.0                      0                          0   \n",
       "12472.0                      0                          0   \n",
       "...                        ...                        ...   \n",
       "13814.0                      0                          0   \n",
       "13815.0                      0                          0   \n",
       "13816.0                      0                          0   \n",
       "13817.0                      0                          0   \n",
       "14335.0                      0                          0   \n",
       "\n",
       "Itemname    ZINC HEART LATTICE T-LIGHT HOLDER  ZINC METAL HEART DECORATION  \\\n",
       "CustomerID                                                                   \n",
       "12426.0                                     0                            0   \n",
       "12427.0                                     0                            0   \n",
       "12468.0                                     0                            0   \n",
       "12471.0                                     0                            0   \n",
       "12472.0                                     0                            0   \n",
       "...                                       ...                          ...   \n",
       "13814.0                                     0                            0   \n",
       "13815.0                                     0                            0   \n",
       "13816.0                                     0                            0   \n",
       "13817.0                                     0                            0   \n",
       "14335.0                                     0                            0   \n",
       "\n",
       "Itemname    ZINC T-LIGHT HOLDER STAR LARGE  ZINC T-LIGHT HOLDER STARS SMALL  \\\n",
       "CustomerID                                                                    \n",
       "12426.0                                  0                                0   \n",
       "12427.0                                  0                                0   \n",
       "12468.0                                  0                                0   \n",
       "12471.0                                  0                                0   \n",
       "12472.0                                  0                                0   \n",
       "...                                    ...                              ...   \n",
       "13814.0                                  0                                0   \n",
       "13815.0                                  0                                0   \n",
       "13816.0                                  0                                0   \n",
       "13817.0                                  0                                0   \n",
       "14335.0                                  0                                0   \n",
       "\n",
       "Itemname    ZINC WILLIE WINKIE  CANDLE STICK  \n",
       "CustomerID                                    \n",
       "12426.0                                    0  \n",
       "12427.0                                    0  \n",
       "12468.0                                    0  \n",
       "12471.0                                    0  \n",
       "12472.0                                    0  \n",
       "...                                      ...  \n",
       "13814.0                                    0  \n",
       "13815.0                                    0  \n",
       "13816.0                                    0  \n",
       "13817.0                                    0  \n",
       "14335.0                                    0  \n",
       "\n",
       "[94 rows x 1694 columns]"
      ]
     },
     "execution_count": 82,
     "metadata": {},
     "output_type": "execute_result"
    }
   ],
   "source": [
    "# Using the print() function\n",
    "print(mybasket_sets)\n",
    "\n",
    "# Directly outputting the dataset variable in a Jupyter Notebook cell\n",
    "mybasket_sets"
   ]
  },
  {
   "cell_type": "code",
   "execution_count": 29,
   "id": "e6512afb",
   "metadata": {},
   "outputs": [],
   "source": []
  },
  {
   "cell_type": "code",
   "execution_count": 61,
   "id": "ffd3cfd7",
   "metadata": {},
   "outputs": [],
   "source": []
  },
  {
   "cell_type": "code",
   "execution_count": null,
   "id": "07cfec09",
   "metadata": {},
   "outputs": [],
   "source": []
  },
  {
   "cell_type": "code",
   "execution_count": null,
   "id": "34f5bb9e",
   "metadata": {},
   "outputs": [],
   "source": [
    "# Convert index object to a list to get column names\n",
    "column_names = list(mybasket.columns)\n",
    "\n",
    "# Print the column names\n",
    "print(column_names)"
   ]
  },
  {
   "cell_type": "markdown",
   "id": "1b27d618",
   "metadata": {},
   "source": [
    "# Model Evaluation  or Validation"
   ]
  },
  {
   "cell_type": "code",
   "execution_count": 70,
   "id": "b60b1dec",
   "metadata": {},
   "outputs": [
    {
     "name": "stdout",
     "output_type": "stream",
     "text": [
      "Requirement already satisfied: mlxtend in c:\\anaconda\\lib\\site-packages (0.23.1)\n",
      "Requirement already satisfied: scipy>=1.2.1 in c:\\anaconda\\lib\\site-packages (from mlxtend) (1.11.1)\n",
      "Requirement already satisfied: numpy>=1.16.2 in c:\\anaconda\\lib\\site-packages (from mlxtend) (1.24.3)\n",
      "Requirement already satisfied: pandas>=0.24.2 in c:\\anaconda\\lib\\site-packages (from mlxtend) (2.0.3)\n",
      "Requirement already satisfied: scikit-learn>=1.0.2 in c:\\anaconda\\lib\\site-packages (from mlxtend) (1.3.0)\n",
      "Requirement already satisfied: matplotlib>=3.0.0 in c:\\anaconda\\lib\\site-packages (from mlxtend) (3.7.2)\n",
      "Requirement already satisfied: joblib>=0.13.2 in c:\\anaconda\\lib\\site-packages (from mlxtend) (1.2.0)\n",
      "Requirement already satisfied: contourpy>=1.0.1 in c:\\anaconda\\lib\\site-packages (from matplotlib>=3.0.0->mlxtend) (1.0.5)\n",
      "Requirement already satisfied: cycler>=0.10 in c:\\anaconda\\lib\\site-packages (from matplotlib>=3.0.0->mlxtend) (0.11.0)\n",
      "Requirement already satisfied: fonttools>=4.22.0 in c:\\anaconda\\lib\\site-packages (from matplotlib>=3.0.0->mlxtend) (4.25.0)\n",
      "Requirement already satisfied: kiwisolver>=1.0.1 in c:\\anaconda\\lib\\site-packages (from matplotlib>=3.0.0->mlxtend) (1.4.4)\n",
      "Requirement already satisfied: packaging>=20.0 in c:\\anaconda\\lib\\site-packages (from matplotlib>=3.0.0->mlxtend) (23.1)\n",
      "Requirement already satisfied: pillow>=6.2.0 in c:\\anaconda\\lib\\site-packages (from matplotlib>=3.0.0->mlxtend) (9.4.0)\n",
      "Requirement already satisfied: pyparsing<3.1,>=2.3.1 in c:\\anaconda\\lib\\site-packages (from matplotlib>=3.0.0->mlxtend) (3.0.9)\n",
      "Requirement already satisfied: python-dateutil>=2.7 in c:\\anaconda\\lib\\site-packages (from matplotlib>=3.0.0->mlxtend) (2.8.2)\n",
      "Requirement already satisfied: pytz>=2020.1 in c:\\anaconda\\lib\\site-packages (from pandas>=0.24.2->mlxtend) (2023.3.post1)\n",
      "Requirement already satisfied: tzdata>=2022.1 in c:\\anaconda\\lib\\site-packages (from pandas>=0.24.2->mlxtend) (2023.3)\n",
      "Requirement already satisfied: threadpoolctl>=2.0.0 in c:\\anaconda\\lib\\site-packages (from scikit-learn>=1.0.2->mlxtend) (2.2.0)\n",
      "Requirement already satisfied: six>=1.5 in c:\\anaconda\\lib\\site-packages (from python-dateutil>=2.7->matplotlib>=3.0.0->mlxtend) (1.16.0)\n"
     ]
    }
   ],
   "source": [
    "! pip install mlxtend"
   ]
  },
  {
   "cell_type": "code",
   "execution_count": 71,
   "id": "010fe0b9",
   "metadata": {},
   "outputs": [],
   "source": [
    "# read the dataset\n",
    "import pandas as pd\n",
    "data = pd.read_excel(\"project_data_set.xlsx\") "
   ]
  },
  {
   "cell_type": "code",
   "execution_count": null,
   "id": "190e3667",
   "metadata": {},
   "outputs": [],
   "source": [
    "# Assuming your dataset is named 'data'\n",
    "description = data.describe()\n",
    "\n",
    "# Print the description\n",
    "print(description)"
   ]
  },
  {
   "cell_type": "code",
   "execution_count": null,
   "id": "4c4929c4",
   "metadata": {},
   "outputs": [],
   "source": []
  },
  {
   "cell_type": "code",
   "execution_count": 77,
   "id": "72180c85",
   "metadata": {},
   "outputs": [
    {
     "ename": "TypeError",
     "evalue": "'DataFrame' object is not callable",
     "output_type": "error",
     "traceback": [
      "\u001b[1;31m---------------------------------------------------------------------------\u001b[0m",
      "\u001b[1;31mTypeError\u001b[0m                                 Traceback (most recent call last)",
      "Cell \u001b[1;32mIn[77], line 4\u001b[0m\n\u001b[0;32m      1\u001b[0m \u001b[38;5;28;01mfrom\u001b[39;00m \u001b[38;5;21;01mmlxtend\u001b[39;00m\u001b[38;5;21;01m.\u001b[39;00m\u001b[38;5;21;01mfrequent_patterns\u001b[39;00m \u001b[38;5;28;01mimport\u001b[39;00m association_rules\n\u001b[0;32m      3\u001b[0m \u001b[38;5;66;03m# Generate frequent itemsets\u001b[39;00m\n\u001b[1;32m----> 4\u001b[0m my_frequent_itemsets \u001b[38;5;241m=\u001b[39m mybasket_sets()\n\u001b[0;32m      6\u001b[0m \u001b[38;5;66;03m# Convert generator object to a list of dictionaries\u001b[39;00m\n\u001b[0;32m      7\u001b[0m frequent_itemsets_list \u001b[38;5;241m=\u001b[39m \u001b[38;5;28mlist\u001b[39m(my_frequent_itemsets)\n",
      "\u001b[1;31mTypeError\u001b[0m: 'DataFrame' object is not callable"
     ]
    }
   ],
   "source": [
    "from mlxtend.frequent_patterns import association_rules\n",
    "\n",
    "# Generate frequent itemsets\n",
    "my_frequent_itemsets = mybasket_sets()\n",
    "\n",
    "# Convert generator object to a list of dictionaries\n",
    "frequent_itemsets_list = list(my_frequent_itemsets)\n",
    "\n",
    "# Convert list of dictionaries to Data\n",
    "import pandas as pd\n",
    "my_frequent_itemsets_df = pd.Data(frequent_itemsets_list)\n",
    "\n",
    "# Generating rules\n",
    "my_rules = association_rules(my_frequent_itemsets_df, metric=\"lift\", min_threshold=1)\n"
   ]
  },
  {
   "cell_type": "code",
   "execution_count": null,
   "id": "48711a45",
   "metadata": {},
   "outputs": [],
   "source": [
    " #Generating frequent itemsets\n",
    "my_frequent_itemsets = apriori(my_basket_sets, min_support = 0.07, use_colnames = True)"
   ]
  },
  {
   "cell_type": "code",
   "execution_count": null,
   "id": "ce069b7f",
   "metadata": {},
   "outputs": [],
   "source": [
    "from mlxtend.frequent_patterns import apriori\n",
    "\n",
    "# Generate frequent itemsets using the Apriori algorithm\n",
    "# Assuming my_basket_sets is your transaction data represented as a Data\n",
    "# Make sure to replace 'your_parameters' with appropriate parameters for Apriori\n",
    "my_frequent_itemsets = apriori(my_basket_sets, min_support=0.05, use_colnames=True)\n",
    "\n",
    "# Print the frequent itemsets\n",
    "print(my_frequent_itemsets)"
   ]
  },
  {
   "cell_type": "code",
   "execution_count": null,
   "id": "efc15f8b",
   "metadata": {
    "execution": {
     "iopub.execute_input": "2024-04-04T06:36:21.036763Z",
     "iopub.status.busy": "2024-04-04T06:36:21.036351Z",
     "iopub.status.idle": "2024-04-04T06:36:21.043769Z",
     "shell.execute_reply": "2024-04-04T06:36:21.042660Z"
    },
    "papermill": {
     "duration": 0.025526,
     "end_time": "2024-04-04T06:36:21.046329",
     "exception": false,
     "start_time": "2024-04-04T06:36:21.020803",
     "status": "completed"
    },
    "tags": []
   },
   "outputs": [],
   "source": [
    "def inspect(results):\n",
    "    lhs=[tuple(result[2][0][0])[0] for result in results]\n",
    "    rhs=[tuple(result[2][0][1])[0] for result in results]\n",
    "    supports=[result[1] for result in results]\n",
    "    confidences=[result[2][0][2] for result in results]\n",
    "    lifts=[result[2][0][3] for result in results]\n",
    "\n",
    "    return list(zip(lhs,rhs,supports,confidences,lifts))"
   ]
  },
  {
   "cell_type": "code",
   "execution_count": null,
   "id": "d0011579",
   "metadata": {
    "execution": {
     "iopub.execute_input": "2024-04-04T06:36:21.077222Z",
     "iopub.status.busy": "2024-04-04T06:36:21.076854Z",
     "iopub.status.idle": "2024-04-04T06:36:21.109281Z",
     "shell.execute_reply": "2024-04-04T06:36:21.108258Z"
    },
    "papermill": {
     "duration": 0.050957,
     "end_time": "2024-04-04T06:36:21.112138",
     "exception": false,
     "start_time": "2024-04-04T06:36:21.061181",
     "status": "completed"
    },
    "tags": []
   },
   "outputs": [],
   "source": [
    "result=pd.DataFrame(inspect(results),columns=['Left Hand Side','Right Hand Side','Support','Confidence','Lift'])"
   ]
  },
  {
   "cell_type": "code",
   "execution_count": null,
   "id": "83c4cf67",
   "metadata": {
    "execution": {
     "iopub.execute_input": "2024-04-04T06:36:21.208337Z",
     "iopub.status.busy": "2024-04-04T06:36:21.207551Z",
     "iopub.status.idle": "2024-04-04T06:36:21.225910Z",
     "shell.execute_reply": "2024-04-04T06:36:21.224841Z"
    },
    "papermill": {
     "duration": 0.101335,
     "end_time": "2024-04-04T06:36:21.228226",
     "exception": false,
     "start_time": "2024-04-04T06:36:21.126891",
     "status": "completed"
    },
    "tags": []
   },
   "outputs": [],
   "source": [
    "result.sort_values(by='Confidence',ascending=False)"
   ]
  },
  {
   "cell_type": "markdown",
   "id": "a02dacae",
   "metadata": {
    "papermill": {
     "duration": 0.014375,
     "end_time": "2024-04-04T06:36:21.258020",
     "exception": false,
     "start_time": "2024-04-04T06:36:21.243645",
     "status": "completed"
    },
    "tags": []
   },
   "source": [
    "<b style='font-size:18px'>The above data frame says that if a person bought a product in Left Hand Side, with some confidence he bought product from Right Hand Side.</b>"
   ]
  }
 ],
 "metadata": {
  "kaggle": {
   "accelerator": "none",
   "dataSources": [
    {
     "datasetId": 1779990,
     "sourceId": 2904404,
     "sourceType": "datasetVersion"
    }
   ],
   "dockerImageVersionId": 30673,
   "isGpuEnabled": false,
   "isInternetEnabled": true,
   "language": "python",
   "sourceType": "notebook"
  },
  "kernelspec": {
   "display_name": "Python 3 (ipykernel)",
   "language": "python",
   "name": "python3"
  },
  "language_info": {
   "codemirror_mode": {
    "name": "ipython",
    "version": 3
   },
   "file_extension": ".py",
   "mimetype": "text/x-python",
   "name": "python",
   "nbconvert_exporter": "python",
   "pygments_lexer": "ipython3",
   "version": "3.11.5"
  },
  "papermill": {
   "default_parameters": {},
   "duration": 938.156978,
   "end_time": "2024-04-04T06:36:22.125613",
   "environment_variables": {},
   "exception": null,
   "input_path": "__notebook__.ipynb",
   "output_path": "__notebook__.ipynb",
   "parameters": {},
   "start_time": "2024-04-04T06:20:43.968635",
   "version": "2.5.0"
  }
 },
 "nbformat": 4,
 "nbformat_minor": 5
}
